{
 "cells": [
  {
   "cell_type": "code",
   "execution_count": 49,
   "metadata": {
    "collapsed": false
   },
   "outputs": [
    {
     "data": {
      "text/html": [
       "<iframe id=\"plot\" width=\"640\" height=\"480\" frameborder=\"0\" seamless=\"seamless\" scrolling=\"no\" src=\"https://plot.ly/~Dreamshot/626\" ></iframe>\n",
       "\n",
       "%%JS\n",
       "// Grab the embed's contentWindow by the iframe id\n",
       "var plot = document.getElementById('plot').contentWindow;\n",
       "\n",
       "// send a message to the contentWindow\n",
       "plot.postMessage(\n",
       "    {\n",
       "        task: 'listen',\n",
       "        events: ['zoom','click','hover']\n",
       "    }, 'https://plot.ly');\n",
       "\n",
       "window.addEventListener('message', function(e) {\n",
       "    var message = e.data;\n",
       "    alert(message.type);\n",
       "    console.log(message); // prints object for zoom, click, or hover event\n",
       "});\n",
       "\n",
       "var X, Y, X1, Y1;\n",
       "\n",
       "// get current x, y data\n",
       "plot.postMessage({\n",
       "    task: 'getAttributes',\n",
       "    attributes: [\n",
       "        'data[0].x','data[0].y',\n",
       "        'data[1].x','data[1].y'\n",
       "    ] },\n",
       "    'https://plot.ly/');\n",
       "\n",
       "window.addEventListener('message', function(e) {\n",
       "    var message = e.data;\n",
       "    X = message.response['data[0].x'];\n",
       "    Y = message.response['data[0].y'];\n",
       "    X1 = message.response['data[1].x'];\n",
       "    Y1 = message.response['data[1].y']; \n",
       "});\n"
      ],
      "text/plain": [
       "<IPython.core.display.HTML object>"
      ]
     },
     "metadata": {},
     "output_type": "display_data"
    }
   ],
   "source": [
    "%%HTML\n",
    "<iframe id=\"plot\" width=\"640\" height=\"480\" frameborder=\"0\" seamless=\"seamless\" scrolling=\"no\" src=\"https://plot.ly/~Dreamshot/626\" ></iframe>\n",
    "\n",
    "\n"
   ]
  },
  {
   "cell_type": "code",
   "execution_count": 51,
   "metadata": {
    "collapsed": false
   },
   "outputs": [
    {
     "name": "stderr",
     "output_type": "stream",
     "text": [
      "ERROR:root:Cell magic `%%Javascript` not found.\n"
     ]
    }
   ],
   "source": [
    "%%Javascript\n",
    "// Grab the embed's contentWindow by the iframe id\n",
    "var plot = document.getElementById('plot').contentWindow;\n",
    "\n",
    "// send a message to the contentWindow\n",
    "plot.postMessage(\n",
    "    {\n",
    "        task: 'listen',\n",
    "        events: ['zoom','click','hover']\n",
    "    }, 'https://plot.ly');\n",
    "\n",
    "window.addEventListener('message', function(e) {\n",
    "    var message = e.data;\n",
    "    alert(message.type);\n",
    "    console.log(message); // prints object for zoom, click, or hover event\n",
    "});\n",
    "\n",
    "var X, Y, X1, Y1;\n",
    "\n",
    "// get current x, y data\n",
    "plot.postMessage({\n",
    "    task: 'getAttributes',\n",
    "    attributes: [\n",
    "        'data[0].x','data[0].y',\n",
    "        'data[1].x','data[1].y'\n",
    "    ] },\n",
    "    'https://plot.ly/');\n",
    "\n",
    "window.addEventListener('message', function(e) {\n",
    "    var message = e.data;\n",
    "    X = message.response['data[0].x'];\n",
    "    Y = message.response['data[0].y'];\n",
    "    X1 = message.response['data[1].x'];\n",
    "    Y1 = message.response['data[1].y']; \n",
    "});\n"
   ]
  },
  {
   "cell_type": "code",
   "execution_count": 53,
   "metadata": {
    "collapsed": false
   },
   "outputs": [
    {
     "data": {
      "text/html": [
       "\n",
       "<form name=\"myForm\">\n",
       "     <input type=\"radio\" name=\"rads\"  value=\"red\" />Red\n",
       "     <input type=\"radio\" name=\"rads\"  value=\"green\" />Green\n",
       "     <input type=\"radio\" name=\"rads\"  value=\"blue\" />Blue\n",
       "</form>\n",
       "\n",
       "<iframe id=\"iplot\" width=\"640\" height=\"480\" frameborder=\"0\" seamless=\"seamless\" scrolling=\"no\" src=\"https://plot.ly/~Dreamshot/626\" ></iframe>\n",
       "\n",
       "<script type=\"text/Javascript\">\n",
       "var plot, type;\n",
       "var rad = document.myForm.rads;\n",
       "var prev = null;\n",
       "\n",
       "for(var i = 0; i < rad.length; i++) {\n",
       "    rad[i].onclick = function() {\n",
       "        (prev)? console.log(prev.value):null;\n",
       "        if(this !== prev) { prev = this; }\n",
       "        color = this.value;\n",
       "        plot = document.getElementById('iplot').contentWindow;\n",
       "        // send a message to the contentWindow\n",
       "        plot.postMessage(\n",
       "        {\n",
       "            'task': 'restyle',\n",
       "            'update': {'fillcolor': color},\n",
       "            'indices': [1]\n",
       "        },\n",
       "        'https://plot.ly');\n",
       "    };\n",
       "}\n",
       "\n",
       "plot.postMessage({\n",
       "    task: 'newPlot',\n",
       "    data: [{y: [2, 5, 1, 2], type: 'bar'}, {y: [2, 5, 1, 2], type: 'scatter'}],\n",
       "    layout: {title: 'new plot'}\n",
       "}, 'https://plot.ly');\n",
       "\n",
       "</script>"
      ],
      "text/plain": [
       "<IPython.core.display.HTML object>"
      ]
     },
     "metadata": {},
     "output_type": "display_data"
    }
   ],
   "source": [
    "%%HTML\n",
    "\n",
    "<form name=\"myForm\">\n",
    "     <input type=\"radio\" name=\"rads\"  value=\"red\" />Red\n",
    "     <input type=\"radio\" name=\"rads\"  value=\"green\" />Green\n",
    "     <input type=\"radio\" name=\"rads\"  value=\"blue\" />Blue\n",
    "</form>\n",
    "\n",
    "<iframe id=\"iplot\" width=\"640\" height=\"480\" frameborder=\"0\" seamless=\"seamless\" scrolling=\"no\" src=\"https://plot.ly/~Dreamshot/626\" ></iframe>\n",
    "\n",
    "<script type=\"text/Javascript\">\n",
    "var plot, type;\n",
    "var rad = document.myForm.rads;\n",
    "var prev = null;\n",
    "\n",
    "for(var i = 0; i < rad.length; i++) {\n",
    "    rad[i].onclick = function() {\n",
    "        (prev)? console.log(prev.value):null;\n",
    "        if(this !== prev) { prev = this; }\n",
    "        color = this.value;\n",
    "        plot = document.getElementById('iplot').contentWindow;\n",
    "        // send a message to the contentWindow\n",
    "        plot.postMessage(\n",
    "        {\n",
    "            'task': 'restyle',\n",
    "            'update': {'fillcolor': color},\n",
    "            'indices': [1]\n",
    "        },\n",
    "        'https://plot.ly');\n",
    "    };\n",
    "}\n",
    "\n",
    "plot.postMessage({\n",
    "    task: 'newPlot',\n",
    "    data: [{y: [2, 5, 1, 2], type: 'bar'}, {y: [2, 5, 1, 2], type: 'scatter'}],\n",
    "    layout: {title: 'new plot'}\n",
    "}, 'https://plot.ly');\n",
    "\n",
    "</script>"
   ]
  },
  {
   "cell_type": "code",
   "execution_count": 58,
   "metadata": {
    "collapsed": true
   },
   "outputs": [],
   "source": [
    "from sklearn.datasets import load_iris\n",
    "iris = load_iris()\n",
    "\n",
    "attr = [f.replace(' (cm)', '') for f in iris.feature_names]\n",
    "colors = {'setosa': 'rgb(31, 119, 180)', \n",
    "          'versicolor': 'rgb(255, 127, 14)', \n",
    "          'virginica': 'rgb(44, 160, 44)'}\n",
    "\n",
    "data = []\n",
    "for i in range(4):\n",
    "    for j in range(4):\n",
    "        for t,flower in enumerate(iris.target_names):\n",
    "            data.append({\"name\": flower, \n",
    "                         \"x\": iris.data[iris.target == t,i],\n",
    "                         \"y\": iris.data[iris.target == t,j],\n",
    "                         \"type\":\"scatter\", \"mode\":\"markers\",\n",
    "                         'marker': {'color': colors[flower], \n",
    "                                    'opacity':0.7},\n",
    "                         \"xaxis\": \"x\"+(str(i) if i!=0 else ''),\n",
    "                         \"yaxis\": \"y\"+(str(j) if j!=0 else '')})"
   ]
  },
  {
   "cell_type": "code",
   "execution_count": 59,
   "metadata": {
    "collapsed": true
   },
   "outputs": [],
   "source": [
    "d = 0.04; # padding\n",
    "dms = [[i*d+i*(1-3*d)/4,i*d+((i+1)*(1-3*d)/4)] for i in range(4)]\n",
    "\n",
    "layout = {\n",
    "    \"xaxis\":{\"domain\":dms[0], \"title\":attr[0], \n",
    "             'zeroline':False,'showline':False},\n",
    "    \"yaxis\":{\"domain\":dms[0], \"title\":attr[0], \n",
    "             'zeroline':False,'showline':False},\n",
    "    \"xaxis1\":{\"domain\":dms[1], \"title\":attr[1], \n",
    "              'zeroline':False,'showline':False},\n",
    "    \"yaxis1\":{\"domain\":dms[1], \"title\":attr[1], \n",
    "              'zeroline':False,'showline':False},\n",
    "    \"xaxis2\":{\"domain\":dms[2], \"title\":attr[2], \n",
    "              'zeroline':False,'showline':False},\n",
    "    \"yaxis2\":{\"domain\":dms[2], \"title\":attr[2], \n",
    "              'zeroline':False,'showline':False},\n",
    "    \"xaxis3\":{\"domain\":dms[3], \"title\":attr[3], \n",
    "              'zeroline':False,'showline':False},\n",
    "    \"yaxis3\":{\"domain\":dms[3], \"title\":attr[3], \n",
    "              'zeroline':False,'showline':False},\n",
    "    \"showlegend\":False,\n",
    "    \"width\": 500,\n",
    "    \"height\": 550,\n",
    "    \"title\":\"Iris flower data set\",\n",
    "    \"titlefont\":{'color':'rgb(67,67,67)', 'size': 20}\n",
    "    }"
   ]
  },
  {
   "cell_type": "code",
   "execution_count": 62,
   "metadata": {
    "collapsed": false
   },
   "outputs": [],
   "source": [
    "import plotly\n",
    "import plotly.plotly as py\n",
    "#p = plotly.plotly('supersexyusername', 'mysecretkey')\n",
    "# iplot shows the graph in the ipython notebook\n",
    "# use plot if you're outside of the notebook\n",
    "#py.iplot(data,layout=layout, width=500,height=550)\n",
    "\n",
    "url_1 = py.plot({'data': data, 'layout': layout}, filename=\"iris\", auto_open=True)"
   ]
  },
  {
   "cell_type": "code",
   "execution_count": null,
   "metadata": {
    "collapsed": true
   },
   "outputs": [],
   "source": []
  }
 ],
 "metadata": {
  "kernelspec": {
   "display_name": "Python [conda root]",
   "language": "python",
   "name": "conda-root-py"
  },
  "language_info": {
   "codemirror_mode": {
    "name": "ipython",
    "version": 3
   },
   "file_extension": ".py",
   "mimetype": "text/x-python",
   "name": "python",
   "nbconvert_exporter": "python",
   "pygments_lexer": "ipython3",
   "version": "3.5.2"
  }
 },
 "nbformat": 4,
 "nbformat_minor": 1
}
