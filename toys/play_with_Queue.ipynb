{
 "cells": [
  {
   "cell_type": "code",
   "execution_count": 20,
   "metadata": {
    "collapsed": false
   },
   "outputs": [
    {
     "name": "stdout",
     "output_type": "stream",
     "text": [
      "0\n",
      "2017-07-10 13:45:10.429750\n",
      "[[ 1.  1.  1.  1.  1.  1.  1.  1.  1.  1.]]\n",
      "1\n",
      "2017-07-10 13:45:10.429750\n",
      "[[ 1.  1.  1.  1.  1.  1.  1.  1.  1.  1.]]\n",
      "2\n",
      "2017-07-10 13:45:10.429750\n",
      "[[ 1.  1.  1.  1.  1.  1.  1.  1.  1.  1.]]\n",
      "3\n",
      "2017-07-10 13:45:10.429750\n",
      "[[ 1.  1.  1.  1.  1.  1.  1.  1.  1.  1.]]\n",
      "4\n",
      "2017-07-10 13:45:10.429750\n",
      "[[ 1.  1.  1.  1.  1.  1.  1.  1.  1.  1.]]\n"
     ]
    }
   ],
   "source": [
    "import queue\n",
    "import numpy as np\n",
    "import datetime\n",
    "\n",
    "q = queue.Queue()\n",
    "im = np.ones((1,10))\n",
    "#data = list()\n",
    "\n",
    "\n",
    "for i in range(5):\n",
    "    q.put([i,datetime.datetime.now(),im])\n",
    "\n",
    "while not q.empty():\n",
    "    i,now,im = q.get()\n",
    "    print(i)\n",
    "    print(now)\n",
    "    print(im)"
   ]
  },
  {
   "cell_type": "code",
   "execution_count": 22,
   "metadata": {
    "collapsed": true
   },
   "outputs": [],
   "source": [
    "def get_primes(number):\n",
    "    while True:\n",
    "        if is_prime(number):\n",
    "            yield number\n",
    "        number += 1"
   ]
  },
  {
   "cell_type": "code",
   "execution_count": 28,
   "metadata": {
    "collapsed": false
   },
   "outputs": [],
   "source": [
    "#generator = np.array(10)\n",
    "detector = get_primes(1)"
   ]
  },
  {
   "cell_type": "code",
   "execution_count": 29,
   "metadata": {
    "collapsed": false
   },
   "outputs": [
    {
     "name": "stdout",
     "output_type": "stream",
     "text": [
      "<generator object get_primes at 0x0000000006878410>\n"
     ]
    }
   ],
   "source": [
    "print(detector)"
   ]
  },
  {
   "cell_type": "code",
   "execution_count": null,
   "metadata": {
    "collapsed": true
   },
   "outputs": [],
   "source": []
  }
 ],
 "metadata": {
  "kernelspec": {
   "display_name": "Python [conda root]",
   "language": "python",
   "name": "conda-root-py"
  },
  "language_info": {
   "codemirror_mode": {
    "name": "ipython",
    "version": 3
   },
   "file_extension": ".py",
   "mimetype": "text/x-python",
   "name": "python",
   "nbconvert_exporter": "python",
   "pygments_lexer": "ipython3",
   "version": "3.5.2"
  }
 },
 "nbformat": 4,
 "nbformat_minor": 2
}
