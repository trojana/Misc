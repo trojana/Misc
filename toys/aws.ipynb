{
 "cells": [
  {
   "cell_type": "code",
   "execution_count": 1,
   "metadata": {
    "collapsed": false
   },
   "outputs": [
    {
     "ename": "NoRegionError",
     "evalue": "You must specify a region.",
     "output_type": "error",
     "traceback": [
      "\u001b[0;31m---------------------------------------------------------------------------\u001b[0m",
      "\u001b[0;31mNoRegionError\u001b[0m                             Traceback (most recent call last)",
      "\u001b[0;32m<ipython-input-1-639e9efbe25d>\u001b[0m in \u001b[0;36m<module>\u001b[0;34m()\u001b[0m\n\u001b[1;32m      5\u001b[0m \u001b[0mtargetImageName\u001b[0m  \u001b[1;33m=\u001b[0m \u001b[1;34m'IMG_20170214_195303.jpg'\u001b[0m\u001b[1;33m\u001b[0m\u001b[0m\n\u001b[1;32m      6\u001b[0m \u001b[1;33m\u001b[0m\u001b[0m\n\u001b[0;32m----> 7\u001b[0;31m \u001b[0mclient\u001b[0m \u001b[1;33m=\u001b[0m \u001b[0mboto3\u001b[0m\u001b[1;33m.\u001b[0m\u001b[0mclient\u001b[0m\u001b[1;33m(\u001b[0m\u001b[1;34m'rekognition'\u001b[0m\u001b[1;33m)\u001b[0m\u001b[1;33m\u001b[0m\u001b[0m\n\u001b[0m\u001b[1;32m      8\u001b[0m '''\n\u001b[1;32m      9\u001b[0m reko = client.detect_faces(\n",
      "\u001b[0;32mC:\\Users\\E411208\\AppData\\Local\\Continuum\\Anaconda3\\lib\\site-packages\\boto3\\__init__.py\u001b[0m in \u001b[0;36mclient\u001b[0;34m(*args, **kwargs)\u001b[0m\n\u001b[1;32m     81\u001b[0m     \u001b[0mSee\u001b[0m \u001b[1;33m:\u001b[0m\u001b[0mpy\u001b[0m\u001b[1;33m:\u001b[0m\u001b[0mmeth\u001b[0m\u001b[1;33m:\u001b[0m\u001b[0;31m`\u001b[0m\u001b[0mboto3\u001b[0m\u001b[1;33m.\u001b[0m\u001b[0msession\u001b[0m\u001b[1;33m.\u001b[0m\u001b[0mSession\u001b[0m\u001b[1;33m.\u001b[0m\u001b[0mclient\u001b[0m\u001b[0;31m`\u001b[0m\u001b[1;33m.\u001b[0m\u001b[1;33m\u001b[0m\u001b[0m\n\u001b[1;32m     82\u001b[0m     \"\"\"\n\u001b[0;32m---> 83\u001b[0;31m     \u001b[1;32mreturn\u001b[0m \u001b[0m_get_default_session\u001b[0m\u001b[1;33m(\u001b[0m\u001b[1;33m)\u001b[0m\u001b[1;33m.\u001b[0m\u001b[0mclient\u001b[0m\u001b[1;33m(\u001b[0m\u001b[1;33m*\u001b[0m\u001b[0margs\u001b[0m\u001b[1;33m,\u001b[0m \u001b[1;33m**\u001b[0m\u001b[0mkwargs\u001b[0m\u001b[1;33m)\u001b[0m\u001b[1;33m\u001b[0m\u001b[0m\n\u001b[0m\u001b[1;32m     84\u001b[0m \u001b[1;33m\u001b[0m\u001b[0m\n\u001b[1;32m     85\u001b[0m \u001b[1;33m\u001b[0m\u001b[0m\n",
      "\u001b[0;32mC:\\Users\\E411208\\AppData\\Local\\Continuum\\Anaconda3\\lib\\site-packages\\boto3\\session.py\u001b[0m in \u001b[0;36mclient\u001b[0;34m(self, service_name, region_name, api_version, use_ssl, verify, endpoint_url, aws_access_key_id, aws_secret_access_key, aws_session_token, config)\u001b[0m\n\u001b[1;32m    261\u001b[0m             \u001b[0maws_access_key_id\u001b[0m\u001b[1;33m=\u001b[0m\u001b[0maws_access_key_id\u001b[0m\u001b[1;33m,\u001b[0m\u001b[1;33m\u001b[0m\u001b[0m\n\u001b[1;32m    262\u001b[0m             \u001b[0maws_secret_access_key\u001b[0m\u001b[1;33m=\u001b[0m\u001b[0maws_secret_access_key\u001b[0m\u001b[1;33m,\u001b[0m\u001b[1;33m\u001b[0m\u001b[0m\n\u001b[0;32m--> 263\u001b[0;31m             aws_session_token=aws_session_token, config=config)\n\u001b[0m\u001b[1;32m    264\u001b[0m \u001b[1;33m\u001b[0m\u001b[0m\n\u001b[1;32m    265\u001b[0m     def resource(self, service_name, region_name=None, api_version=None,\n",
      "\u001b[0;32mC:\\Users\\E411208\\AppData\\Local\\Continuum\\Anaconda3\\lib\\site-packages\\botocore\\session.py\u001b[0m in \u001b[0;36mcreate_client\u001b[0;34m(self, service_name, region_name, api_version, use_ssl, verify, endpoint_url, aws_access_key_id, aws_secret_access_key, aws_session_token, config)\u001b[0m\n\u001b[1;32m    834\u001b[0m             \u001b[0mis_secure\u001b[0m\u001b[1;33m=\u001b[0m\u001b[0muse_ssl\u001b[0m\u001b[1;33m,\u001b[0m \u001b[0mendpoint_url\u001b[0m\u001b[1;33m=\u001b[0m\u001b[0mendpoint_url\u001b[0m\u001b[1;33m,\u001b[0m \u001b[0mverify\u001b[0m\u001b[1;33m=\u001b[0m\u001b[0mverify\u001b[0m\u001b[1;33m,\u001b[0m\u001b[1;33m\u001b[0m\u001b[0m\n\u001b[1;32m    835\u001b[0m             \u001b[0mcredentials\u001b[0m\u001b[1;33m=\u001b[0m\u001b[0mcredentials\u001b[0m\u001b[1;33m,\u001b[0m \u001b[0mscoped_config\u001b[0m\u001b[1;33m=\u001b[0m\u001b[0mself\u001b[0m\u001b[1;33m.\u001b[0m\u001b[0mget_scoped_config\u001b[0m\u001b[1;33m(\u001b[0m\u001b[1;33m)\u001b[0m\u001b[1;33m,\u001b[0m\u001b[1;33m\u001b[0m\u001b[0m\n\u001b[0;32m--> 836\u001b[0;31m             client_config=config, api_version=api_version)\n\u001b[0m\u001b[1;32m    837\u001b[0m         \u001b[1;32mreturn\u001b[0m \u001b[0mclient\u001b[0m\u001b[1;33m\u001b[0m\u001b[0m\n\u001b[1;32m    838\u001b[0m \u001b[1;33m\u001b[0m\u001b[0m\n",
      "\u001b[0;32mC:\\Users\\E411208\\AppData\\Local\\Continuum\\Anaconda3\\lib\\site-packages\\botocore\\client.py\u001b[0m in \u001b[0;36mcreate_client\u001b[0;34m(self, service_name, region_name, is_secure, endpoint_url, verify, credentials, scoped_config, api_version, client_config)\u001b[0m\n\u001b[1;32m     68\u001b[0m         client_args = self._get_client_args(\n\u001b[1;32m     69\u001b[0m             \u001b[0mservice_model\u001b[0m\u001b[1;33m,\u001b[0m \u001b[0mregion_name\u001b[0m\u001b[1;33m,\u001b[0m \u001b[0mis_secure\u001b[0m\u001b[1;33m,\u001b[0m \u001b[0mendpoint_url\u001b[0m\u001b[1;33m,\u001b[0m\u001b[1;33m\u001b[0m\u001b[0m\n\u001b[0;32m---> 70\u001b[0;31m             verify, credentials, scoped_config, client_config, endpoint_bridge)\n\u001b[0m\u001b[1;32m     71\u001b[0m         \u001b[0mservice_client\u001b[0m \u001b[1;33m=\u001b[0m \u001b[0mcls\u001b[0m\u001b[1;33m(\u001b[0m\u001b[1;33m**\u001b[0m\u001b[0mclient_args\u001b[0m\u001b[1;33m)\u001b[0m\u001b[1;33m\u001b[0m\u001b[0m\n\u001b[1;32m     72\u001b[0m         \u001b[0mself\u001b[0m\u001b[1;33m.\u001b[0m\u001b[0m_register_s3_events\u001b[0m\u001b[1;33m(\u001b[0m\u001b[0mservice_client\u001b[0m\u001b[1;33m,\u001b[0m \u001b[0mendpoint_bridge\u001b[0m\u001b[1;33m,\u001b[0m \u001b[0mendpoint_url\u001b[0m\u001b[1;33m)\u001b[0m\u001b[1;33m\u001b[0m\u001b[0m\n",
      "\u001b[0;32mC:\\Users\\E411208\\AppData\\Local\\Continuum\\Anaconda3\\lib\\site-packages\\botocore\\client.py\u001b[0m in \u001b[0;36m_get_client_args\u001b[0;34m(self, service_model, region_name, is_secure, endpoint_url, verify, credentials, scoped_config, client_config, endpoint_bridge)\u001b[0m\n\u001b[1;32m    222\u001b[0m         return args_creator.get_client_args(\n\u001b[1;32m    223\u001b[0m             \u001b[0mservice_model\u001b[0m\u001b[1;33m,\u001b[0m \u001b[0mregion_name\u001b[0m\u001b[1;33m,\u001b[0m \u001b[0mis_secure\u001b[0m\u001b[1;33m,\u001b[0m \u001b[0mendpoint_url\u001b[0m\u001b[1;33m,\u001b[0m\u001b[1;33m\u001b[0m\u001b[0m\n\u001b[0;32m--> 224\u001b[0;31m             verify, credentials, scoped_config, client_config, endpoint_bridge)\n\u001b[0m\u001b[1;32m    225\u001b[0m \u001b[1;33m\u001b[0m\u001b[0m\n\u001b[1;32m    226\u001b[0m     \u001b[1;32mdef\u001b[0m \u001b[0m_create_methods\u001b[0m\u001b[1;33m(\u001b[0m\u001b[0mself\u001b[0m\u001b[1;33m,\u001b[0m \u001b[0mservice_model\u001b[0m\u001b[1;33m)\u001b[0m\u001b[1;33m:\u001b[0m\u001b[1;33m\u001b[0m\u001b[0m\n",
      "\u001b[0;32mC:\\Users\\E411208\\AppData\\Local\\Continuum\\Anaconda3\\lib\\site-packages\\botocore\\args.py\u001b[0m in \u001b[0;36mget_client_args\u001b[0;34m(self, service_model, region_name, is_secure, endpoint_url, verify, credentials, scoped_config, client_config, endpoint_bridge)\u001b[0m\n\u001b[1;32m     43\u001b[0m         final_args = self.compute_client_args(\n\u001b[1;32m     44\u001b[0m             \u001b[0mservice_model\u001b[0m\u001b[1;33m,\u001b[0m \u001b[0mclient_config\u001b[0m\u001b[1;33m,\u001b[0m \u001b[0mendpoint_bridge\u001b[0m\u001b[1;33m,\u001b[0m \u001b[0mregion_name\u001b[0m\u001b[1;33m,\u001b[0m\u001b[1;33m\u001b[0m\u001b[0m\n\u001b[0;32m---> 45\u001b[0;31m             endpoint_url, is_secure, scoped_config)\n\u001b[0m\u001b[1;32m     46\u001b[0m \u001b[1;33m\u001b[0m\u001b[0m\n\u001b[1;32m     47\u001b[0m         \u001b[0mservice_name\u001b[0m \u001b[1;33m=\u001b[0m \u001b[0mfinal_args\u001b[0m\u001b[1;33m[\u001b[0m\u001b[1;34m'service_name'\u001b[0m\u001b[1;33m]\u001b[0m\u001b[1;33m\u001b[0m\u001b[0m\n",
      "\u001b[0;32mC:\\Users\\E411208\\AppData\\Local\\Continuum\\Anaconda3\\lib\\site-packages\\botocore\\args.py\u001b[0m in \u001b[0;36mcompute_client_args\u001b[0;34m(self, service_model, client_config, endpoint_bridge, region_name, endpoint_url, is_secure, scoped_config)\u001b[0m\n\u001b[1;32m    101\u001b[0m \u001b[1;33m\u001b[0m\u001b[0m\n\u001b[1;32m    102\u001b[0m         endpoint_config = endpoint_bridge.resolve(\n\u001b[0;32m--> 103\u001b[0;31m             service_name, region_name, endpoint_url, is_secure)\n\u001b[0m\u001b[1;32m    104\u001b[0m \u001b[1;33m\u001b[0m\u001b[0m\n\u001b[1;32m    105\u001b[0m         \u001b[1;31m# Override the user agent if specified in the client config.\u001b[0m\u001b[1;33m\u001b[0m\u001b[1;33m\u001b[0m\u001b[0m\n",
      "\u001b[0;32mC:\\Users\\E411208\\AppData\\Local\\Continuum\\Anaconda3\\lib\\site-packages\\botocore\\client.py\u001b[0m in \u001b[0;36mresolve\u001b[0;34m(self, service_name, region_name, endpoint_url, is_secure)\u001b[0m\n\u001b[1;32m    295\u001b[0m         \u001b[0mregion_name\u001b[0m \u001b[1;33m=\u001b[0m \u001b[0mself\u001b[0m\u001b[1;33m.\u001b[0m\u001b[0m_check_default_region\u001b[0m\u001b[1;33m(\u001b[0m\u001b[0mservice_name\u001b[0m\u001b[1;33m,\u001b[0m \u001b[0mregion_name\u001b[0m\u001b[1;33m)\u001b[0m\u001b[1;33m\u001b[0m\u001b[0m\n\u001b[1;32m    296\u001b[0m         resolved = self.endpoint_resolver.construct_endpoint(\n\u001b[0;32m--> 297\u001b[0;31m             service_name, region_name)\n\u001b[0m\u001b[1;32m    298\u001b[0m         \u001b[1;32mif\u001b[0m \u001b[0mresolved\u001b[0m\u001b[1;33m:\u001b[0m\u001b[1;33m\u001b[0m\u001b[0m\n\u001b[1;32m    299\u001b[0m             return self._create_endpoint(\n",
      "\u001b[0;32mC:\\Users\\E411208\\AppData\\Local\\Continuum\\Anaconda3\\lib\\site-packages\\botocore\\regions.py\u001b[0m in \u001b[0;36mconstruct_endpoint\u001b[0;34m(self, service_name, region_name)\u001b[0m\n\u001b[1;32m    120\u001b[0m         \u001b[1;32mfor\u001b[0m \u001b[0mpartition\u001b[0m \u001b[1;32min\u001b[0m \u001b[0mself\u001b[0m\u001b[1;33m.\u001b[0m\u001b[0m_endpoint_data\u001b[0m\u001b[1;33m[\u001b[0m\u001b[1;34m'partitions'\u001b[0m\u001b[1;33m]\u001b[0m\u001b[1;33m:\u001b[0m\u001b[1;33m\u001b[0m\u001b[0m\n\u001b[1;32m    121\u001b[0m             result = self._endpoint_for_partition(\n\u001b[0;32m--> 122\u001b[0;31m                 partition, service_name, region_name)\n\u001b[0m\u001b[1;32m    123\u001b[0m             \u001b[1;32mif\u001b[0m \u001b[0mresult\u001b[0m\u001b[1;33m:\u001b[0m\u001b[1;33m\u001b[0m\u001b[0m\n\u001b[1;32m    124\u001b[0m                 \u001b[1;32mreturn\u001b[0m \u001b[0mresult\u001b[0m\u001b[1;33m\u001b[0m\u001b[0m\n",
      "\u001b[0;32mC:\\Users\\E411208\\AppData\\Local\\Continuum\\Anaconda3\\lib\\site-packages\\botocore\\regions.py\u001b[0m in \u001b[0;36m_endpoint_for_partition\u001b[0;34m(self, partition, service_name, region_name)\u001b[0m\n\u001b[1;32m    133\u001b[0m                 \u001b[0mregion_name\u001b[0m \u001b[1;33m=\u001b[0m \u001b[0mservice_data\u001b[0m\u001b[1;33m[\u001b[0m\u001b[1;34m'partitionEndpoint'\u001b[0m\u001b[1;33m]\u001b[0m\u001b[1;33m\u001b[0m\u001b[0m\n\u001b[1;32m    134\u001b[0m             \u001b[1;32melse\u001b[0m\u001b[1;33m:\u001b[0m\u001b[1;33m\u001b[0m\u001b[0m\n\u001b[0;32m--> 135\u001b[0;31m                 \u001b[1;32mraise\u001b[0m \u001b[0mNoRegionError\u001b[0m\u001b[1;33m(\u001b[0m\u001b[1;33m)\u001b[0m\u001b[1;33m\u001b[0m\u001b[0m\n\u001b[0m\u001b[1;32m    136\u001b[0m         \u001b[1;31m# Attempt to resolve the exact region for this partition.\u001b[0m\u001b[1;33m\u001b[0m\u001b[1;33m\u001b[0m\u001b[0m\n\u001b[1;32m    137\u001b[0m         \u001b[1;32mif\u001b[0m \u001b[0mregion_name\u001b[0m \u001b[1;32min\u001b[0m \u001b[0mservice_data\u001b[0m\u001b[1;33m[\u001b[0m\u001b[1;34m'endpoints'\u001b[0m\u001b[1;33m]\u001b[0m\u001b[1;33m:\u001b[0m\u001b[1;33m\u001b[0m\u001b[0m\n",
      "\u001b[0;31mNoRegionError\u001b[0m: You must specify a region."
     ]
    }
   ],
   "source": [
    "import boto3\n",
    "\n",
    "BucketName = 'honeywelltrojanova'\n",
    "sourceImageName  = 'IMG_20170214_192530.jpg'\n",
    "targetImageName  = 'IMG_20170214_195303.jpg'\n",
    "\n",
    "client = boto3.client('rekognition')\n",
    "\n",
    "response = client.compare_faces(\n",
    "    SimilarityThreshold = 0.0,\n",
    "    SourceImage={\n",
    "         'S3Object': {\n",
    "            'Bucket': BucketName,\n",
    "            'Name': sourceImageName\n",
    "        }\n",
    "    },\n",
    "    TargetImage={\n",
    "        'S3Object': {\n",
    "            'Bucket': BucketName,\n",
    "            'Name': targetImageName\n",
    "        }\n",
    "    }\n",
    ")\n",
    "#print(response)\n",
    "out = (response['FaceMatches'])\n",
    "print(out[0]['Similarity'])\n"
   ]
  },
  {
   "cell_type": "code",
   "execution_count": 54,
   "metadata": {
    "collapsed": false
   },
   "outputs": [
    {
     "name": "stdout",
     "output_type": "stream",
     "text": [
      "[u'Width', u'Top', u'Left', u'Height']\n"
     ]
    }
   ],
   "source": [
    "\n",
    "print(a['BoundingBox'].keys())"
   ]
  },
  {
   "cell_type": "code",
   "execution_count": 6,
   "metadata": {
    "collapsed": false
   },
   "outputs": [
    {
     "ename": "ParamValidationError",
     "evalue": "Parameter validation failed:\nInvalid type for parameter Image.S3Object.Bucket, value: s3.ServiceResource(), type: <class 'boto3.resources.factory.s3.ServiceResource'>, valid types: <type 'basestring'>",
     "output_type": "error",
     "traceback": [
      "\u001b[0;31m---------------------------------------------------------------------------\u001b[0m",
      "\u001b[0;31mParamValidationError\u001b[0m                      Traceback (most recent call last)",
      "\u001b[0;32m<ipython-input-6-50e4f5d42a11>\u001b[0m in \u001b[0;36m<module>\u001b[0;34m()\u001b[0m\n\u001b[1;32m     18\u001b[0m \u001b[0mpolly\u001b[0m \u001b[0;34m=\u001b[0m \u001b[0mPollyApi\u001b[0m\u001b[0;34m.\u001b[0m\u001b[0mconnectToPolly\u001b[0m\u001b[0;34m(\u001b[0m\u001b[0;34m)\u001b[0m\u001b[0;34m\u001b[0m\u001b[0m\n\u001b[1;32m     19\u001b[0m \u001b[0;34m\u001b[0m\u001b[0m\n\u001b[0;32m---> 20\u001b[0;31m \u001b[0mlabels\u001b[0m \u001b[0;34m=\u001b[0m \u001b[0mapi\u001b[0m\u001b[0;34m.\u001b[0m\u001b[0mdetectLabels\u001b[0m\u001b[0;34m(\u001b[0m\u001b[0mreko\u001b[0m\u001b[0;34m,\u001b[0m \u001b[0mimageBucket\u001b[0m\u001b[0;34m,\u001b[0m \u001b[0mimage\u001b[0m\u001b[0;34m,\u001b[0m \u001b[0mmaxLabels\u001b[0m\u001b[0;34m=\u001b[0m\u001b[0;36m10\u001b[0m\u001b[0;34m,\u001b[0m \u001b[0mminConfidence\u001b[0m\u001b[0;34m=\u001b[0m\u001b[0;36m70.0\u001b[0m\u001b[0;34m)\u001b[0m\u001b[0;34m\u001b[0m\u001b[0m\n\u001b[0m\u001b[1;32m     21\u001b[0m \u001b[0mutils\u001b[0m\u001b[0;34m.\u001b[0m\u001b[0mprintLabelsInformation\u001b[0m\u001b[0;34m(\u001b[0m\u001b[0mlabels\u001b[0m\u001b[0;34m)\u001b[0m\u001b[0;34m\u001b[0m\u001b[0m\n\u001b[1;32m     22\u001b[0m \u001b[0;31m#s3.Bucket('my-bucket').put_object(Key='001150.jpg', Body=data)\u001b[0m\u001b[0;34m\u001b[0m\u001b[0;34m\u001b[0m\u001b[0m\n",
      "\u001b[0;32m/home/andy/PythonSripts/aws/rekognition/rekognitionApi.pyc\u001b[0m in \u001b[0;36mdetectLabels\u001b[0;34m(rekognition, imageBucket, imageFilename, maxLabels, minConfidence)\u001b[0m\n\u001b[1;32m     27\u001b[0m     resp = rekognition.detect_labels(\n\u001b[1;32m     28\u001b[0m         \u001b[0mImage\u001b[0m \u001b[0;34m=\u001b[0m \u001b[0;34m{\u001b[0m\u001b[0;34m\"S3Object\"\u001b[0m \u001b[0;34m:\u001b[0m \u001b[0;34m{\u001b[0m\u001b[0;34m'Bucket'\u001b[0m \u001b[0;34m:\u001b[0m \u001b[0mimageBucket\u001b[0m\u001b[0;34m,\u001b[0m \u001b[0;34m'Name'\u001b[0m \u001b[0;34m:\u001b[0m \u001b[0mimageFilename\u001b[0m\u001b[0;34m}\u001b[0m\u001b[0;34m}\u001b[0m\u001b[0;34m,\u001b[0m\u001b[0;34m\u001b[0m\u001b[0m\n\u001b[0;32m---> 29\u001b[0;31m         MaxLabels = maxLabels, MinConfidence = minConfidence)\n\u001b[0m\u001b[1;32m     30\u001b[0m     \u001b[0;32mreturn\u001b[0m \u001b[0mresp\u001b[0m\u001b[0;34m[\u001b[0m\u001b[0;34m'Labels'\u001b[0m\u001b[0;34m]\u001b[0m\u001b[0;34m\u001b[0m\u001b[0m\n",
      "\u001b[0;32m/home/andy/anaconda2/lib/python2.7/site-packages/botocore/client.pyc\u001b[0m in \u001b[0;36m_api_call\u001b[0;34m(self, *args, **kwargs)\u001b[0m\n\u001b[1;32m    251\u001b[0m                     \"%s() only accepts keyword arguments.\" % py_operation_name)\n\u001b[1;32m    252\u001b[0m             \u001b[0;31m# The \"self\" in this scope is referring to the BaseClient.\u001b[0m\u001b[0;34m\u001b[0m\u001b[0;34m\u001b[0m\u001b[0m\n\u001b[0;32m--> 253\u001b[0;31m             \u001b[0;32mreturn\u001b[0m \u001b[0mself\u001b[0m\u001b[0;34m.\u001b[0m\u001b[0m_make_api_call\u001b[0m\u001b[0;34m(\u001b[0m\u001b[0moperation_name\u001b[0m\u001b[0;34m,\u001b[0m \u001b[0mkwargs\u001b[0m\u001b[0;34m)\u001b[0m\u001b[0;34m\u001b[0m\u001b[0m\n\u001b[0m\u001b[1;32m    254\u001b[0m \u001b[0;34m\u001b[0m\u001b[0m\n\u001b[1;32m    255\u001b[0m         \u001b[0m_api_call\u001b[0m\u001b[0;34m.\u001b[0m\u001b[0m__name__\u001b[0m \u001b[0;34m=\u001b[0m \u001b[0mstr\u001b[0m\u001b[0;34m(\u001b[0m\u001b[0mpy_operation_name\u001b[0m\u001b[0;34m)\u001b[0m\u001b[0;34m\u001b[0m\u001b[0m\n",
      "\u001b[0;32m/home/andy/anaconda2/lib/python2.7/site-packages/botocore/client.pyc\u001b[0m in \u001b[0;36m_make_api_call\u001b[0;34m(self, operation_name, api_params)\u001b[0m\n\u001b[1;32m    515\u001b[0m         }\n\u001b[1;32m    516\u001b[0m         request_dict = self._convert_to_request_dict(\n\u001b[0;32m--> 517\u001b[0;31m             api_params, operation_model, context=request_context)\n\u001b[0m\u001b[1;32m    518\u001b[0m \u001b[0;34m\u001b[0m\u001b[0m\n\u001b[1;32m    519\u001b[0m         handler, event_response = self.meta.events.emit_until_response(\n",
      "\u001b[0;32m/home/andy/anaconda2/lib/python2.7/site-packages/botocore/client.pyc\u001b[0m in \u001b[0;36m_convert_to_request_dict\u001b[0;34m(self, api_params, operation_model, context)\u001b[0m\n\u001b[1;32m    570\u001b[0m \u001b[0;34m\u001b[0m\u001b[0m\n\u001b[1;32m    571\u001b[0m         request_dict = self._serializer.serialize_to_request(\n\u001b[0;32m--> 572\u001b[0;31m             api_params, operation_model)\n\u001b[0m\u001b[1;32m    573\u001b[0m         prepare_request_dict(request_dict, endpoint_url=self._endpoint.host,\n\u001b[1;32m    574\u001b[0m                              \u001b[0muser_agent\u001b[0m\u001b[0;34m=\u001b[0m\u001b[0mself\u001b[0m\u001b[0;34m.\u001b[0m\u001b[0m_client_config\u001b[0m\u001b[0;34m.\u001b[0m\u001b[0muser_agent\u001b[0m\u001b[0;34m,\u001b[0m\u001b[0;34m\u001b[0m\u001b[0m\n",
      "\u001b[0;32m/home/andy/anaconda2/lib/python2.7/site-packages/botocore/validate.pyc\u001b[0m in \u001b[0;36mserialize_to_request\u001b[0;34m(self, parameters, operation_model)\u001b[0m\n\u001b[1;32m    268\u001b[0m                                                     operation_model.input_shape)\n\u001b[1;32m    269\u001b[0m             \u001b[0;32mif\u001b[0m \u001b[0mreport\u001b[0m\u001b[0;34m.\u001b[0m\u001b[0mhas_errors\u001b[0m\u001b[0;34m(\u001b[0m\u001b[0;34m)\u001b[0m\u001b[0;34m:\u001b[0m\u001b[0;34m\u001b[0m\u001b[0m\n\u001b[0;32m--> 270\u001b[0;31m                 \u001b[0;32mraise\u001b[0m \u001b[0mParamValidationError\u001b[0m\u001b[0;34m(\u001b[0m\u001b[0mreport\u001b[0m\u001b[0;34m=\u001b[0m\u001b[0mreport\u001b[0m\u001b[0;34m.\u001b[0m\u001b[0mgenerate_report\u001b[0m\u001b[0;34m(\u001b[0m\u001b[0;34m)\u001b[0m\u001b[0;34m)\u001b[0m\u001b[0;34m\u001b[0m\u001b[0m\n\u001b[0m\u001b[1;32m    271\u001b[0m         return self._serializer.serialize_to_request(parameters,\n\u001b[1;32m    272\u001b[0m                                                      operation_model)\n",
      "\u001b[0;31mParamValidationError\u001b[0m: Parameter validation failed:\nInvalid type for parameter Image.S3Object.Bucket, value: s3.ServiceResource(), type: <class 'boto3.resources.factory.s3.ServiceResource'>, valid types: <type 'basestring'>"
     ]
    }
   ],
   "source": [
    "import sys\n",
    "import rekognitionUtils as utils\n",
    "import rekognitionApi as api\n",
    "import awsUtils\n",
    "\n",
    "import PollyApi\n",
    "\n",
    "import boto3\n",
    "\n",
    "\n",
    "imageBucket = boto3.resource('s3')\n",
    "image       = str('001150.jpg')\n",
    "# Let's use Amazon S3\n",
    "\n",
    "imageInfo   = utils.openLocalImage(image)\n",
    "\n",
    "reko = api.connectToRekognitionService()\n",
    "polly = PollyApi.connectToPolly()\n",
    "\n",
    "labels = api.detectLabels(reko, imageBucket, image, maxLabels=10, minConfidence=70.0)\n",
    "utils.printLabelsInformation(labels)\n",
    "#s3.Bucket('my-bucket').put_object(Key='001150.jpg', Body=data)"
   ]
  },
  {
   "cell_type": "code",
   "execution_count": null,
   "metadata": {
    "collapsed": true
   },
   "outputs": [],
   "source": []
  }
 ],
 "metadata": {
  "anaconda-cloud": {},
  "kernelspec": {
   "display_name": "Python [conda root]",
   "language": "python",
   "name": "conda-root-py"
  },
  "language_info": {
   "codemirror_mode": {
    "name": "ipython",
    "version": 3
   },
   "file_extension": ".py",
   "mimetype": "text/x-python",
   "name": "python",
   "nbconvert_exporter": "python",
   "pygments_lexer": "ipython3",
   "version": "3.5.2"
  }
 },
 "nbformat": 4,
 "nbformat_minor": 1
}
