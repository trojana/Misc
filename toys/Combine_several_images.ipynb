{
 "cells": [
  {
   "cell_type": "code",
   "execution_count": 8,
   "metadata": {
    "collapsed": false
   },
   "outputs": [
    {
     "name": "stdout",
     "output_type": "stream",
     "text": [
      "haha\n",
      "DONE\n"
     ]
    }
   ],
   "source": [
    "import numpy as np\n",
    "from PIL import Image, ImageDraw, ImageFont\n",
    "import os,re\n",
    "\n",
    "print('haha')\n",
    "folder = 'z:/OC_RESINET/process/ResiIndoor05-Pond5/front_door_014/'\n",
    "\n",
    "ls = os.listdir(folder)\n",
    "imageList = list(filter(lambda x: re.match('\\S+\\d+\\.jpg', x),ls))\n",
    "#print(imageList)\n",
    "\n",
    "for imgName in imageList:\n",
    "    \n",
    "    im1 = folder + '_out-Yolo-small_clean/'    + imgName\n",
    "    im2 = folder + '_out-HOGdetector/'   + imgName\n",
    "    im3 = folder + '_out-Faster_clean/'        + imgName\n",
    "    im4 = folder + '_out-SightHound/'    + imgName \n",
    "\n",
    "    list_im = [im1, im2, im3, im4]\n",
    "    imgs    = [ Image.open(i) for i in list_im ]\n",
    "    # pick the image which is the smallest, and resize the others to match it (can be arbitrary image shape here)\n",
    "    min_shape = sorted( [(np.sum(i.size), i.size ) for i in imgs])[0][1]\n",
    "    # create a GRID of images (2x2)\n",
    "    imgs_comb_line_1 = np.hstack( (np.asarray( i.resize(min_shape) ) for i in imgs[0:2] ) )\n",
    "    imgs_comb_line_2 = np.hstack( (np.asarray( i.resize(min_shape) ) for i in imgs[2:4] ) )\n",
    "    imgs_comb        = np.vstack( [imgs_comb_line_1, imgs_comb_line_2] )\n",
    "\n",
    "    # save that beautiful picture\n",
    "    imgs_comb = Image.fromarray( imgs_comb)\n",
    "    draw = ImageDraw.Draw(imgs_comb)\n",
    "    font = ImageFont.truetype(\"./arial.ttf\", 72)\n",
    "    draw.text((500, 900),\"YOLO Net\",(255,0,0), font = font)\n",
    "    draw.text((1600, 900),\"HOG Detector\",(255,0,0), font = font)\n",
    "    draw.text((500, 2100),\"FasterRCNN\",(255,0,0), font = font)\n",
    "    draw.text((1600, 2100),\"SightHound\",(255,0,0), font = font)\n",
    "    outpath = folder + '_Gif/' \n",
    "    \n",
    "    # create output folder\n",
    "    if not os.path.exists(outpath):\n",
    "        os.makedirs(outpath)    \n",
    "        \n",
    "    imgs_comb.save( outpath + imgName) \n",
    "    \n",
    "print('DONE')"
   ]
  },
  {
   "cell_type": "code",
   "execution_count": null,
   "metadata": {
    "collapsed": true
   },
   "outputs": [],
   "source": []
  }
 ],
 "metadata": {
  "anaconda-cloud": {},
  "kernelspec": {
   "display_name": "Python [conda root]",
   "language": "python",
   "name": "conda-root-py"
  },
  "language_info": {
   "codemirror_mode": {
    "name": "ipython",
    "version": 3
   },
   "file_extension": ".py",
   "mimetype": "text/x-python",
   "name": "python",
   "nbconvert_exporter": "python",
   "pygments_lexer": "ipython3",
   "version": "3.5.2"
  }
 },
 "nbformat": 4,
 "nbformat_minor": 1
}
