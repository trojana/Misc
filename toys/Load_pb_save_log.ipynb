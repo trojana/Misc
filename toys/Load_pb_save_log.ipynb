{
 "cells": [
  {
   "cell_type": "code",
   "execution_count": 1,
   "metadata": {},
   "outputs": [
    {
     "name": "stdout",
     "output_type": "stream",
     "text": [
      "1.2.0\n"
     ]
    }
   ],
   "source": [
    "import tensorflow as tf\n",
    "from tensorflow.python.framework import ops\n",
    "from tensorflow.core.framework import graph_pb2\n",
    "from tensorflow.python.framework import importer\n",
    "print(tf.__version__)"
   ]
  },
  {
   "cell_type": "code",
   "execution_count": 2,
   "metadata": {},
   "outputs": [
    {
     "name": "stdout",
     "output_type": "stream",
     "text": [
      "WARNING:tensorflow:Passing a `GraphDef` to the SummaryWriter is deprecated. Pass a `Graph` object instead, such as `sess.graph`.\n"
     ]
    },
    {
     "data": {
      "text/plain": [
       "<tensorflow.python.summary.writer.writer.FileWriter at 0xb51df60>"
      ]
     },
     "execution_count": 2,
     "metadata": {},
     "output_type": "execute_result"
    }
   ],
   "source": [
    "#output_graph_path = 'pb_model/yolo_small_graph.pb' #1\n",
    "#output_graph_path = 'pb_model/yolo_tiny_graph.pb' #2\n",
    "#output_graph_path = 'pb_model/tensorflow_inception_graph.pb' #3\n",
    "#output_graph_path = 'pb_model/yolo-voc.pb' #4 \n",
    "#output_graph_path = 'pb_model/yolo_small_graph_edited.pb' #5\n",
    "#output_graph_path = 'pb_model/yolo_small_graph_edited_alpha.pb' #6\n",
    "output_graph_path = 'pb_model/yolo_small_graph_edited_MUL.pb' #1\n",
    "\n",
    "with ops.Graph().as_default():\n",
    "    output_graph_def = graph_pb2.GraphDef()\n",
    "    with open(output_graph_path, \"rb\") as f:\n",
    "        output_graph_def.ParseFromString(f.read())\n",
    "        _ = importer.import_graph_def(output_graph_def, name=\"\")\n",
    " \n",
    "\n",
    "\n",
    "tf.summary.FileWriter('TBlog/6', output_graph_def)"
   ]
  },
  {
   "cell_type": "code",
   "execution_count": null,
   "metadata": {
    "collapsed": true
   },
   "outputs": [],
   "source": []
  }
 ],
 "metadata": {
  "anaconda-cloud": {},
  "kernelspec": {
   "display_name": "Python 3",
   "language": "python",
   "name": "python3"
  },
  "language_info": {
   "codemirror_mode": {
    "name": "ipython",
    "version": 3
   },
   "file_extension": ".py",
   "mimetype": "text/x-python",
   "name": "python",
   "nbconvert_exporter": "python",
   "pygments_lexer": "ipython3",
   "version": "3.6.1"
  }
 },
 "nbformat": 4,
 "nbformat_minor": 2
}
