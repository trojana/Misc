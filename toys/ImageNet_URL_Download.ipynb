{
 "cells": [
  {
   "cell_type": "code",
   "execution_count": 3,
   "metadata": {
    "collapsed": false
   },
   "outputs": [
    {
     "data": {
      "text/plain": [
       "('n00004475_6590.jpg', <http.client.HTTPMessage at 0x5e325c0>)"
      ]
     },
     "execution_count": 3,
     "metadata": {},
     "output_type": "execute_result"
    }
   ],
   "source": [
    "from urllib.request import urlretrieve\n",
    "\n",
    "url = 'http://farm4.static.flickr.com/3175/2737866473_7958dc8760.jpg'\n",
    "urlretrieve(url, 'n00004475_6590.jpg')"
   ]
  },
  {
   "cell_type": "code",
   "execution_count": 1,
   "metadata": {
    "collapsed": false
   },
   "outputs": [
    {
     "name": "stdout",
     "output_type": "stream",
     "text": [
      "http://farm4.static.flickr.com/3175/2737866473_7958dc8760.jpg\n",
      ".jpg\n"
     ]
    }
   ],
   "source": [
    "# experiments\n",
    "import numpy as np\n",
    "from urllib.request import urlretrieve\n",
    "\n",
    "file = open('fall11_urls.txt', 'r')\n",
    "a = file.readline()\n",
    "file.close()\n",
    "words = a.split()\n",
    "print(words[1])\n",
    "\n",
    "print(words[1][-4:])\n",
    "#urlretrieve(url,outfile)\n",
    "\n",
    "import os.path\n",
    "\n",
    "outfile = 'imagenet\\\\' + words[0] + words[1][-4:]\n",
    "if os.path.isfile(outfile) is True:\n",
    "    print(1)\n",
    "\n",
    "#print(type(a))\n",
    "#b = np.array(a)\n",
    "#print(b.size)\n"
   ]
  },
  {
   "cell_type": "code",
   "execution_count": null,
   "metadata": {
    "collapsed": false
   },
   "outputs": [],
   "source": [
    "from urllib.request import urlretrieve\n",
    "import os.path # chceck existence of a file\n",
    "a = 0\n",
    "with open(\"fall11_urls.txt\") as f:\n",
    "    for i in range(0,14000000):\n",
    "        try:\n",
    "            line = f.readline()\n",
    "            a = a + 1\n",
    "            print(a)\n",
    "            if i > 86249:\n",
    "                words = line.split()\n",
    "                url = words[1]\n",
    "                outfile = 'imagenet\\\\' + words[0] + words[1][-4:]\n",
    "                if os.path.isfile(outfile) is False:\n",
    "                    try:\n",
    "                        urlretrieve(url,outfile)\n",
    "                    except :\n",
    "                      with open(outfile,'wb') :\n",
    "                        print('Unable to save file', url)\n",
    "        except :\n",
    "            print('Fail in reading line from file')\n",
    "#print('Ended')"
   ]
  },
  {
   "cell_type": "code",
   "execution_count": null,
   "metadata": {
    "collapsed": true
   },
   "outputs": [],
   "source": []
  }
 ],
 "metadata": {
  "anaconda-cloud": {},
  "kernelspec": {
   "display_name": "Python [default]",
   "language": "python",
   "name": "python3"
  },
  "language_info": {
   "codemirror_mode": {
    "name": "ipython",
    "version": 3
   },
   "file_extension": ".py",
   "mimetype": "text/x-python",
   "name": "python",
   "nbconvert_exporter": "python",
   "pygments_lexer": "ipython3",
   "version": "3.5.2"
  }
 },
 "nbformat": 4,
 "nbformat_minor": 1
}
