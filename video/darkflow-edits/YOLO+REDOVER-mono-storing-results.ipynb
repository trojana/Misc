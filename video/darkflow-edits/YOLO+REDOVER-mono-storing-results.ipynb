{
 "cells": [
  {
   "cell_type": "code",
   "execution_count": 1,
   "metadata": {
    "collapsed": true
   },
   "outputs": [],
   "source": [
    "%matplotlib notebook\n",
    "\n",
    "import os\n",
    "import sys\n",
    "import cv2\n",
    "import matplotlib.pyplot as plt\n",
    "import numpy as np\n",
    "from darkflow.net.build import TFNet\n",
    "import track.sort.sort as srt\n",
    "from track.eliminateoverlaps import *"
   ]
  },
  {
   "cell_type": "code",
   "execution_count": 2,
   "metadata": {},
   "outputs": [
    {
     "name": "stdout",
     "output_type": "stream",
     "text": [
      "Parsing ./cfg/yolo.2.0.cfg\n",
      "Parsing /home/analyticsuser/darkflow/cfg/yolo.2.0.cfg\n",
      "Loading /home/analyticsuser/darkflow/cfg/yolo.2.0.weights ...\n",
      "Successfully identified 269862452 bytes\n",
      "Finished in 0.056201934814453125s\n"
     ]
    }
   ],
   "source": [
    "# directory with images from video\n",
    "#working_directory = '/home/analyticsuser/data/Husband Surprises Wife by Filling House With Puppies!'\n",
    "working_directory = '/home/analyticsuser/data/Nest Cam - Owner catches burglars in act on her phone'\n",
    "\n",
    "# only images\n",
    "files_in_directory = sorted([os.path.join(working_directory, file_name)\n",
    "                      for file_name in os.listdir(working_directory)\n",
    "                      if os.path.splitext(file_name)[1].lower() in ('.jpg', '.jpeg')])\n",
    "\n",
    "# colors for different bboxes for visualization\n",
    "colors = [(255,0,0), (0,255,0),(0,0,255),(255,255,0),(0,255,255),(255,0,255),(192,192,192),(128,128,128),\n",
    "          (128,0,0),(128,128,0),(0,128,0),(128,0,128),(0,128,128),(0,0,128),(0,0,0)]\n",
    "\n",
    "# configuration for YOLO\n",
    "options = {'model': '/home/analyticsuser/darkflow/cfg/yolo.2.0.cfg', \n",
    "           'load': '/home/analyticsuser/darkflow/cfg/yolo.2.0.weights', 'threshold': 0.1}\n",
    "\n",
    "# options = {'model': '/home/analyticsuser/darkflow/cfg/yolo-voc.2.0.cfg', \n",
    "#            'load': '/home/analyticsuser/darkflow/cfg/yolo-voc.2.0.weights', 'threshold': 0.1}\n",
    "\n",
    "tfnet = TFNet(options)\n",
    "\n",
    "# initialize SORT trabcker:\n",
    "# - 10 consecutive frames with no detection to terminate an existing track\n",
    "# - 1 consecutive frame (i.e. after an initial frame) to activate the new track (before that will not produce any output)\n",
    "# - 5 frames to extrapolate an active track (i.e. show predicted output eventhough no detection present for this track)\n",
    "# - 0.8 unassigned detection over track bbox overlap (intersection over union) threshold to eliminate the detection\n",
    "# - 0.94 unassigned detection over another stronger unassigned detection overlap (intersection over self bbox area) threshold to eliminate the detection\n",
    "# - 0.8 unassigned detection over another stronger unassigned detection overlap (intersection over larger bbox area) threshold to eliminate the detection\n",
    "# - 2.0 defines \"stronger\" detection disregarding the size -- if the score of the unassigned detection overlapping \n",
    "#       another unassigned detection is 2.0-times higher than the score of the other detection, it is stronger, otherwise \n",
    "#       larger size decides\n",
    "#mot_tracker = srt.Sort(10,0,10,0.55,0.90,0.6,2.0)"
   ]
  },
  {
   "cell_type": "code",
   "execution_count": 3,
   "metadata": {},
   "outputs": [
    {
     "ename": "NameError",
     "evalue": "name 'datetime' is not defined",
     "output_type": "error",
     "traceback": [
      "\u001b[0;31m---------------------------------------------------------------------------\u001b[0m",
      "\u001b[0;31mNameError\u001b[0m                                 Traceback (most recent call last)",
      "\u001b[0;32m<ipython-input-3-be3cfdff1314>\u001b[0m in \u001b[0;36m<module>\u001b[0;34m()\u001b[0m\n\u001b[1;32m      5\u001b[0m \u001b[0;34m\u001b[0m\u001b[0m\n\u001b[1;32m      6\u001b[0m \u001b[0;31m# init a dataframe with raw detections\u001b[0m\u001b[0;34m\u001b[0m\u001b[0;34m\u001b[0m\u001b[0m\n\u001b[0;32m----> 7\u001b[0;31m \u001b[0mraw_detections_file\u001b[0m \u001b[0;34m=\u001b[0m \u001b[0;34m'Detections_'\u001b[0m \u001b[0;34m+\u001b[0m \u001b[0mdatetime\u001b[0m\u001b[0;34m.\u001b[0m\u001b[0mdate\u001b[0m\u001b[0;34m.\u001b[0m\u001b[0mstrftime\u001b[0m\u001b[0;34m(\u001b[0m\u001b[0mdatetime\u001b[0m\u001b[0;34m.\u001b[0m\u001b[0mdatetime\u001b[0m\u001b[0;34m.\u001b[0m\u001b[0mnow\u001b[0m\u001b[0;34m(\u001b[0m\u001b[0;34m)\u001b[0m\u001b[0;34m,\u001b[0m\u001b[0;34m'%Y-%m-%d %H-%M'\u001b[0m\u001b[0;34m)\u001b[0m \u001b[0;34m+\u001b[0m \u001b[0;34m'.csv'\u001b[0m\u001b[0;34m\u001b[0m\u001b[0m\n\u001b[0m\u001b[1;32m      8\u001b[0m \u001b[0;32mwith\u001b[0m \u001b[0mopen\u001b[0m\u001b[0;34m(\u001b[0m\u001b[0mdetections_info_file\u001b[0m\u001b[0;34m,\u001b[0m \u001b[0;34m'w'\u001b[0m\u001b[0;34m)\u001b[0m \u001b[0;32mas\u001b[0m \u001b[0moutput\u001b[0m\u001b[0;34m:\u001b[0m\u001b[0;34m\u001b[0m\u001b[0m\n\u001b[1;32m      9\u001b[0m     \u001b[0moutput\u001b[0m\u001b[0;34m.\u001b[0m\u001b[0mwrite\u001b[0m\u001b[0;34m(\u001b[0m\u001b[0;34m'Date,Timestamp,ID,Filename,TopLeftX,TopLeftY,BottomRightX,BottomRightY,Confidence\\n'\u001b[0m\u001b[0;34m)\u001b[0m\u001b[0;34m\u001b[0m\u001b[0m\n",
      "\u001b[0;31mNameError\u001b[0m: name 'datetime' is not defined"
     ]
    }
   ],
   "source": [
    "detections_dir = '/data01/Detections'\n",
    "if not os.path.exists(detections_dir):\n",
    "    os.mkdir(detections_dir)\n",
    "os.chdir(detections_dir)\n",
    "\n",
    "# init a dataframe with raw detections\n",
    "raw_detections_file = 'Detections_' + datetime.date.strftime(datetime.datetime.now(),'%Y-%m-%d %H-%M') + '.csv'\n",
    "with open(detections_info_file, 'w') as output:\n",
    "    output.write('Date,Timestamp,ID,Filename,TopLeftX,TopLeftY,BottomRightX,BottomRightY,Confidence\\n')\n",
    "\n"
   ]
  },
  {
   "cell_type": "code",
   "execution_count": null,
   "metadata": {},
   "outputs": [],
   "source": [
    "plt.ion()\n",
    "\n",
    "# init Camrea reader & matplotlib displaying\n",
    "cap = cv2.VideoCapture(2)\n",
    "print(cap)\n",
    "ret, imgcv = cap.read()\n",
    "\n",
    "imgcv_to_display = cv2.cvtColor(imgcv, cv2.COLOR_BGR2RGB)\n",
    "# pltimage = np.concatenate((imgcv_to_display, imgcv_to_display), axis=1)\n",
    "fig=plt.figure(figsize=(16,12), dpi= 80, facecolor='w', edgecolor='k')\n",
    "# detections_preview = plt.imshow(pltimage)\n",
    "detections_preview = plt.imshow(imgcv)\n",
    "try:\n",
    "    plt.pause(0.05)\n",
    "except Exception:\n",
    "    pass\n",
    "\n",
    "# displaying all\n",
    "# allres = []\n",
    "frmcnt=0\n",
    "while(True):\n",
    "    sys.stdout.write(\"\\r\" + str(frmcnt))\n",
    "    sys.stdout.flush()\n",
    "    frmcnt+=1\n",
    "    \n",
    "    ret, imgcv = cap.read()\n",
    "    if type(imgcv) == type(None):\n",
    "        print(\"!!! Couldn't read frame!\")\n",
    "        break    \n",
    "\n",
    "    img1 = imgcv.copy()\n",
    "    result = tfnet.return_predict(imgcv)\n",
    "    for idx, detection in enumerate(result):\n",
    "        if detection['label'] == 'person' or detection['label'] == 'dog' or detection['label'] == 'cat':\n",
    "            cv2.rectangle(imgcv, (detection['topleft']['x'], detection['topleft']['y']), \n",
    "                          (detection['bottomright']['x'], detection['bottomright']['y']), \n",
    "                          colors[idx % len(colors)], 10)\n",
    "\n",
    "            cv2.rectangle(imgcv, (detection['topleft']['x'], detection['topleft']['y'] - 20), \n",
    "                          (detection['bottomright']['x'], detection['topleft']['y']), (125, 125, 125), -1)\n",
    "\n",
    "            cv2.putText(imgcv, detection['label'] + ' : %.2f' % detection['confidence'], \n",
    "                        (detection['topleft']['x'] + 5, detection['topleft']['y'] - 7), \n",
    "                        cv2.FONT_HERSHEY_SIMPLEX, 0.5, (0, 0, 0), 2)\n",
    "            \n",
    "       \n",
    "    \n",
    "    # continue with tracking\n",
    "    # print('result: ', result) \n",
    "    fres = list(filter(lambda x: x['label'] == 'person' or x['label'] == 'dog' or x['label'] == 'cat',result))\n",
    "    dets0 = list(map( lambda x: [float(x['topleft']['x']),float(x['topleft']['y']),\n",
    "                                 float(x['bottomright']['x']),float(x['bottomright']['y']),\n",
    "                                 x['confidence'],x['label']], fres))\n",
    "\n",
    "    # eliminate overlaps\n",
    "    eldets=eliminate1(dets0,0.80,0.6,2.0)\n",
    "    for idx, bbo_f in enumerate(eldets):\n",
    "        # print('bbo_f: ', bbo_f )\n",
    "        bbo = list(map(lambda x: int(round(float(x))), bbo_f[0:4]))\n",
    "        obsc = bbo_f[4]\n",
    "        label = bbo_f[5]\n",
    "        cv2.rectangle(img1, (bbo[0], bbo[1]), (bbo[2], bbo[3]), colors[idx%len(colors)], 10)\n",
    "        cv2.rectangle(img1, (bbo[0], bbo[1]-30), (bbo[2], bbo[1]), colors[idx%len(colors)], -1)\n",
    "        cv2.putText(img1, label+' %0.2f'%obsc, (bbo[0]+5, bbo[1]-7), cv2.FONT_HERSHEY_SIMPLEX, 0.7, (0,0,0), 2)\n",
    "    \n",
    "    # print('dets0: ', dets0) \n",
    "    # allres += [','.join(list(map(lambda x: str(x),dets0)))]   # save the results\n",
    "#     dets = np.asarray( dets0 )\n",
    "#     objs,termtracks = mot_tracker.update(dets)\n",
    "    # print('objs: ', objs) \n",
    "#     for bbo_f in objs:\n",
    "#         # print('bbo_f: ', bbo_f )\n",
    "#         bbo = list(map(lambda x: int(round(float(x))), bbo_f[0:4]))\n",
    "#         obid = int(bbo_f[5])\n",
    "#         obsc = bbo_f[4]\n",
    "#         cv2.rectangle(img1, (bbo[0], bbo[1]), (bbo[2], bbo[3]), colors[obid%len(colors)], 10)\n",
    "#         cv2.rectangle(img1, (bbo[0], bbo[1]-40), (bbo[2], bbo[1]), (125, 125, 125), -1)\n",
    "#         cv2.putText(img1, 'id=%03d'%obid + ' @%0.2f'%obsc, (bbo[0]+5, bbo[1]-7), cv2.FONT_HERSHEY_SIMPLEX, 1, (0,0,0), 2)\n",
    "\n",
    "    imgcv_to_display = cv2.cvtColor(imgcv, cv2.COLOR_BGR2RGB)\n",
    "    \n",
    "    imgcv_to_display2 = cv2.cvtColor(img1, cv2.COLOR_BGR2RGB)\n",
    "            \n",
    "#     pltimage = np.concatenate((imgcv_to_display, imgcv_to_display2), axis=1)\n",
    "#     detections_preview.set_data(pltimage)\n",
    "    detections_preview.set_data(imgcv_to_display2)\n",
    "\n",
    "    plt.draw()\n",
    "    try:\n",
    "        plt.pause(0.0002)\n",
    "    except Exception:\n",
    "        pass\n",
    "\n",
    "#content = '\\n'.join(allres)\n",
    "#with open('yolodet.txt', 'w') as fro:\n",
    "#    fro.write(content)\n"
   ]
  },
  {
   "cell_type": "code",
   "execution_count": null,
   "metadata": {
    "collapsed": true
   },
   "outputs": [],
   "source": []
  },
  {
   "cell_type": "code",
   "execution_count": null,
   "metadata": {
    "collapsed": true
   },
   "outputs": [],
   "source": []
  }
 ],
 "metadata": {
  "anaconda-cloud": {},
  "kernelspec": {
   "display_name": "Python 3",
   "language": "python",
   "name": "python3"
  },
  "language_info": {
   "codemirror_mode": {
    "name": "ipython",
    "version": 3
   },
   "file_extension": ".py",
   "mimetype": "text/x-python",
   "name": "python",
   "nbconvert_exporter": "python",
   "pygments_lexer": "ipython3",
   "version": "3.6.1"
  },
  "widgets": {
   "state": {},
   "version": "1.1.2"
  }
 },
 "nbformat": 4,
 "nbformat_minor": 2
}
