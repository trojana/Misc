{
 "cells": [
  {
   "cell_type": "markdown",
   "metadata": {},
   "source": [
    "# Add data to an existing trace"
   ]
  },
  {
   "cell_type": "code",
   "execution_count": 1,
   "metadata": {
    "collapsed": false
   },
   "outputs": [
    {
     "name": "stdout",
     "output_type": "stream",
     "text": [
      "Detections_2017-05-16 12-50.csv\n"
     ]
    },
    {
     "ename": "NameError",
     "evalue": "name 'pd' is not defined",
     "output_type": "error",
     "traceback": [
      "\u001b[0;31m---------------------------------------------------------------------------\u001b[0m",
      "\u001b[0;31mNameError\u001b[0m                                 Traceback (most recent call last)",
      "\u001b[0;32m<ipython-input-1-8ed97514cb2e>\u001b[0m in \u001b[0;36m<module>\u001b[0;34m()\u001b[0m\n\u001b[1;32m      8\u001b[0m         \u001b[0mprint\u001b[0m\u001b[0;34m(\u001b[0m\u001b[0mf\u001b[0m\u001b[0;34m)\u001b[0m\u001b[0;34m\u001b[0m\u001b[0m\n\u001b[1;32m      9\u001b[0m         \u001b[0msrc\u001b[0m \u001b[0;34m=\u001b[0m \u001b[0mos\u001b[0m\u001b[0;34m.\u001b[0m\u001b[0mpath\u001b[0m\u001b[0;34m.\u001b[0m\u001b[0mjoin\u001b[0m\u001b[0;34m(\u001b[0m\u001b[0;34m'CSV'\u001b[0m\u001b[0;34m,\u001b[0m\u001b[0mf\u001b[0m\u001b[0;34m)\u001b[0m\u001b[0;34m\u001b[0m\u001b[0m\n\u001b[0;32m---> 10\u001b[0;31m         \u001b[0mdf\u001b[0m \u001b[0;34m=\u001b[0m \u001b[0mpd\u001b[0m\u001b[0;34m.\u001b[0m\u001b[0mread_csv\u001b[0m\u001b[0;34m(\u001b[0m\u001b[0msrc\u001b[0m\u001b[0;34m)\u001b[0m\u001b[0;34m\u001b[0m\u001b[0m\n\u001b[0m\u001b[1;32m     11\u001b[0m         \u001b[0mnew_data\u001b[0m \u001b[0;34m=\u001b[0m \u001b[0mScatter\u001b[0m\u001b[0;34m(\u001b[0m\u001b[0mx\u001b[0m\u001b[0;34m=\u001b[0m\u001b[0mpd\u001b[0m\u001b[0;34m.\u001b[0m\u001b[0mto_datetime\u001b[0m\u001b[0;34m(\u001b[0m\u001b[0mdf\u001b[0m\u001b[0;34m[\u001b[0m\u001b[0;34m'Date'\u001b[0m\u001b[0;34m]\u001b[0m\u001b[0;34m)\u001b[0m\u001b[0;34m,\u001b[0m \u001b[0my\u001b[0m\u001b[0;34m=\u001b[0m \u001b[0mpd\u001b[0m\u001b[0;34m.\u001b[0m\u001b[0mto_datetime\u001b[0m\u001b[0;34m(\u001b[0m\u001b[0mdf\u001b[0m\u001b[0;34m[\u001b[0m\u001b[0;34m'Timestamp'\u001b[0m\u001b[0;34m]\u001b[0m\u001b[0;34m)\u001b[0m\u001b[0;34m,\u001b[0m \u001b[0mmode\u001b[0m \u001b[0;34m=\u001b[0m \u001b[0;34m'markers'\u001b[0m\u001b[0;34m)\u001b[0m\u001b[0;34m\u001b[0m\u001b[0m\n\u001b[1;32m     12\u001b[0m         \u001b[0mdata\u001b[0m \u001b[0;34m=\u001b[0m \u001b[0mData\u001b[0m\u001b[0;34m(\u001b[0m \u001b[0;34m[\u001b[0m \u001b[0mnew_data\u001b[0m \u001b[0;34m]\u001b[0m \u001b[0;34m)\u001b[0m\u001b[0;34m\u001b[0m\u001b[0m\n",
      "\u001b[0;31mNameError\u001b[0m: name 'pd' is not defined"
     ]
    }
   ],
   "source": [
    "import plotly.plotly as py\n",
    "from plotly.graph_objs import *\n",
    "import pandas as pd\n",
    "import os\n",
    "\n",
    "# list CSV files in directory\n",
    "for f in os.listdir('CSV'):\n",
    "    if (f[0]) != '_' :\n",
    "        print(f)\n",
    "        src = os.path.join('CSV',f)\n",
    "        df = pd.read_csv(src)\n",
    "        new_data = Scatter(x=pd.to_datetime(df['Date']), y= pd.to_datetime(df['Timestamp']), mode = 'markers')\n",
    "        data = Data( [ new_data ] )\n",
    "        \n",
    "        # publish data\n",
    "        plot_url = py.plot(data, filename='mouseevent-scatter1', fileopt='extend')\n",
    "        \n",
    "        # rename the processed file    \n",
    "        dst_file = '_' + f\n",
    "        dst = os.path.join('CSV',dst_file)\n",
    "        print(dst)\n",
    "        os.rename(src, dst)\n",
    "\n",
    "        "
   ]
  },
  {
   "cell_type": "markdown",
   "metadata": {},
   "source": [
    "# Creating the Scatter plot from CSV files"
   ]
  },
  {
   "cell_type": "code",
   "execution_count": null,
   "metadata": {
    "collapsed": true
   },
   "outputs": [],
   "source": [
    "import plotly \n",
    "#plotly.tools.set_credentials_file(username='trojana', api_key='vdQrSihcCaul3cXTD2sK')\n",
    "plotly.tools.set_credentials_file(username='trojanova', api_key='5Wmf5eCmeAxhbYsnegWT')"
   ]
  },
  {
   "cell_type": "code",
   "execution_count": null,
   "metadata": {
    "collapsed": true
   },
   "outputs": [],
   "source": [
    "import pandas as pd\n",
    "import plotly.plotly as py\n",
    "import plotly.dashboard_objs as dashboard\n",
    "from plotly.graph_objs import *\n",
    "from plotly.tools import FigureFactory as FF\n",
    "import IPython.display\n",
    "from IPython.display import Image, display, clear_output\n",
    "from ipywidgets import widgets\n"
   ]
  },
  {
   "cell_type": "code",
   "execution_count": null,
   "metadata": {
    "collapsed": true
   },
   "outputs": [],
   "source": [
    "import plotly.graph_objs as go\n",
    "import datetime as dt\n",
    "\n",
    "df = pd.read_csv('CSV/_Detections_2017-05-16 10-03.csv')\n",
    "data1 = [{'x':  pd.to_datetime(df['Date']), 'y': pd.to_datetime(df['Timestamp']) , 'type': 'scatter', 'mode': 'markers','marker': {'size':'10'}}]\n",
    "#data1 = [{'x':  pd.to_datetime(df['Date']), 'y': pd.to_datetime(df['Timestamp']) , 'type': 'scatter', 'mode': 'markers','marker': {'size':df['Duration']}}]\n",
    "\n",
    "\n",
    "layout1 = go.Layout( \n",
    "    title=\"simple example\", \n",
    "    hovermode ='closest',\n",
    "    yaxis=dict(  \n",
    "        type= 'date',\n",
    "        tickformat= '%H:%M:%S',\n",
    "        hoverformat= '%H:%M:%S',\n",
    "        autorange='reversed'\n",
    "    ),\n",
    "    \n",
    ")    \n",
    "\n",
    "\n",
    "#layout1 = {'xaxis': {'title': 'DAY'}, 'yaxis': {'type': 'date'},'yaxis': {'tickformat': '%H:%M'}, 'yaxis': {'title': 'TOD'}, 'hovermode': 'closest'}\n",
    "\n",
    "\n",
    "fig = plotly.graph_objs.Figure(\n",
    "    data=data1,\n",
    "    layout=layout1\n",
    ")\n",
    "plotly.offline.plot(fig)\n",
    "#url_1 = py.plot({'data': data1, 'layout': layout1}, filename=\"mouseevent-scatter1\", auto_open=False)"
   ]
  },
  {
   "cell_type": "markdown",
   "metadata": {},
   "source": [
    "# Experiments with Dashboard"
   ]
  },
  {
   "cell_type": "code",
   "execution_count": null,
   "metadata": {
    "collapsed": true
   },
   "outputs": [],
   "source": [
    "my_dboard = dashboard.Dashboard()\n",
    "my_dboard.get_preview()"
   ]
  },
  {
   "cell_type": "code",
   "execution_count": null,
   "metadata": {
    "collapsed": true,
    "scrolled": true
   },
   "outputs": [],
   "source": [
    "# #df = pd.read_csv('c:/!work/2016/CENTAUR/openCV/Test_Detections_2017-05-11 07%3A42%3A13.968470.csv')\n",
    "# #df = pd.read_csv('c:/!work/2016/CENTAUR/openCV/Tom_Detections_2017-05-11 07%3A38%3A43.449310.csv')\n",
    "\n",
    "\n",
    "# cols = df.columns.tolist()\n",
    "# print(cols)\n",
    "# new = df[cols[3:]].copy()\n",
    "# table = FF.create_table(df[cols].head())\n",
    "# #py.iplot(table, filename='df_table_mouseevents', show_link=False)\n",
    "\n",
    "#pd.to_datetime(dfc['Time_of_Sail'],format= '%H:%M:%S' )\n",
    "\n",
    "#     marker=dict(\n",
    "#         color='rgba(156, 165, 196, 0.95)',\n",
    "#         line=dict(\n",
    "#             color='rgba(156, 165, 196, 1.0)',\n",
    "#             width=1,\n",
    "#         ),\n",
    "#         symbol='circle',\n",
    "#         size=16,"
   ]
  },
  {
   "cell_type": "code",
   "execution_count": null,
   "metadata": {
    "collapsed": true
   },
   "outputs": [],
   "source": [
    "print(type(dt.time(7, 30, 0)))\n",
    "print(url_1)"
   ]
  },
  {
   "cell_type": "code",
   "execution_count": null,
   "metadata": {
    "collapsed": true
   },
   "outputs": [],
   "source": [
    "def fileId_from_url(url):\n",
    "    \"\"\"Return fileId from a url.\"\"\"\n",
    "    index = url.find('~')\n",
    "    fileId = url[index + 1:]\n",
    "    local_id_index = fileId.find('/')\n",
    "\n",
    "    share_key_index = fileId.find('?share_key')\n",
    "    if share_key_index == -1:\n",
    "        return fileId.replace('/', ':')\n",
    "    else:\n",
    "        return fileId[:share_key_index].replace('/', ':')\n",
    "\n",
    "def sharekey_from_url(url):\n",
    "    \"\"\"Return the sharekey from a url.\"\"\"\n",
    "    index = url.find('share_key=')\n",
    "    return url[index + len('share_key='):]\n",
    "\n",
    "fileId_1 = fileId_from_url(url_1)"
   ]
  },
  {
   "cell_type": "code",
   "execution_count": null,
   "metadata": {
    "collapsed": true
   },
   "outputs": [],
   "source": [
    "print(url_1)"
   ]
  },
  {
   "cell_type": "code",
   "execution_count": null,
   "metadata": {
    "collapsed": true
   },
   "outputs": [],
   "source": [
    "box_1 = {\n",
    "    'type': 'box',\n",
    "    'boxType': 'plot',\n",
    "    'fileId': fileId_1,\n",
    "    'title': 'cyl-wt'\n",
    "}\n",
    "\n",
    "box_2 = {\n",
    "    'type': 'box',\n",
    "    'boxType': 'webpage',\n",
    "    'url': 'https://trojanovi.wordpress.com/',\n",
    "#    'url' : 'file://C:\\\\Users\\\\E411208\\\\Documents\\\\Python Scripts\\\\temp-plot.html',\n",
    "    'title': ''\n",
    "}\n"
   ]
  },
  {
   "cell_type": "code",
   "execution_count": null,
   "metadata": {
    "collapsed": true
   },
   "outputs": [],
   "source": [
    "my_dboard.insert(box_1)"
   ]
  },
  {
   "cell_type": "code",
   "execution_count": null,
   "metadata": {
    "collapsed": true
   },
   "outputs": [],
   "source": [
    "my_dboard.insert(box_2, 'right', 1)"
   ]
  },
  {
   "cell_type": "code",
   "execution_count": null,
   "metadata": {
    "collapsed": true
   },
   "outputs": [],
   "source": [
    "my_dboard['settings']['title'] = 'My First Dashboard with Python'"
   ]
  },
  {
   "cell_type": "code",
   "execution_count": null,
   "metadata": {
    "collapsed": true
   },
   "outputs": [],
   "source": [
    "py.dashboard_ops.upload(my_dboard, 'My First Dashboard with Python 1')"
   ]
  },
  {
   "cell_type": "code",
   "execution_count": null,
   "metadata": {
    "collapsed": true
   },
   "outputs": [],
   "source": [
    "import plotly\n",
    "import datetime as dt\n",
    "\n",
    "meetings = plotly.graph_objs.Scatter(\n",
    "    x=[dt.date(2017, 1, 1), dt.date(2017, 1, 3), dt.date(2017, 1, 3)],\n",
    "    y=[dt.time(8, 0, 0), dt.time(12, 0, 0), dt.time(16, 0, 0)],\n",
    "    text=['work meeting 1', 'work meeting 1', 'work meeting 1'],\n",
    "    mode='markers'\n",
    ")\n",
    "\n",
    "workouts = plotly.graph_objs.Scatter(\n",
    "    x=[dt.date(2017, 1, 1), dt.date(2017, 1, 2), dt.date(2017, 1, 2)],\n",
    "    y=[dt.time(7, 30, 0), dt.time(14, 30, 0), dt.time(17, 0, 0)],\n",
    "    text=['workout 1', 'workout 2', 'workout 3'],\n",
    "    mode='markers'\n",
    ")\n",
    "\n",
    "\n",
    "#for d in [meetings, workouts]:\n",
    "#    for i, t in enumerate(d.y):\n",
    "#        d.y[i] = dt.datetime.combine(dt.date(2017, 1, 1), t)\n",
    "\n",
    "layout = plotly.graph_objs.Layout(yaxis={\n",
    "    'type': 'date',\n",
    "    'tickformat': '%H:%M'\n",
    "    }\n",
    ")\n",
    "\n",
    "fig = plotly.graph_objs.Figure(\n",
    "    data=plotly.graph_objs.Data([meetings, workouts]),\n",
    "    layout=layout\n",
    ")\n",
    "plotly.offline.plot(fig)"
   ]
  },
  {
   "cell_type": "code",
   "execution_count": null,
   "metadata": {
    "collapsed": true
   },
   "outputs": [],
   "source": [
    "from plotly.widgets import Graph\n",
    "from IPython.display import display\n",
    "\n",
    "graph = Graph('https://plot.ly/~chris/3979')\n",
    "display(graph)"
   ]
  },
  {
   "cell_type": "code",
   "execution_count": null,
   "metadata": {
    "collapsed": true
   },
   "outputs": [],
   "source": []
  }
 ],
 "metadata": {
  "anaconda-cloud": {},
  "kernelspec": {
   "display_name": "Python [default]",
   "language": "python",
   "name": "python3"
  },
  "language_info": {
   "codemirror_mode": {
    "name": "ipython",
    "version": 3
   },
   "file_extension": ".py",
   "mimetype": "text/x-python",
   "name": "python",
   "nbconvert_exporter": "python",
   "pygments_lexer": "ipython3",
   "version": "3.5.2"
  }
 },
 "nbformat": 4,
 "nbformat_minor": 1
}
