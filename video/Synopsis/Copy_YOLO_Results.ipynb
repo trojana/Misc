{
 "cells": [
  {
   "cell_type": "code",
   "execution_count": 17,
   "metadata": {},
   "outputs": [
    {
     "name": "stdout",
     "output_type": "stream",
     "text": [
      "/data01/OC_RESINET/process/ResiIndoor05-Pond5-CSV/indoor_022\n",
      "/data01/OC_RESINET/process/ResiIndoor05-Pond5/indoor_022/Yolo_v2_0.1_SORT_stacked_images.csv\n",
      "/data01/OC_RESINET/process/ResiIndoor05-Pond5-CSV/indoor_022\n",
      "/data01/OC_RESINET/process/ResiIndoor05-Pond5/indoor_022/Yolo_v2_0.1_SORT_stacked_images.csv\n"
     ]
    },
    {
     "ename": "SameFileError",
     "evalue": "'/data01/OC_RESINET/process/ResiIndoor05-Pond5/indoor_022/Yolo_v2_0.1_SORT_stacked_images.csv' and '/data01/OC_RESINET/process/ResiIndoor05-Pond5/indoor_022/Yolo_v2_0.1_SORT_stacked_images.csv' are the same file",
     "output_type": "error",
     "traceback": [
      "\u001b[0;31m---------------------------------------------------------------------------\u001b[0m",
      "\u001b[0;31mSameFileError\u001b[0m                             Traceback (most recent call last)",
      "\u001b[0;32m<ipython-input-17-393388a969da>\u001b[0m in \u001b[0;36m<module>\u001b[0;34m()\u001b[0m\n\u001b[1;32m     23\u001b[0m             \u001b[0mprint\u001b[0m\u001b[0;34m(\u001b[0m\u001b[0mcopy_directory\u001b[0m\u001b[0;34m)\u001b[0m\u001b[0;34m\u001b[0m\u001b[0m\n\u001b[1;32m     24\u001b[0m             \u001b[0mprint\u001b[0m\u001b[0;34m(\u001b[0m\u001b[0mdst\u001b[0m\u001b[0;34m)\u001b[0m\u001b[0;34m\u001b[0m\u001b[0m\n\u001b[0;32m---> 25\u001b[0;31m             \u001b[0mcopyfile\u001b[0m\u001b[0;34m(\u001b[0m\u001b[0msrc\u001b[0m\u001b[0;34m,\u001b[0m \u001b[0mdst\u001b[0m\u001b[0;34m)\u001b[0m\u001b[0;34m\u001b[0m\u001b[0m\n\u001b[0m\u001b[1;32m     26\u001b[0m \u001b[0;34m\u001b[0m\u001b[0m\n\u001b[1;32m     27\u001b[0m \u001b[0;34m\u001b[0m\u001b[0m\n",
      "\u001b[0;32m/home/analyticsuser/anaconda3/envs/jupyter/lib/python3.6/shutil.py\u001b[0m in \u001b[0;36mcopyfile\u001b[0;34m(src, dst, follow_symlinks)\u001b[0m\n\u001b[1;32m    102\u001b[0m     \"\"\"\n\u001b[1;32m    103\u001b[0m     \u001b[0;32mif\u001b[0m \u001b[0m_samefile\u001b[0m\u001b[0;34m(\u001b[0m\u001b[0msrc\u001b[0m\u001b[0;34m,\u001b[0m \u001b[0mdst\u001b[0m\u001b[0;34m)\u001b[0m\u001b[0;34m:\u001b[0m\u001b[0;34m\u001b[0m\u001b[0m\n\u001b[0;32m--> 104\u001b[0;31m         \u001b[0;32mraise\u001b[0m \u001b[0mSameFileError\u001b[0m\u001b[0;34m(\u001b[0m\u001b[0;34m\"{!r} and {!r} are the same file\"\u001b[0m\u001b[0;34m.\u001b[0m\u001b[0mformat\u001b[0m\u001b[0;34m(\u001b[0m\u001b[0msrc\u001b[0m\u001b[0;34m,\u001b[0m \u001b[0mdst\u001b[0m\u001b[0;34m)\u001b[0m\u001b[0;34m)\u001b[0m\u001b[0;34m\u001b[0m\u001b[0m\n\u001b[0m\u001b[1;32m    105\u001b[0m \u001b[0;34m\u001b[0m\u001b[0m\n\u001b[1;32m    106\u001b[0m     \u001b[0;32mfor\u001b[0m \u001b[0mfn\u001b[0m \u001b[0;32min\u001b[0m \u001b[0;34m[\u001b[0m\u001b[0msrc\u001b[0m\u001b[0;34m,\u001b[0m \u001b[0mdst\u001b[0m\u001b[0;34m]\u001b[0m\u001b[0;34m:\u001b[0m\u001b[0;34m\u001b[0m\u001b[0m\n",
      "\u001b[0;31mSameFileError\u001b[0m: '/data01/OC_RESINET/process/ResiIndoor05-Pond5/indoor_022/Yolo_v2_0.1_SORT_stacked_images.csv' and '/data01/OC_RESINET/process/ResiIndoor05-Pond5/indoor_022/Yolo_v2_0.1_SORT_stacked_images.csv' are the same file"
     ]
    }
   ],
   "source": [
    "import os\n",
    "from shutil import copyfile\n",
    "\n",
    "rootDir = '/data01/OC_RESINET/process/ResiIndoor05-Pond5'\n",
    "resultDir = '/data01/OC_RESINET/process/ResiIndoor05-Pond5-CSV'\n",
    "\n",
    "for iFolder in os.listdir(rootDir):\n",
    "    working_directory = os.path.join(rootDir, iFolder)\n",
    "    copy_directory = os.path.join(resultDir, iFolder)\n",
    "    if not os.path.exists(copy_directory):\n",
    "        os.makedirs(copy_directory)\n",
    "\n",
    "    print(copy_directory)\n",
    "    results_in_directory = sorted([os.path.join(working_directory, file_name)\n",
    "                  for file_name in os.listdir(working_directory)\n",
    "                  if (os.path.splitext(file_name)[1].lower() in ('.csv')) and os.path.isdir(working_directory)])\n",
    "    \n",
    "    for iFile,file_name in enumerate(results_in_directory[::1]):\n",
    "        if (os.path.basename(file_name) == 'Yolo_v2_0.1_SORT_stacked_images.csv') or \\\n",
    "        (os.path.basename(file_name) == 'Yolo_v2_0.1_stacked_images.csv'):\n",
    "            print(file_name)\n",
    "            src = os.path.join(working_directory,file_name)\n",
    "            dst = os.path.join(copy_directory,file_name)\n",
    "            print(copy_directory)\n",
    "            print(dst)\n",
    "            copyfile(src, dst)\n",
    "        \n",
    "    "
   ]
  },
  {
   "cell_type": "code",
   "execution_count": null,
   "metadata": {
    "collapsed": true
   },
   "outputs": [],
   "source": []
  }
 ],
 "metadata": {
  "kernelspec": {
   "display_name": "Python 3",
   "language": "python",
   "name": "python3"
  },
  "language_info": {
   "codemirror_mode": {
    "name": "ipython",
    "version": 3
   },
   "file_extension": ".py",
   "mimetype": "text/x-python",
   "name": "python",
   "nbconvert_exporter": "python",
   "pygments_lexer": "ipython3",
   "version": "3.6.1"
  }
 },
 "nbformat": 4,
 "nbformat_minor": 2
}
