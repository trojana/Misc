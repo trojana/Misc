{
 "cells": [
  {
   "cell_type": "code",
   "execution_count": 20,
   "metadata": {
    "collapsed": false
   },
   "outputs": [
    {
     "name": "stderr",
     "output_type": "stream",
     "text": [
      "INFO:bokeh.core.state:Session output file 'test3.html' already exists, will be overwritten.\n"
     ]
    },
    {
     "name": "stdout",
     "output_type": "stream",
     "text": [
      "     year  month  day  hours  minutes  seconds      Time  \\\n",
      "0  2014.0    8.0  1.0    0.0      0.0      0.0  41852.00   \n",
      "1  2014.0    8.0  1.0    0.0     15.0      0.0  41852.01   \n",
      "2  2014.0    8.0  1.0    0.0     30.0      0.0  41852.02   \n",
      "3  2014.0    8.0  1.0    0.0     45.0      0.0  41852.03   \n",
      "4  2014.0    8.0  1.0    1.0      0.0      0.0  41852.04   \n",
      "\n",
      "              Timestamp  S1EX Outside Air Temp  Boiler Flow Temp  ...    \\\n",
      "0  01-Aug-2014 00:00:00                    NaN               NaN  ...     \n",
      "1  01-Aug-2014 00:15:00                    NaN             83.30  ...     \n",
      "2  01-Aug-2014 00:30:00                    NaN             83.01  ...     \n",
      "3  01-Aug-2014 00:45:00                    NaN             83.34  ...     \n",
      "4  01-Aug-2014 01:00:00                    NaN             83.30  ...     \n",
      "\n",
      "   Post Fnace Temp [PLC  Fuel level front  Fuel level rear  B1 Ave Fuel Level  \\\n",
      "0                   NaN               NaN              NaN                NaN   \n",
      "1                 88.59             -0.02            -0.24              33.09   \n",
      "2                 88.40             -0.01            -0.09              91.98   \n",
      "3                 88.40             -0.01             0.31              89.93   \n",
      "4                 88.59             -0.01             0.15              32.41   \n",
      "\n",
      "   OccupancyStatus  TimeOfDay  TimeOfYear  DayOfWeek  WeekOfYear  Month  \n",
      "0              0.0       0.00        0.58        6.0        31.0    8.0  \n",
      "1              0.0       0.01        0.58        6.0        31.0    8.0  \n",
      "2              0.0       0.02        0.58        6.0        31.0    8.0  \n",
      "3              0.0       0.03        0.58        6.0        31.0    8.0  \n",
      "4              0.0       0.04        0.58        6.0        31.0    8.0  \n",
      "\n",
      "[5 rows x 28 columns]\n"
     ]
    }
   ],
   "source": [
    "import pandas as pd\n",
    "\n",
    "from bokeh.plotting import figure\n",
    "from bokeh.io import show, output_file\n",
    "from bokeh.layouts import column,gridplot\n",
    "from bokeh.models import ColumnDataSource\n",
    "\n",
    "df = pd.read_csv('boiler_data.csv')\n",
    "df = df.head(400)\n",
    "print(df.head())\n",
    "def test1():\n",
    "    fig = figure(plot_width=1200, plot_height=300, y_range=(0,100), x_axis_label='time',\n",
    "                 y_axis_label=\"Tempereature\",active_scroll='wheel_zoom')\n",
    "    fig.line(df['Time'],df['Boiler Flow Temp'])\n",
    "    fig.line(df['Time'],df['Post Fnace Temp [PLC'], color='red')\n",
    "    output_file('test1.html')\n",
    "    show(fig)\n",
    "def test2():\n",
    "    fig = figure()\n",
    "    fig.circle(df['Boiler Flow Temp'], df['Post Fnace Temp [PLC'])\n",
    "    fig2 = figure()\n",
    "    fig2.circle(df['Boiler Flow Temp'], df['Post Fnace Temp [PLC'])\n",
    "    fig2.x_range = fig.x_range\n",
    "    output_file('test1.html')\n",
    "    show(gridplot([[fig],[fig2]]))\n",
    "\n",
    "def test3():\n",
    "    cds = ColumnDataSource(df)\n",
    "    all_figs = []\n",
    "    column_names = ['Boiler Flow Temp', 'Post Fnace Temp [PLC', 'TimeOfDay', 'B1 Ave Fuel Level']\n",
    "    for c in column_names:\n",
    "        figs_row = []\n",
    "        for c2 in column_names:\n",
    "            fig = figure(plot_height=300, plot_width=300,tools=['box_select','lasso_select'], x_axis_label=c2, y_axis_label=c)\n",
    "            fig.circle(c2,c,source=cds, selection_color='red', nonselection_alpha=0.1)\n",
    "            figs_row.append(fig)\n",
    "        all_figs.append(figs_row)\n",
    "    output_file('test3.html')\n",
    "    show(gridplot(all_figs))\n",
    "test3()"
   ]
  },
  {
   "cell_type": "code",
   "execution_count": null,
   "metadata": {
    "collapsed": true
   },
   "outputs": [],
   "source": []
  }
 ],
 "metadata": {
  "anaconda-cloud": {},
  "kernelspec": {
   "display_name": "Python [conda root]",
   "language": "python",
   "name": "conda-root-py"
  },
  "language_info": {
   "codemirror_mode": {
    "name": "ipython",
    "version": 3
   },
   "file_extension": ".py",
   "mimetype": "text/x-python",
   "name": "python",
   "nbconvert_exporter": "python",
   "pygments_lexer": "ipython3",
   "version": "3.5.2"
  }
 },
 "nbformat": 4,
 "nbformat_minor": 1
}
