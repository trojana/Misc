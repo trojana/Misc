{
 "cells": [
  {
   "cell_type": "code",
   "execution_count": 37,
   "metadata": {},
   "outputs": [
    {
     "name": "stdout",
     "output_type": "stream",
     "text": [
      "{'pre_processing': ['ApplyBytePairEncoding', 'StringToIDGenerator_source', 'StringToIDGenerator_target', 'ClassificationLabelGenerator', 'ExtendField']}\n"
     ]
    }
   ],
   "source": [
    "aa =  (\n",
    "{'pre_processing': [\n",
    "                'ApplyBytePairEncoding',\n",
    "                'StringToIDGenerator_source',\n",
    "                'StringToIDGenerator_target',\n",
    "                'ClassificationLabelGenerator']\n",
    "             })\n",
    "aa.update({'pre_processing': \n",
    "           aa['pre_processing'] +\n",
    "           ['ExtendField'] })\n",
    "print(aa)"
   ]
  },
  {
   "cell_type": "code",
   "execution_count": 50,
   "metadata": {},
   "outputs": [
    {
     "name": "stdout",
     "output_type": "stream",
     "text": [
      "0\n"
     ]
    }
   ],
   "source": [
    "segments_count = [10,0]\n",
    "nt_count =0\n",
    "aa = [100*sum(segments_count)/nt_count if nt_count>0 else 0][0]\n",
    "print(aa)"
   ]
  },
  {
   "cell_type": "code",
   "execution_count": 5,
   "metadata": {},
   "outputs": [
    {
     "name": "stdout",
     "output_type": "stream",
     "text": [
      "{'data': {'test': {'params': {'shuffle': False, 'paths': ['../nt-ar-en/test.json']}, 'type': 'JSONLinesReader'}}, 'pre-processing': [{'params': {'char_level': True, 'out_key': 'x', 'ngram_size': 1, 'in_key': 'src', 'vocabulary_path': 'srcvocab.txt'}, 'type': 'StringToIDGenerator'}, {'params': {'out_key': 'y_true', 'in_key': 'label', 'num_classes': 2}, 'type': 'ClassificationLabelGenerator'}]}\n"
     ]
    }
   ],
   "source": [
    "import yaml\n",
    "\n",
    "#with open('/home/trojana/PythonScripts/robobrain/tests/unit_tests/resources/cnn_text.yml','r') as file:\n",
    "#with open('/home/trojana/PythonScripts/robobrain/tests/regression_tests/resources/cnn_text_char.yml','r') as file:\n",
    "with open('/home/trojana/Data/identify-noontranslatables/models-20170911/nt-ar-en/nt_cnn_config.yml','r') as file:\n",
    "    config = yaml.load(file)\n",
    "    #aa = (config['pre-processing'][0]['params']['mapping'])\n",
    "    print(config)\n",
    "    #print(aa[0].split('->')[1])\n",
    "    #print((config['data']['dev'].keys()))\n",
    "#     for item in config['pre-processing']:\n",
    "#         print(item['type'])\n",
    "#     for item in config['data']:\n",
    "#         print(item)\n",
    "        \n",
    "    #keys = config.keys()\n",
    "#     for keys in config.keys():\n",
    "#         print(keys)\n"
   ]
  },
  {
   "cell_type": "code",
   "execution_count": 39,
   "metadata": {},
   "outputs": [
    {
     "name": "stdout",
     "output_type": "stream",
     "text": [
      "first\n",
      "second\n"
     ]
    }
   ],
   "source": [
    "#delim = '\\t'\n",
    "#print(len(delim.replace(\" \",\"\")))\n",
    "#print(delim.rstrip())\n",
    "with open('/home/trojana/PythonScripts/robobrain/tests/unit_tests/resources/corpus.tsv','r') as file:\n",
    "    for line in file:\n",
    "        cols = line.rstrip().split(delim)\n",
    "        print(cols[0])"
   ]
  },
  {
   "cell_type": "code",
   "execution_count": 31,
   "metadata": {},
   "outputs": [
    {
     "name": "stdout",
     "output_type": "stream",
     "text": [
      "1255\n"
     ]
    }
   ],
   "source": [
    "from collections import defaultdict\n",
    "vocab = defaultdict(int)\n",
    "vocab_file='/home/trojana/Data/identify-noontranslatables/models-20171026/prod-en-ar/srcvocab.txt'\n",
    "with open(vocab_file,'r') as file:\n",
    "    for key in file:\n",
    "        vocab[key] += 1 \n",
    "        if vocab[key] == 2:\n",
    "            print('find same *',key,'*')\n",
    "print(len(vocab))"
   ]
  },
  {
   "cell_type": "code",
   "execution_count": 6,
   "metadata": {},
   "outputs": [
    {
     "name": "stdout",
     "output_type": "stream",
     "text": [
      "20\n"
     ]
    }
   ],
   "source": [
    "def test():\n",
    "    return(None or '20')\n",
    "a=test()\n",
    "print(a)"
   ]
  },
  {
   "cell_type": "code",
   "execution_count": 17,
   "metadata": {},
   "outputs": [
    {
     "name": "stdout",
     "output_type": "stream",
     "text": [
      "['nt-en-uk/train.json', 'nt-en-aa/train.json', 'nt-en-se/train.json']\n"
     ]
    }
   ],
   "source": [
    "lang_list = ['nt-en-uk','nt-en-aa','nt-en-se']\n",
    "list_path = list(map(lambda it: it+'/train.json', lang_list))\n",
    "print((list_path))\n",
    "# for i in list_path:\n",
    "#     print(i)"
   ]
  },
  {
   "cell_type": "code",
   "execution_count": 88,
   "metadata": {},
   "outputs": [
    {
     "name": "stdout",
     "output_type": "stream",
     "text": [
      "data:\n",
      "    dev:\n",
      "        type: JSONLinesReader\n",
      "        params:\n",
      "            paths:\n",
      "            - nt-en-uk/train.json\n",
      "            - nt-en-aa/train.json\n",
      "            - nt-en-se/train.json\n",
      "            shuffle: false\n",
      "\n"
     ]
    }
   ],
   "source": [
    "import yaml\n",
    "data_type = 'dev'\n",
    "shuffle = False\n",
    "data_format = 'JSONLinesReader'\n",
    "\n",
    "config_schema = {'data':\n",
    "        {data_type:\n",
    "             {'Atype': data_format,\n",
    "              'params':\n",
    "                    {'shuffle': shuffle,\n",
    "                     'paths': list_path\n",
    "                    }\n",
    "             }\n",
    "        }\n",
    "    }\n",
    "\n",
    "back = yaml.dump(config_schema, default_flow_style=False,indent=4)\n",
    "back = back.replace('Atype','type')\n",
    "print((back))"
   ]
  },
  {
   "cell_type": "code",
   "execution_count": 74,
   "metadata": {},
   "outputs": [
    {
     "name": "stdout",
     "output_type": "stream",
     "text": [
      "pre-processing:\n",
      "-   params:\n",
      "        mapping:\n",
      "        - 0->src\n",
      "        - 1->label\n",
      "    type: RenameFields\n",
      "-   params:\n",
      "        delimiter: ' '\n",
      "        formula: src+trg\n",
      "        out_key: src\n",
      "    type: ExtendField\n",
      "-   params:\n",
      "        char_level: true\n",
      "        in_key: src\n",
      "        ngram_size: 1\n",
      "        out_key: x\n",
      "        vocabulary_path: srcvocab.txt\n",
      "    type: StringToIDGenerator\n",
      "-   params:\n",
      "        in_key: label\n",
      "        num_classes: 2\n",
      "        out_key: y_true\n",
      "    type: ClassificationLabelGenerator\n",
      "\n"
     ]
    }
   ],
   "source": [
    "vocabulary_path = 'srcvocab.txt'\n",
    "config_schema = {'pre-processing': [\n",
    "    {'type': 'RenameFields', \n",
    "     'params': \n",
    "        {'mapping': [\n",
    "            '0->src',\n",
    "            '1->label'\n",
    "        ]}\n",
    "    },\n",
    "    {'type': 'ExtendField' , \n",
    "     'params':\n",
    "        {'formula': 'src+trg',\n",
    "        'out_key': 'src',\n",
    "        'delimiter': \" \"\n",
    "        }\n",
    "    },\n",
    "    {'type': 'StringToIDGenerator' , \n",
    "     'params':\n",
    "        {'vocabulary_path': vocabulary_path,\n",
    "        'char_level': True,\n",
    "        'ngram_size': 1,\n",
    "        'in_key': 'src',\n",
    "        'out_key': 'x'         \n",
    "        }\n",
    "    },\n",
    "    {'type': 'ClassificationLabelGenerator' , \n",
    "     'params':\n",
    "        {'num_classes': 2,\n",
    "        'in_key': 'label',\n",
    "        'out_key': 'y_true'\n",
    "        }\n",
    "    }\n",
    "]}\n",
    "\n",
    "back = yaml.dump(config_schema, default_flow_style=False,indent=4)\n",
    "print(back)\n",
    "\n"
   ]
  },
  {
   "cell_type": "code",
   "execution_count": 18,
   "metadata": {},
   "outputs": [
    {
     "name": "stdout",
     "output_type": "stream",
     "text": [
      "['    data:\\n        train:\\n            type: JSONLinesReader\\n            params:\\n                shuffle: True/False\\n                paths:\\n']\n"
     ]
    }
   ],
   "source": [
    "data_format = 'JSONLinesReader'\n",
    "JSON_SCHEMA = \"\"\"\\\n",
    "'data':\n",
    "    'train':\n",
    "        'type': JSONLinesReader,\n",
    "        'params':\n",
    "            'shuffle': True\n",
    "            'paths':\n",
    "\"\"\"\n",
    "data = yaml.load(JSON_SCHEMA)\n",
    "print(yaml.dump(data))"
   ]
  },
  {
   "cell_type": "code",
   "execution_count": 30,
   "metadata": {
    "collapsed": true
   },
   "outputs": [],
   "source": [
    "import yaml\n",
    "dataMap = {'treeroot':\n",
    "               {'branch2': \n",
    "                 {'branch1-1': \n",
    "                  {'name': 'Node 1-1'},   # should be its own level\n",
    "                   'name': 'Node 1'\n",
    "                 }\n",
    "               }\n",
    "          }"
   ]
  },
  {
   "cell_type": "code",
   "execution_count": 29,
   "metadata": {},
   "outputs": [
    {
     "name": "stdout",
     "output_type": "stream",
     "text": [
      "treeroot:\n",
      "  branch2:\n",
      "    branch1-1:\n",
      "      name: Node 1-1\n",
      "    name: Node 1\n",
      "\n"
     ]
    }
   ],
   "source": [
    "print(yaml.dump(dataMap, default_flow_style=False))"
   ]
  },
  {
   "cell_type": "code",
   "execution_count": 27,
   "metadata": {},
   "outputs": [
    {
     "name": "stdout",
     "output_type": "stream",
     "text": [
      "# tree format\n",
      "treeroot:\n",
      "    branch1:\n",
      "        name: Node 1\n",
      "        branch1-1:\n",
      "            name: Node 1-1   # should be its own level\n",
      "    branch2:\n",
      "        name: Node 2\n",
      "        branch2-1:\n",
      "            name: Node 2-1\n",
      "\n"
     ]
    }
   ],
   "source": [
    "import ruamel.yaml as yaml\n",
    "\n",
    "yaml_str = \"\"\"\\\n",
    "treeroot:\n",
    "    branch1:\n",
    "        name: Node 1\n",
    "        branch1-1:\n",
    "            name: Node 1-1   # should be its own level\n",
    "    branch2:\n",
    "        name: Node 2\n",
    "        branch2-1:\n",
    "            name: Node 2-1\n",
    "\"\"\"\n",
    "\n",
    "data = yaml.load(yaml_str, Loader=yaml.RoundTripLoader)\n",
    "print(yaml.dump(data, Dumper=yaml.RoundTripDumper, indent=4))"
   ]
  },
  {
   "cell_type": "code",
   "execution_count": 26,
   "metadata": {},
   "outputs": [
    {
     "name": "stdout",
     "output_type": "stream",
     "text": [
      "Collecting ruamel.yaml\n",
      "  Downloading ruamel.yaml-0.15.34-cp35-cp35m-manylinux1_x86_64.whl (557kB)\n",
      "\u001b[K    100% |████████████████████████████████| 563kB 1.4MB/s ta 0:00:011\n",
      "\u001b[?25hInstalling collected packages: ruamel.yaml\n",
      "Successfully installed ruamel.yaml-0.15.34\n"
     ]
    }
   ],
   "source": [
    "!pip install ruamel.yaml"
   ]
  },
  {
   "cell_type": "code",
   "execution_count": null,
   "metadata": {
    "collapsed": true
   },
   "outputs": [],
   "source": []
  }
 ],
 "metadata": {
  "kernelspec": {
   "display_name": "Python 3",
   "language": "python",
   "name": "python3"
  },
  "language_info": {
   "codemirror_mode": {
    "name": "ipython",
    "version": 3
   },
   "file_extension": ".py",
   "mimetype": "text/x-python",
   "name": "python",
   "nbconvert_exporter": "python",
   "pygments_lexer": "ipython3",
   "version": "3.5.2"
  }
 },
 "nbformat": 4,
 "nbformat_minor": 2
}
