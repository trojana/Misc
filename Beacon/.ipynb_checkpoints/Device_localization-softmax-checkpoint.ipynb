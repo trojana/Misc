{
 "cells": [
  {
   "cell_type": "markdown",
   "metadata": {},
   "source": [
    "# Beacon localization with Neural Networks - Softmax\n",
    "In this project dat from all beacons are used to get the location of the device in the space GRID\n"
   ]
  },
  {
   "cell_type": "code",
   "execution_count": 1,
   "metadata": {
    "collapsed": true
   },
   "outputs": [],
   "source": [
    "import tensorflow as tf\n",
    "import numpy as np\n",
    "import pandas as pd\n",
    "import glob, os\n",
    "import plotly\n",
    "import plotly.plotly as py\n",
    "import plotly.graph_objs as go"
   ]
  },
  {
   "cell_type": "markdown",
   "metadata": {},
   "source": [
    "## Load Data\n",
    "Here we load all CSV files, one CSV file equaels one measurement"
   ]
  },
  {
   "cell_type": "code",
   "execution_count": 2,
   "metadata": {
    "collapsed": false
   },
   "outputs": [
    {
     "name": "stdout",
     "output_type": "stream",
     "text": [
      "Loading file ... 01_stat_20170627T1723_Nexus 5X.csv\n",
      "Loading file ... 02_stat_20170627T1730_Nexus 5X.csv\n",
      "Loading file ... 03_stat_20170627T1736_Nexus 5X.csv\n",
      "Loading file ... 04_stat_20170627T1742_Nexus 5X.csv\n",
      "Loading file ... 05_stat_20170627T1748_Nexus 5X.csv\n",
      "Loading file ... 06_stat_20170627T1753_Nexus 5X.csv\n",
      "Loading file ... 07_stat_20170627T1759_Nexus 5X.csv\n",
      "Loading file ... 08_stat_20170627T1805_Nexus 5X.csv\n",
      "Loading file ... 09_stat_20170627T1812_Nexus 5X.csv\n",
      "Loading file ... 10_stat_20170627T1820_Nexus 5X.csv\n",
      "Loading file ... 11_stat_20170627T1826_Nexus 5X.csv\n",
      "Loading file ... 12_stat_20170627T1832_Nexus 5X.csv\n"
     ]
    }
   ],
   "source": [
    "data_path = 'c:/Users/E411208/Documents/Python Scripts/data/Bluetooth/'\n",
    "data = pd.DataFrame()\n",
    "\n",
    "for id,file in enumerate(os.listdir(data_path)):\n",
    "    if file.endswith(\".csv\"):\n",
    "        print('Loading file ... ' + file)\n",
    "        measurement = pd.read_csv(data_path + file)\n",
    "        measurement['measurement']=id \n",
    "        data = data.append(measurement,ignore_index = True)\n"
   ]
  },
  {
   "cell_type": "code",
   "execution_count": 3,
   "metadata": {
    "collapsed": false
   },
   "outputs": [
    {
     "data": {
      "text/html": [
       "<div>\n",
       "<table border=\"1\" class=\"dataframe\">\n",
       "  <thead>\n",
       "    <tr style=\"text-align: right;\">\n",
       "      <th></th>\n",
       "      <th>device_x</th>\n",
       "      <th>device_y</th>\n",
       "      <th>device_z</th>\n",
       "      <th>time</th>\n",
       "      <th>beacon_9827_x</th>\n",
       "      <th>beacon_9827_y</th>\n",
       "      <th>beacon_9827_z</th>\n",
       "      <th>beacon_9827_d</th>\n",
       "      <th>beacon_9841_x</th>\n",
       "      <th>beacon_9841_y</th>\n",
       "      <th>...</th>\n",
       "      <th>beacon_10197_d</th>\n",
       "      <th>beacon_10203_x</th>\n",
       "      <th>beacon_10203_y</th>\n",
       "      <th>beacon_10203_z</th>\n",
       "      <th>beacon_10203_d</th>\n",
       "      <th>beacon_10214_x</th>\n",
       "      <th>beacon_10214_y</th>\n",
       "      <th>beacon_10214_z</th>\n",
       "      <th>beacon_10214_d</th>\n",
       "      <th>measurement</th>\n",
       "    </tr>\n",
       "  </thead>\n",
       "  <tbody>\n",
       "    <tr>\n",
       "      <th>0</th>\n",
       "      <td>22.0</td>\n",
       "      <td>3.5</td>\n",
       "      <td>1.1</td>\n",
       "      <td>2017-01-01T17:24:39</td>\n",
       "      <td>27.0</td>\n",
       "      <td>-4.5</td>\n",
       "      <td>1.1</td>\n",
       "      <td>1.98</td>\n",
       "      <td>3.0</td>\n",
       "      <td>21.0</td>\n",
       "      <td>...</td>\n",
       "      <td>1.70</td>\n",
       "      <td>18.5</td>\n",
       "      <td>19.5</td>\n",
       "      <td>1.1</td>\n",
       "      <td>NaN</td>\n",
       "      <td>13.0</td>\n",
       "      <td>19.5</td>\n",
       "      <td>1.1</td>\n",
       "      <td>NaN</td>\n",
       "      <td>0</td>\n",
       "    </tr>\n",
       "    <tr>\n",
       "      <th>1</th>\n",
       "      <td>22.0</td>\n",
       "      <td>3.5</td>\n",
       "      <td>1.1</td>\n",
       "      <td>2017-01-01T17:24:40</td>\n",
       "      <td>27.0</td>\n",
       "      <td>-4.5</td>\n",
       "      <td>1.1</td>\n",
       "      <td>1.80</td>\n",
       "      <td>3.0</td>\n",
       "      <td>21.0</td>\n",
       "      <td>...</td>\n",
       "      <td>1.68</td>\n",
       "      <td>18.5</td>\n",
       "      <td>19.5</td>\n",
       "      <td>1.1</td>\n",
       "      <td>NaN</td>\n",
       "      <td>13.0</td>\n",
       "      <td>19.5</td>\n",
       "      <td>1.1</td>\n",
       "      <td>NaN</td>\n",
       "      <td>0</td>\n",
       "    </tr>\n",
       "    <tr>\n",
       "      <th>2</th>\n",
       "      <td>22.0</td>\n",
       "      <td>3.5</td>\n",
       "      <td>1.1</td>\n",
       "      <td>2017-01-01T17:24:41</td>\n",
       "      <td>27.0</td>\n",
       "      <td>-4.5</td>\n",
       "      <td>1.1</td>\n",
       "      <td>1.52</td>\n",
       "      <td>3.0</td>\n",
       "      <td>21.0</td>\n",
       "      <td>...</td>\n",
       "      <td>1.68</td>\n",
       "      <td>18.5</td>\n",
       "      <td>19.5</td>\n",
       "      <td>1.1</td>\n",
       "      <td>NaN</td>\n",
       "      <td>13.0</td>\n",
       "      <td>19.5</td>\n",
       "      <td>1.1</td>\n",
       "      <td>NaN</td>\n",
       "      <td>0</td>\n",
       "    </tr>\n",
       "    <tr>\n",
       "      <th>3</th>\n",
       "      <td>22.0</td>\n",
       "      <td>3.5</td>\n",
       "      <td>1.1</td>\n",
       "      <td>2017-01-01T17:24:42</td>\n",
       "      <td>27.0</td>\n",
       "      <td>-4.5</td>\n",
       "      <td>1.1</td>\n",
       "      <td>1.52</td>\n",
       "      <td>3.0</td>\n",
       "      <td>21.0</td>\n",
       "      <td>...</td>\n",
       "      <td>1.66</td>\n",
       "      <td>18.5</td>\n",
       "      <td>19.5</td>\n",
       "      <td>1.1</td>\n",
       "      <td>NaN</td>\n",
       "      <td>13.0</td>\n",
       "      <td>19.5</td>\n",
       "      <td>1.1</td>\n",
       "      <td>NaN</td>\n",
       "      <td>0</td>\n",
       "    </tr>\n",
       "    <tr>\n",
       "      <th>4</th>\n",
       "      <td>22.0</td>\n",
       "      <td>3.5</td>\n",
       "      <td>1.1</td>\n",
       "      <td>2017-01-01T17:24:44</td>\n",
       "      <td>27.0</td>\n",
       "      <td>-4.5</td>\n",
       "      <td>1.1</td>\n",
       "      <td>1.51</td>\n",
       "      <td>3.0</td>\n",
       "      <td>21.0</td>\n",
       "      <td>...</td>\n",
       "      <td>1.70</td>\n",
       "      <td>18.5</td>\n",
       "      <td>19.5</td>\n",
       "      <td>1.1</td>\n",
       "      <td>NaN</td>\n",
       "      <td>13.0</td>\n",
       "      <td>19.5</td>\n",
       "      <td>1.1</td>\n",
       "      <td>NaN</td>\n",
       "      <td>0</td>\n",
       "    </tr>\n",
       "  </tbody>\n",
       "</table>\n",
       "<p>5 rows × 85 columns</p>\n",
       "</div>"
      ],
      "text/plain": [
       "   device_x  device_y  device_z                 time  beacon_9827_x  \\\n",
       "0      22.0       3.5       1.1  2017-01-01T17:24:39           27.0   \n",
       "1      22.0       3.5       1.1  2017-01-01T17:24:40           27.0   \n",
       "2      22.0       3.5       1.1  2017-01-01T17:24:41           27.0   \n",
       "3      22.0       3.5       1.1  2017-01-01T17:24:42           27.0   \n",
       "4      22.0       3.5       1.1  2017-01-01T17:24:44           27.0   \n",
       "\n",
       "   beacon_9827_y  beacon_9827_z  beacon_9827_d  beacon_9841_x  beacon_9841_y  \\\n",
       "0           -4.5            1.1           1.98            3.0           21.0   \n",
       "1           -4.5            1.1           1.80            3.0           21.0   \n",
       "2           -4.5            1.1           1.52            3.0           21.0   \n",
       "3           -4.5            1.1           1.52            3.0           21.0   \n",
       "4           -4.5            1.1           1.51            3.0           21.0   \n",
       "\n",
       "      ...       beacon_10197_d  beacon_10203_x  beacon_10203_y  \\\n",
       "0     ...                 1.70            18.5            19.5   \n",
       "1     ...                 1.68            18.5            19.5   \n",
       "2     ...                 1.68            18.5            19.5   \n",
       "3     ...                 1.66            18.5            19.5   \n",
       "4     ...                 1.70            18.5            19.5   \n",
       "\n",
       "   beacon_10203_z  beacon_10203_d  beacon_10214_x  beacon_10214_y  \\\n",
       "0             1.1             NaN            13.0            19.5   \n",
       "1             1.1             NaN            13.0            19.5   \n",
       "2             1.1             NaN            13.0            19.5   \n",
       "3             1.1             NaN            13.0            19.5   \n",
       "4             1.1             NaN            13.0            19.5   \n",
       "\n",
       "   beacon_10214_z  beacon_10214_d  measurement  \n",
       "0             1.1             NaN            0  \n",
       "1             1.1             NaN            0  \n",
       "2             1.1             NaN            0  \n",
       "3             1.1             NaN            0  \n",
       "4             1.1             NaN            0  \n",
       "\n",
       "[5 rows x 85 columns]"
      ]
     },
     "execution_count": 3,
     "metadata": {},
     "output_type": "execute_result"
    }
   ],
   "source": [
    "data.head()"
   ]
  },
  {
   "cell_type": "markdown",
   "metadata": {},
   "source": [
    "## Space grid \n",
    "Define the location of the spaces (tables,coridors,..). Use grid defined by tiles on ceiling\n",
    "\n",
    "<img src=\"img/HPL_prague.jpg\" width=300px>"
   ]
  },
  {
   "cell_type": "code",
   "execution_count": 4,
   "metadata": {
    "collapsed": true
   },
   "outputs": [],
   "source": [
    "bbox_table = np.array([[17, 0, 7.5, 7],\n",
    "                     [7, 0, 10, 7],\n",
    "                     [0, 0, 7, 8],\n",
    "                     [0, 8, 7, 8.5],\n",
    "                     [0, 16.5, 7, 8.5],\n",
    "                     [0 ,25, 7, 8],\n",
    "                     [7, 26, 10, 7],\n",
    "                     [17, 26, 10, 7],\n",
    "                     [27, 26, 5.5, 7]                       \n",
    "                    ])\n",
    "bbox_coridor = np.array([[10, 7, 21.5, 3],\n",
    "                     [7, 7, 3,19],\n",
    "                     [10, 23, 21.5, 3]\n",
    "                    ])\n",
    "bbox_aquarium = np.array([[22, 10, 6, 6.5],\n",
    "                     [16, 10, 6, 6.5],\n",
    "                     [10, 10, 6, 6.5],\n",
    "                     [10, 16.5, 6, 6.5],\n",
    "                     [16, 16.5, 6, 6.5],\n",
    "                     [22, 16.5, 6, 6.5]                          \n",
    "                    ])\n",
    "\n",
    "bbox_meet = np.array([[24.5, -10, 8.5, 11],\n",
    "                     [24.5, 1, 8.5, 6],\n",
    "                    ])\n",
    "\n",
    "bbox_all = bbox_table#np.concatenate([bbox_table,bbox_coridor,bbox_aquarium])\n",
    "#print(bbox_all)\n",
    "nb_classes = len(bbox_all)"
   ]
  },
  {
   "cell_type": "code",
   "execution_count": 6,
   "metadata": {
    "collapsed": false
   },
   "outputs": [
    {
     "data": {
      "image/png": "[encoded data removed]",
      "text/plain": [
       "<matplotlib.figure.Figure at 0xdd82b38>"
      ]
     },
     "metadata": {},
     "output_type": "display_data"
    }
   ],
   "source": [
    "# visualize the grid\n",
    "\n",
    "%matplotlib inline\n",
    "import matplotlib.pyplot as plt\n",
    "\n",
    "\n",
    "def visu_rectangle(ax,bbox,color,grid_id):\n",
    "    ax.add_patch(plt.Rectangle((bbox[0], bbox[1]),bbox[2],bbox[3], \n",
    "        facecolor=color, alpha=0.5,edgecolor='black',linewidth=1))\n",
    "    \n",
    "    ax.text(bbox[0]+bbox[2]/4, bbox[1]+bbox[3]/2,\n",
    "       '{:s} {:s}'.format('', grid_id),\n",
    "       fontsize=14, color='black')    \n",
    "\n",
    "    \n",
    "fig, ax = plt.subplots()\n",
    "\n",
    "for idx, bbox in enumerate(bbox_table):\n",
    "    visu_rectangle(ax,bbox,'green',str(idx+1))\n",
    "\n",
    "\n",
    "for idx, bbox in enumerate(bbox_coridor):\n",
    "    visu_rectangle(ax,bbox,'red',str(idx+1))\n",
    "\n",
    "for idx, bbox in enumerate(bbox_aquarium):\n",
    "    visu_rectangle(ax,bbox,'blue',str(idx+1))\n",
    "\n",
    "for idx, bbox in enumerate(bbox_meet):\n",
    "    visu_rectangle(ax,bbox,'yellow',str(idx+1))\n",
    "\n",
    "ax.invert_yaxis()  \n",
    "plt.axis('equal')    \n",
    "plt.grid()\n",
    "plt.show()\n"
   ]
  },
  {
   "cell_type": "markdown",
   "metadata": {},
   "source": [
    "### Add new column 'grid_id' which maps device x,y location to id of the grid define above"
   ]
  },
  {
   "cell_type": "code",
   "execution_count": 7,
   "metadata": {
    "collapsed": true
   },
   "outputs": [],
   "source": [
    "data['grid_id'] = 0\n",
    "for index, row in data.iterrows():\n",
    "    x,y = data.loc[index,'device_x'], data.loc[index,'device_y']\n",
    "    for grid_id,bbox in enumerate(bbox_all):\n",
    "        #check if the x,y point is within rectangle\n",
    "        x0,y0,x1,y1 = bbox[0],bbox[1],bbox[2]+bbox[0],bbox[3]+bbox[1]\n",
    "        if x0 < x < x1 and y0 < y < y1: \n",
    "            data.loc[index,'grid_id'] = grid_id"
   ]
  },
  {
   "cell_type": "code",
   "execution_count": 8,
   "metadata": {
    "collapsed": false
   },
   "outputs": [
    {
     "data": {
      "text/html": [
       "<div>\n",
       "<table border=\"1\" class=\"dataframe\">\n",
       "  <thead>\n",
       "    <tr style=\"text-align: right;\">\n",
       "      <th></th>\n",
       "      <th>device_x</th>\n",
       "      <th>device_y</th>\n",
       "      <th>device_z</th>\n",
       "      <th>time</th>\n",
       "      <th>beacon_9827_x</th>\n",
       "      <th>beacon_9827_y</th>\n",
       "      <th>beacon_9827_z</th>\n",
       "      <th>beacon_9827_d</th>\n",
       "      <th>beacon_9841_x</th>\n",
       "      <th>beacon_9841_y</th>\n",
       "      <th>...</th>\n",
       "      <th>beacon_10203_x</th>\n",
       "      <th>beacon_10203_y</th>\n",
       "      <th>beacon_10203_z</th>\n",
       "      <th>beacon_10203_d</th>\n",
       "      <th>beacon_10214_x</th>\n",
       "      <th>beacon_10214_y</th>\n",
       "      <th>beacon_10214_z</th>\n",
       "      <th>beacon_10214_d</th>\n",
       "      <th>measurement</th>\n",
       "      <th>grid_id</th>\n",
       "    </tr>\n",
       "  </thead>\n",
       "  <tbody>\n",
       "    <tr>\n",
       "      <th>2299</th>\n",
       "      <td>3.0</td>\n",
       "      <td>30.5</td>\n",
       "      <td>1.1</td>\n",
       "      <td>2017-01-01T18:37:15</td>\n",
       "      <td>27.0</td>\n",
       "      <td>-4.5</td>\n",
       "      <td>1.1</td>\n",
       "      <td>4.87</td>\n",
       "      <td>3.0</td>\n",
       "      <td>21.0</td>\n",
       "      <td>...</td>\n",
       "      <td>18.5</td>\n",
       "      <td>19.5</td>\n",
       "      <td>1.1</td>\n",
       "      <td>NaN</td>\n",
       "      <td>13.0</td>\n",
       "      <td>19.5</td>\n",
       "      <td>1.1</td>\n",
       "      <td>NaN</td>\n",
       "      <td>11</td>\n",
       "      <td>5</td>\n",
       "    </tr>\n",
       "    <tr>\n",
       "      <th>2300</th>\n",
       "      <td>3.0</td>\n",
       "      <td>30.5</td>\n",
       "      <td>1.1</td>\n",
       "      <td>2017-01-01T18:37:16</td>\n",
       "      <td>27.0</td>\n",
       "      <td>-4.5</td>\n",
       "      <td>1.1</td>\n",
       "      <td>NaN</td>\n",
       "      <td>3.0</td>\n",
       "      <td>21.0</td>\n",
       "      <td>...</td>\n",
       "      <td>18.5</td>\n",
       "      <td>19.5</td>\n",
       "      <td>1.1</td>\n",
       "      <td>NaN</td>\n",
       "      <td>13.0</td>\n",
       "      <td>19.5</td>\n",
       "      <td>1.1</td>\n",
       "      <td>NaN</td>\n",
       "      <td>11</td>\n",
       "      <td>5</td>\n",
       "    </tr>\n",
       "    <tr>\n",
       "      <th>2301</th>\n",
       "      <td>3.0</td>\n",
       "      <td>30.5</td>\n",
       "      <td>1.1</td>\n",
       "      <td>2017-01-01T18:37:18</td>\n",
       "      <td>27.0</td>\n",
       "      <td>-4.5</td>\n",
       "      <td>1.1</td>\n",
       "      <td>4.87</td>\n",
       "      <td>3.0</td>\n",
       "      <td>21.0</td>\n",
       "      <td>...</td>\n",
       "      <td>18.5</td>\n",
       "      <td>19.5</td>\n",
       "      <td>1.1</td>\n",
       "      <td>2.23</td>\n",
       "      <td>13.0</td>\n",
       "      <td>19.5</td>\n",
       "      <td>1.1</td>\n",
       "      <td>NaN</td>\n",
       "      <td>11</td>\n",
       "      <td>5</td>\n",
       "    </tr>\n",
       "    <tr>\n",
       "      <th>2302</th>\n",
       "      <td>3.0</td>\n",
       "      <td>30.5</td>\n",
       "      <td>1.1</td>\n",
       "      <td>2017-01-01T18:37:20</td>\n",
       "      <td>27.0</td>\n",
       "      <td>-4.5</td>\n",
       "      <td>1.1</td>\n",
       "      <td>NaN</td>\n",
       "      <td>3.0</td>\n",
       "      <td>21.0</td>\n",
       "      <td>...</td>\n",
       "      <td>18.5</td>\n",
       "      <td>19.5</td>\n",
       "      <td>1.1</td>\n",
       "      <td>NaN</td>\n",
       "      <td>13.0</td>\n",
       "      <td>19.5</td>\n",
       "      <td>1.1</td>\n",
       "      <td>NaN</td>\n",
       "      <td>11</td>\n",
       "      <td>5</td>\n",
       "    </tr>\n",
       "    <tr>\n",
       "      <th>2303</th>\n",
       "      <td>3.0</td>\n",
       "      <td>30.5</td>\n",
       "      <td>1.1</td>\n",
       "      <td>2017-01-01T18:37:21</td>\n",
       "      <td>27.0</td>\n",
       "      <td>-4.5</td>\n",
       "      <td>1.1</td>\n",
       "      <td>NaN</td>\n",
       "      <td>3.0</td>\n",
       "      <td>21.0</td>\n",
       "      <td>...</td>\n",
       "      <td>18.5</td>\n",
       "      <td>19.5</td>\n",
       "      <td>1.1</td>\n",
       "      <td>NaN</td>\n",
       "      <td>13.0</td>\n",
       "      <td>19.5</td>\n",
       "      <td>1.1</td>\n",
       "      <td>NaN</td>\n",
       "      <td>11</td>\n",
       "      <td>5</td>\n",
       "    </tr>\n",
       "  </tbody>\n",
       "</table>\n",
       "<p>5 rows × 86 columns</p>\n",
       "</div>"
      ],
      "text/plain": [
       "      device_x  device_y  device_z                 time  beacon_9827_x  \\\n",
       "2299       3.0      30.5       1.1  2017-01-01T18:37:15           27.0   \n",
       "2300       3.0      30.5       1.1  2017-01-01T18:37:16           27.0   \n",
       "2301       3.0      30.5       1.1  2017-01-01T18:37:18           27.0   \n",
       "2302       3.0      30.5       1.1  2017-01-01T18:37:20           27.0   \n",
       "2303       3.0      30.5       1.1  2017-01-01T18:37:21           27.0   \n",
       "\n",
       "      beacon_9827_y  beacon_9827_z  beacon_9827_d  beacon_9841_x  \\\n",
       "2299           -4.5            1.1           4.87            3.0   \n",
       "2300           -4.5            1.1            NaN            3.0   \n",
       "2301           -4.5            1.1           4.87            3.0   \n",
       "2302           -4.5            1.1            NaN            3.0   \n",
       "2303           -4.5            1.1            NaN            3.0   \n",
       "\n",
       "      beacon_9841_y   ...     beacon_10203_x  beacon_10203_y  beacon_10203_z  \\\n",
       "2299           21.0   ...               18.5            19.5             1.1   \n",
       "2300           21.0   ...               18.5            19.5             1.1   \n",
       "2301           21.0   ...               18.5            19.5             1.1   \n",
       "2302           21.0   ...               18.5            19.5             1.1   \n",
       "2303           21.0   ...               18.5            19.5             1.1   \n",
       "\n",
       "      beacon_10203_d  beacon_10214_x  beacon_10214_y  beacon_10214_z  \\\n",
       "2299             NaN            13.0            19.5             1.1   \n",
       "2300             NaN            13.0            19.5             1.1   \n",
       "2301            2.23            13.0            19.5             1.1   \n",
       "2302             NaN            13.0            19.5             1.1   \n",
       "2303             NaN            13.0            19.5             1.1   \n",
       "\n",
       "      beacon_10214_d  measurement  grid_id  \n",
       "2299             NaN           11        5  \n",
       "2300             NaN           11        5  \n",
       "2301             NaN           11        5  \n",
       "2302             NaN           11        5  \n",
       "2303             NaN           11        5  \n",
       "\n",
       "[5 rows x 86 columns]"
      ]
     },
     "execution_count": 8,
     "metadata": {},
     "output_type": "execute_result"
    }
   ],
   "source": [
    "data.tail()"
   ]
  },
  {
   "cell_type": "markdown",
   "metadata": {},
   "source": [
    "## Scale data\n",
    "Shift and scale the variables such that they have zero mean and a standard deviation of 1. The scaling factors are saved so we can go backwards when we use the network for predictions."
   ]
  },
  {
   "cell_type": "code",
   "execution_count": 9,
   "metadata": {
    "collapsed": false
   },
   "outputs": [
    {
     "name": "stdout",
     "output_type": "stream",
     "text": [
      "Number of beacons is  20\n"
     ]
    }
   ],
   "source": [
    "list_of_beacons = data.keys()[4:-1] # skip device and time and measurement\n",
    "list_of_devices = [k for k in data.keys()[:3] if not('_d') in k]\n",
    "\n",
    "list_beacon_x = [k for k in list_of_beacons if ('_x') in k]\n",
    "list_beacon_y = [k for k in list_of_beacons if ('_y') in k]\n",
    "list_beacon_z = [k for k in list_of_beacons if ('_z') in k]\n",
    "N_beacons = len(list_beacon_x)\n",
    "print('Number of beacons is ',N_beacons)\n",
    "\n",
    "\n",
    "# scale the x,y,z coordinates\n",
    "list_coordinates = list_of_devices + list_beacon_x + list_beacon_y + list_beacon_z  \n",
    "mean_coordinates, std_coordinates = data[list_coordinates].stack().mean(), data[list_coordinates].stack().std()\n",
    "data.loc[:,list_coordinates] = (data[list_coordinates] - mean_coordinates)/std_coordinates\n",
    "\n",
    "#scale the distances \n",
    "list_beacon_d = [k for k in list_of_beacons if ('_d') in k]\n",
    "mean_distances, std_distances = data[list_beacon_d].stack().mean(), data[list_beacon_d].stack().std()    \n",
    "data.loc[:,list_beacon_d] = (data[list_beacon_d] - mean_distances)/std_distances"
   ]
  },
  {
   "cell_type": "code",
   "execution_count": 10,
   "metadata": {
    "collapsed": false
   },
   "outputs": [
    {
     "data": {
      "text/html": [
       "<div>\n",
       "<table border=\"1\" class=\"dataframe\">\n",
       "  <thead>\n",
       "    <tr style=\"text-align: right;\">\n",
       "      <th></th>\n",
       "      <th>device_x</th>\n",
       "      <th>device_y</th>\n",
       "      <th>device_z</th>\n",
       "      <th>time</th>\n",
       "      <th>beacon_9827_x</th>\n",
       "      <th>beacon_9827_y</th>\n",
       "      <th>beacon_9827_z</th>\n",
       "      <th>beacon_9827_d</th>\n",
       "      <th>beacon_9841_x</th>\n",
       "      <th>beacon_9841_y</th>\n",
       "      <th>...</th>\n",
       "      <th>beacon_10203_x</th>\n",
       "      <th>beacon_10203_y</th>\n",
       "      <th>beacon_10203_z</th>\n",
       "      <th>beacon_10203_d</th>\n",
       "      <th>beacon_10214_x</th>\n",
       "      <th>beacon_10214_y</th>\n",
       "      <th>beacon_10214_z</th>\n",
       "      <th>beacon_10214_d</th>\n",
       "      <th>measurement</th>\n",
       "      <th>grid_id</th>\n",
       "    </tr>\n",
       "  </thead>\n",
       "  <tbody>\n",
       "    <tr>\n",
       "      <th>2299</th>\n",
       "      <td>-0.782355</td>\n",
       "      <td>1.575441</td>\n",
       "      <td>-0.945257</td>\n",
       "      <td>2017-01-01T18:37:15</td>\n",
       "      <td>1.275358</td>\n",
       "      <td>-1.42539</td>\n",
       "      <td>-0.945257</td>\n",
       "      <td>1.705749</td>\n",
       "      <td>-0.782355</td>\n",
       "      <td>0.76093</td>\n",
       "      <td>...</td>\n",
       "      <td>0.546585</td>\n",
       "      <td>0.632323</td>\n",
       "      <td>-0.945257</td>\n",
       "      <td>NaN</td>\n",
       "      <td>0.075026</td>\n",
       "      <td>0.632323</td>\n",
       "      <td>-0.945257</td>\n",
       "      <td>NaN</td>\n",
       "      <td>11</td>\n",
       "      <td>5</td>\n",
       "    </tr>\n",
       "    <tr>\n",
       "      <th>2300</th>\n",
       "      <td>-0.782355</td>\n",
       "      <td>1.575441</td>\n",
       "      <td>-0.945257</td>\n",
       "      <td>2017-01-01T18:37:16</td>\n",
       "      <td>1.275358</td>\n",
       "      <td>-1.42539</td>\n",
       "      <td>-0.945257</td>\n",
       "      <td>NaN</td>\n",
       "      <td>-0.782355</td>\n",
       "      <td>0.76093</td>\n",
       "      <td>...</td>\n",
       "      <td>0.546585</td>\n",
       "      <td>0.632323</td>\n",
       "      <td>-0.945257</td>\n",
       "      <td>NaN</td>\n",
       "      <td>0.075026</td>\n",
       "      <td>0.632323</td>\n",
       "      <td>-0.945257</td>\n",
       "      <td>NaN</td>\n",
       "      <td>11</td>\n",
       "      <td>5</td>\n",
       "    </tr>\n",
       "    <tr>\n",
       "      <th>2301</th>\n",
       "      <td>-0.782355</td>\n",
       "      <td>1.575441</td>\n",
       "      <td>-0.945257</td>\n",
       "      <td>2017-01-01T18:37:18</td>\n",
       "      <td>1.275358</td>\n",
       "      <td>-1.42539</td>\n",
       "      <td>-0.945257</td>\n",
       "      <td>1.705749</td>\n",
       "      <td>-0.782355</td>\n",
       "      <td>0.76093</td>\n",
       "      <td>...</td>\n",
       "      <td>0.546585</td>\n",
       "      <td>0.632323</td>\n",
       "      <td>-0.945257</td>\n",
       "      <td>-0.101191</td>\n",
       "      <td>0.075026</td>\n",
       "      <td>0.632323</td>\n",
       "      <td>-0.945257</td>\n",
       "      <td>NaN</td>\n",
       "      <td>11</td>\n",
       "      <td>5</td>\n",
       "    </tr>\n",
       "    <tr>\n",
       "      <th>2302</th>\n",
       "      <td>-0.782355</td>\n",
       "      <td>1.575441</td>\n",
       "      <td>-0.945257</td>\n",
       "      <td>2017-01-01T18:37:20</td>\n",
       "      <td>1.275358</td>\n",
       "      <td>-1.42539</td>\n",
       "      <td>-0.945257</td>\n",
       "      <td>NaN</td>\n",
       "      <td>-0.782355</td>\n",
       "      <td>0.76093</td>\n",
       "      <td>...</td>\n",
       "      <td>0.546585</td>\n",
       "      <td>0.632323</td>\n",
       "      <td>-0.945257</td>\n",
       "      <td>NaN</td>\n",
       "      <td>0.075026</td>\n",
       "      <td>0.632323</td>\n",
       "      <td>-0.945257</td>\n",
       "      <td>NaN</td>\n",
       "      <td>11</td>\n",
       "      <td>5</td>\n",
       "    </tr>\n",
       "    <tr>\n",
       "      <th>2303</th>\n",
       "      <td>-0.782355</td>\n",
       "      <td>1.575441</td>\n",
       "      <td>-0.945257</td>\n",
       "      <td>2017-01-01T18:37:21</td>\n",
       "      <td>1.275358</td>\n",
       "      <td>-1.42539</td>\n",
       "      <td>-0.945257</td>\n",
       "      <td>NaN</td>\n",
       "      <td>-0.782355</td>\n",
       "      <td>0.76093</td>\n",
       "      <td>...</td>\n",
       "      <td>0.546585</td>\n",
       "      <td>0.632323</td>\n",
       "      <td>-0.945257</td>\n",
       "      <td>NaN</td>\n",
       "      <td>0.075026</td>\n",
       "      <td>0.632323</td>\n",
       "      <td>-0.945257</td>\n",
       "      <td>NaN</td>\n",
       "      <td>11</td>\n",
       "      <td>5</td>\n",
       "    </tr>\n",
       "  </tbody>\n",
       "</table>\n",
       "<p>5 rows × 86 columns</p>\n",
       "</div>"
      ],
      "text/plain": [
       "      device_x  device_y  device_z                 time  beacon_9827_x  \\\n",
       "2299 -0.782355  1.575441 -0.945257  2017-01-01T18:37:15       1.275358   \n",
       "2300 -0.782355  1.575441 -0.945257  2017-01-01T18:37:16       1.275358   \n",
       "2301 -0.782355  1.575441 -0.945257  2017-01-01T18:37:18       1.275358   \n",
       "2302 -0.782355  1.575441 -0.945257  2017-01-01T18:37:20       1.275358   \n",
       "2303 -0.782355  1.575441 -0.945257  2017-01-01T18:37:21       1.275358   \n",
       "\n",
       "      beacon_9827_y  beacon_9827_z  beacon_9827_d  beacon_9841_x  \\\n",
       "2299       -1.42539      -0.945257       1.705749      -0.782355   \n",
       "2300       -1.42539      -0.945257            NaN      -0.782355   \n",
       "2301       -1.42539      -0.945257       1.705749      -0.782355   \n",
       "2302       -1.42539      -0.945257            NaN      -0.782355   \n",
       "2303       -1.42539      -0.945257            NaN      -0.782355   \n",
       "\n",
       "      beacon_9841_y   ...     beacon_10203_x  beacon_10203_y  beacon_10203_z  \\\n",
       "2299        0.76093   ...           0.546585        0.632323       -0.945257   \n",
       "2300        0.76093   ...           0.546585        0.632323       -0.945257   \n",
       "2301        0.76093   ...           0.546585        0.632323       -0.945257   \n",
       "2302        0.76093   ...           0.546585        0.632323       -0.945257   \n",
       "2303        0.76093   ...           0.546585        0.632323       -0.945257   \n",
       "\n",
       "      beacon_10203_d  beacon_10214_x  beacon_10214_y  beacon_10214_z  \\\n",
       "2299             NaN        0.075026        0.632323       -0.945257   \n",
       "2300             NaN        0.075026        0.632323       -0.945257   \n",
       "2301       -0.101191        0.075026        0.632323       -0.945257   \n",
       "2302             NaN        0.075026        0.632323       -0.945257   \n",
       "2303             NaN        0.075026        0.632323       -0.945257   \n",
       "\n",
       "      beacon_10214_d  measurement  grid_id  \n",
       "2299             NaN           11        5  \n",
       "2300             NaN           11        5  \n",
       "2301             NaN           11        5  \n",
       "2302             NaN           11        5  \n",
       "2303             NaN           11        5  \n",
       "\n",
       "[5 rows x 86 columns]"
      ]
     },
     "execution_count": 10,
     "metadata": {},
     "output_type": "execute_result"
    }
   ],
   "source": [
    "data.tail()"
   ]
  },
  {
   "cell_type": "markdown",
   "metadata": {},
   "source": [
    "## Train/Validation/Test set\n",
    "The data are split in 3 datasets. From each measurement use 80% is for training, 10% for validation and 10% for testing"
   ]
  },
  {
   "cell_type": "code",
   "execution_count": 11,
   "metadata": {
    "collapsed": true
   },
   "outputs": [],
   "source": [
    "train = pd.DataFrame()\n",
    "valid = pd.DataFrame()\n",
    "test = pd.DataFrame()\n",
    "\n",
    "for measurement in range(0,data['measurement'].max()+1):\n",
    "    subdata = data[data['measurement'] == measurement]\n",
    "    length = len(subdata.index)\n",
    "    train_idx = int(length*0.8)\n",
    "    valid_idx = int(length*0.9)\n",
    "    train = train.append(subdata.iloc[:train_idx])\n",
    "    valid = valid.append(subdata.iloc[train_idx:valid_idx])\n",
    "    test  = test.append(subdata.iloc[valid_idx:])\n"
   ]
  },
  {
   "cell_type": "code",
   "execution_count": 12,
   "metadata": {
    "collapsed": false
   },
   "outputs": [
    {
     "name": "stdout",
     "output_type": "stream",
     "text": [
      "2304 All data lines\n",
      "1837 Training data lines\n",
      "228 Validation data lines\n",
      "239 Testing data lines\n"
     ]
    }
   ],
   "source": [
    "print(len(data.index),'All data lines')\n",
    "print(len(train.index),'Training data lines')\n",
    "print(len(valid.index),'Validation data lines')\n",
    "print(len(test.index),'Testing data lines')"
   ]
  },
  {
   "cell_type": "markdown",
   "metadata": {},
   "source": [
    "## Data Cleansing\n",
    "Every timestamp has various number of beacon measurements (3-20). The input to the network will take information from ALL beacons and try to predict the location of the device.  The becons with distance equal to NaN will have cooridnates set to 0\n",
    "\n",
    "How many beacons is required to get descent output?"
   ]
  },
  {
   "cell_type": "code",
   "execution_count": 13,
   "metadata": {
    "collapsed": false,
    "scrolled": true
   },
   "outputs": [
    {
     "name": "stdout",
     "output_type": "stream",
     "text": [
      "Number of processed rows ... 0\n",
      "Number of processed rows ... 100\n",
      "Number of processed rows ... 200\n",
      "Number of processed rows ... 300\n",
      "Number of processed rows ... 400\n",
      "Number of processed rows ... 500\n",
      "Number of processed rows ... 600\n",
      "Number of processed rows ... 700\n",
      "Number of processed rows ... 800\n",
      "Number of processed rows ... 900\n",
      "Number of processed rows ... 1000\n",
      "Number of processed rows ... 1100\n",
      "Number of processed rows ... 1200\n",
      "Number of processed rows ... 1300\n",
      "Number of processed rows ... 1400\n",
      "Number of processed rows ... 1600\n",
      "Number of processed rows ... 1800\n",
      "Number of processed rows ... 2000\n",
      "Number of processed rows ... 2200\n",
      "Number of processed rows ... 1500\n",
      "Number of processed rows ... 1700\n",
      "Number of processed rows ... 1900\n",
      "Number of processed rows ... 2100\n",
      "Number of processed rows ... 2300\n"
     ]
    }
   ],
   "source": [
    "from itertools import combinations\n",
    "\n",
    "def augmented_data(in_data):\n",
    "    out_data_x = list()\n",
    "    out_data_y = list()\n",
    "    for index, row in in_data.iterrows():\n",
    "        if index % 100 == 0: print('Number of processed rows ...',index)\n",
    "        \n",
    "        # set zero to beacons coordinates & distance if distance == NaN \n",
    "        out_data_y.extend(np.eye(nb_classes)[row['grid_id']])\n",
    "\n",
    "        for idx,beacon in enumerate(list_beacon_d):\n",
    "            if pd.isnull(row[beacon]):\n",
    "                out_data_x.extend([0,0,0,0])\n",
    "            else:    \n",
    "                out_data_x.extend([row[list_beacon_x[idx]],row[list_beacon_y[idx]],row[list_beacon_z[idx]],row[list_beacon_d[idx]]])\n",
    "\n",
    "    out_data_x = np.reshape(out_data_x,[-1,N_beacons*4]) #all 20 beacons [x,y,z,d]            \n",
    "    out_data_y = np.reshape(out_data_y,[-1,nb_classes]) # device [x,y,z]\n",
    "    return out_data_x,out_data_y\n",
    "                \n",
    "\n",
    "#augmented_data(train[:1])\n",
    "train_x,train_y = augmented_data(train)\n",
    "val_x,val_y = augmented_data(valid)\n",
    "test_x,test_y = augmented_data(test)"
   ]
  },
  {
   "cell_type": "code",
   "execution_count": 14,
   "metadata": {
    "collapsed": false
   },
   "outputs": [
    {
     "name": "stdout",
     "output_type": "stream",
     "text": [
      "(1837, 86)\n",
      "(1837, 9)\n",
      "(1837, 80)\n",
      "(228, 80)\n",
      "(239, 80)\n"
     ]
    }
   ],
   "source": [
    "print(train.shape)\n",
    "print(train_y.shape)\n",
    "print(train_x.shape)\n",
    "print(val_x.shape)\n",
    "print(test_x.shape)"
   ]
  },
  {
   "cell_type": "markdown",
   "metadata": {},
   "source": [
    "### save the data"
   ]
  },
  {
   "cell_type": "code",
   "execution_count": 15,
   "metadata": {
    "collapsed": true
   },
   "outputs": [],
   "source": [
    "np.save('test_x',test_x)\n",
    "np.save('test_y',test_y)"
   ]
  },
  {
   "cell_type": "markdown",
   "metadata": {},
   "source": [
    "# Neural Network\n",
    "Construct a network that takes on input signals from 3 beacons and their x,y,z coordinates + distance, have one nonlinear hidden layer and output x,y,z, coordinates of the device"
   ]
  },
  {
   "cell_type": "code",
   "execution_count": 16,
   "metadata": {
    "collapsed": true
   },
   "outputs": [],
   "source": [
    "# Remove previous weights, bias, inputs, etc..\n",
    "tf.reset_default_graph()\n",
    "\n",
    "x = tf.placeholder('float32',[None,N_beacons*4])\n",
    "y = tf.placeholder('float32',[None,nb_classes])\n",
    "learning_rate = 0.001;\n",
    "num_outputs = nb_classes;\n",
    "\n",
    "#####################################\n",
    "## Create the Neural Network Model ##\n",
    "#####################################\n",
    "\n",
    "def fully_conn(input, hiddens):\n",
    "    input_shape = input.get_shape().as_list()\n",
    "    std_init = 1/np.sqrt(input_shape[1])\n",
    "    weight = tf.Variable(tf.truncated_normal([input_shape[1],hiddens], stddev=std_init)) \n",
    "    bias = tf.Variable(tf.constant(0.1, shape=[hiddens]))\n",
    "    full_bias = tf.add(tf.matmul(input,weight),bias,name='full_bias')\n",
    "    return tf.nn.elu(full_bias,name='fc_relu')\n",
    "\n",
    "def output(input, num_outputs):\n",
    "    input_shape = input.get_shape().as_list()\n",
    "    std_init = 1/np.sqrt(input_shape[1])\n",
    "    weight = tf.Variable(tf.truncated_normal([input_shape[1],num_outputs], stddev=std_init)) \n",
    "    return tf.matmul(input,weight, name='output')    \n",
    "\n",
    "def network(input,num_outputs):\n",
    "    hidden1 = fully_conn(input,20) # 20\n",
    "    hidden2 = fully_conn(hidden1,50) # 50\n",
    "    hidden3 = fully_conn(hidden2,100) # 100\n",
    "    out = output(hidden3,num_outputs)\n",
    "    return out\n",
    "\n",
    "##############################\n",
    "## Build the Neural Network ##\n",
    "##############################\n",
    "\n",
    "# Model\n",
    "logits =  network(x,num_outputs)\n",
    "\n",
    "\n",
    "# Loss and Optimizer\n",
    "cost = tf.reduce_mean(tf.nn.softmax_cross_entropy_with_logits(logits=logits, labels=y))\n",
    "optimizer = tf.train.AdamOptimizer(learning_rate).minimize(cost)\n",
    "\n",
    "# Accuracy\n",
    "correct_pred = tf.equal(tf.argmax(logits, 1), tf.argmax(y, 1))\n",
    "accuracy = tf.reduce_mean(tf.cast(correct_pred, tf.float32), name='accuracy')"
   ]
  },
  {
   "cell_type": "markdown",
   "metadata": {},
   "source": [
    "## Prepare batches for training"
   ]
  },
  {
   "cell_type": "code",
   "execution_count": 17,
   "metadata": {
    "collapsed": true
   },
   "outputs": [],
   "source": [
    "def get_batches(x, y, n_batches=20):\n",
    "    \"\"\" Return a generator that yields batches from arrays x and y. \"\"\"\n",
    "    batch_size = len(x)//n_batches\n",
    "    \n",
    "    for ii in range(0, n_batches*batch_size, batch_size):\n",
    "        # If we're not on the last batch, grab data with size batch_size\n",
    "        if ii != (n_batches-1)*batch_size:\n",
    "            X, Y = x[ii: ii+batch_size], y[ii: ii+batch_size] \n",
    "        # On the last batch, grab the rest of the data\n",
    "        else: X, Y = x[ii:], y[ii:]\n",
    "        # I love generators\n",
    "        yield X, Y"
   ]
  },
  {
   "cell_type": "markdown",
   "metadata": {},
   "source": [
    "## Network training"
   ]
  },
  {
   "cell_type": "code",
   "execution_count": 29,
   "metadata": {
    "collapsed": false,
    "scrolled": true
   },
   "outputs": [
    {
     "name": "stdout",
     "output_type": "stream",
     "text": [
      "Epoch: 4/100 Iteration: 100 Training loss: 1.44356 Validation loss: 1.23987 Validation Acc: 0.6316\n",
      "Epoch: 9/100 Iteration: 200 Training loss: 0.75226 Validation loss: 0.69160 Validation Acc: 0.7982\n",
      "Epoch: 14/100 Iteration: 300 Training loss: 0.56775 Validation loss: 0.47165 Validation Acc: 0.8640\n",
      "Epoch: 19/100 Iteration: 400 Training loss: 0.44911 Validation loss: 0.33980 Validation Acc: 0.9035\n",
      "Epoch: 24/100 Iteration: 500 Training loss: 0.37624 Validation loss: 0.25776 Validation Acc: 0.9298\n",
      "Epoch: 29/100 Iteration: 600 Training loss: 0.33161 Validation loss: 0.21037 Validation Acc: 0.9342\n",
      "Epoch: 34/100 Iteration: 700 Training loss: 0.29738 Validation loss: 0.25084 Validation Acc: 0.9035\n",
      "Epoch: 39/100 Iteration: 800 Training loss: 0.79973 Validation loss: 1.14359 Validation Acc: 0.6579\n",
      "Epoch: 44/100 Iteration: 900 Training loss: 0.20689 Validation loss: 0.33263 Validation Acc: 0.8860\n",
      "Epoch: 49/100 Iteration: 1000 Training loss: 0.23879 Validation loss: 0.20856 Validation Acc: 0.9430\n",
      "Epoch: 54/100 Iteration: 1100 Training loss: 0.23607 Validation loss: 0.18013 Validation Acc: 0.9430\n",
      "Epoch: 59/100 Iteration: 1200 Training loss: 0.23419 Validation loss: 0.16376 Validation Acc: 0.9386\n",
      "Epoch: 64/100 Iteration: 1300 Training loss: 0.23153 Validation loss: 0.15257 Validation Acc: 0.9474\n",
      "Epoch: 69/100 Iteration: 1400 Training loss: 0.22807 Validation loss: 0.14416 Validation Acc: 0.9474\n",
      "Epoch: 74/100 Iteration: 1500 Training loss: 0.22391 Validation loss: 0.13745 Validation Acc: 0.9430\n",
      "Epoch: 79/100 Iteration: 1600 Training loss: 0.21923 Validation loss: 0.13191 Validation Acc: 0.9474\n",
      "Epoch: 84/100 Iteration: 1700 Training loss: 0.21408 Validation loss: 0.12729 Validation Acc: 0.9474\n",
      "Epoch: 89/100 Iteration: 1800 Training loss: 0.20855 Validation loss: 0.12344 Validation Acc: 0.9474\n",
      "Epoch: 94/100 Iteration: 1900 Training loss: 0.20281 Validation loss: 0.12027 Validation Acc: 0.9474\n",
      "Epoch: 99/100 Iteration: 2000 Training loss: 0.19694 Validation loss: 0.11771 Validation Acc: 0.9474\n"
     ]
    }
   ],
   "source": [
    "epochs = 100\n",
    "iteration = 0\n",
    "saver = tf.train.Saver()\n",
    "with tf.Session() as sess:\n",
    "    \n",
    "    sess.run(tf.global_variables_initializer())\n",
    "    for e in range(epochs):\n",
    "        for t_x, t_y in get_batches(train_x, train_y):\n",
    "            feed = {x: t_x.astype(np.float32), \n",
    "                    y: t_y.astype(np.float32)}\n",
    "            loss, _ = sess.run([cost, optimizer], feed_dict=feed)\n",
    "#             print(\"Epoch: {}/{}\".format(e+1, epochs),\n",
    "#                   \"Iteration: {}\".format(iteration),\n",
    "#                   \"Training loss: {:.5f}\".format(loss))\n",
    "            iteration += 1\n",
    "            \n",
    "            if iteration % 100 == 0:\n",
    "                feed = {x: val_x,\n",
    "                        y: val_y}\n",
    "                val_loss,val_acc = sess.run([cost, accuracy], feed_dict=feed)\n",
    "                print(\"Epoch: {}/{}\".format(e, epochs),\n",
    "                      \"Iteration: {}\".format(iteration),\n",
    "                      \"Training loss: {:.5f}\".format(loss),\n",
    "                      \"Validation loss: {:.5f}\".format(val_loss),\n",
    "                      \"Validation Acc: {:.4f}\".format(val_acc))\n",
    "    saver.save(sess, \"checkpoints-softmax/dev_loc.ckpt\")"
   ]
  },
  {
   "cell_type": "markdown",
   "metadata": {},
   "source": [
    "## Save the network to numpy"
   ]
  },
  {
   "cell_type": "code",
   "execution_count": null,
   "metadata": {
    "collapsed": false
   },
   "outputs": [],
   "source": [
    "saver = tf.train.Saver()\n",
    "with tf.Session() as sess:\n",
    "    saver.restore(sess, tf.train.latest_checkpoint('checkpoints-softmax'))\n",
    "    for v in tf.trainable_variables():\n",
    "        print(v)\n",
    "    \n",
    "    var = [v for v in tf.trainable_variables() if v.name == \"Variable:0\"][0]\n",
    "    weight_1 = sess.run(var)\n",
    "    np.save('checkpoints-softmax-numpy/weight_1',weight_1)\n",
    "    \n",
    "    var = [v for v in tf.trainable_variables() if v.name == \"Variable_1:0\"][0]\n",
    "    bias_1  = sess.run(var)\n",
    "    np.save('checkpoints-softmax-numpy/bias_1',bias_1)\n",
    "    \n",
    "    var = [v for v in tf.trainable_variables() if v.name == \"Variable_2:0\"][0]\n",
    "    weight_2 = sess.run(var)\n",
    "    np.save('checkpoints-softmax-numpy/weight_2',weight_2)\n",
    "    \n",
    "    var = [v for v in tf.trainable_variables() if v.name == \"Variable_3:0\"][0]\n",
    "    bias_2 = sess.run(var)\n",
    "    np.save('checkpoints-softmax-numpy/bias_2',bias_2)\n",
    "    \n",
    "    var = [v for v in tf.trainable_variables() if v.name == \"Variable_4:0\"][0]\n",
    "    weight_3 = sess.run(var)\n",
    "    np.save('checkpoints-softmax-numpy/weight_3',weight_3)\n",
    "    \n",
    "    var = [v for v in tf.trainable_variables() if v.name == \"Variable_5:0\"][0]\n",
    "    bias_3 = sess.run(var)\n",
    "    np.save('checkpoints-softmax-numpy/bias_3',bias_3)\n",
    "\n",
    "    var = [v for v in tf.trainable_variables() if v.name == \"Variable_6:0\"][0]\n",
    "    output = sess.run(var)\n",
    "    np.save('checkpoints-softmax-numpy/output',output)\n",
    "\n",
    "    "
   ]
  },
  {
   "cell_type": "markdown",
   "metadata": {},
   "source": [
    "## Check the result on testing data \n",
    "load the trained model and run it"
   ]
  },
  {
   "cell_type": "code",
   "execution_count": 222,
   "metadata": {
    "collapsed": false
   },
   "outputs": [
    {
     "name": "stdout",
     "output_type": "stream",
     "text": [
      "INFO:tensorflow:Restoring parameters from checkpoints-softmax\\dev_loc.ckpt\n",
      "Test accuracy: 95.3975\n"
     ]
    }
   ],
   "source": [
    "saver = tf.train.Saver()\n",
    "with tf.Session() as sess:\n",
    "    saver.restore(sess, tf.train.latest_checkpoint('checkpoints-softmax'))\n",
    "    \n",
    "    feed = {x: test_x,\n",
    "            y: test_y}\n",
    "\n",
    "    out = sess.run(tf.nn.softmax(logits), feed_dict=feed)\n",
    "    \n",
    "    out_test_y =sess.run(tf.argmax(out, axis=1))\n",
    "    label_test_y = sess.run(tf.argmax(test_y, axis=1))\n",
    "    test_los,test_acc = sess.run([cost,accuracy], feed_dict=feed)\n",
    "    print(\"Test accuracy: {:.4f}\".format(test_acc*100))"
   ]
  },
  {
   "cell_type": "code",
   "execution_count": 133,
   "metadata": {
    "collapsed": false
   },
   "outputs": [
    {
     "name": "stdout",
     "output_type": "stream",
     "text": [
      "0  -  1.0\n",
      "0  -  1.0\n",
      "0  -  0.773609\n",
      "0  -  0.672007\n",
      "0  -  0.999624\n",
      "0  -  1.0\n",
      "0  -  1.0\n",
      "0  -  1.0\n",
      "0  -  1.0\n",
      "0  -  1.0\n",
      "0  -  1.0\n",
      "0  -  1.0\n",
      "0  -  1.0\n",
      "0  -  0.999272\n",
      "0  -  0.999999\n",
      "0  -  0.999994\n",
      "0  -  1.0\n",
      "0  -  1.0\n",
      "0  -  1.0\n",
      "0  -  1.0\n",
      "0  -  0.999982\n",
      "0  -  0.999981\n",
      "0  -  0.993679\n",
      "0  -  1.0\n",
      "0  -  0.723231\n",
      "0  -  1.0\n",
      "0  -  0.999985\n",
      "0  -  0.999999\n",
      "0  -  1.0\n",
      "0  -  0.999999\n",
      "0  -  0.999998\n",
      "0  -  0.999982\n",
      "0  -  1.0\n",
      "0  -  1.0\n",
      "0  -  1.0\n",
      "0  -  0.432229\n",
      "0  -  0.999995\n",
      "0  -  1.0\n",
      "0  -  0.999979\n",
      "1  -  0.999811\n",
      "1  -  0.99933\n",
      "1  -  0.739297\n",
      "1  -  0.991968\n",
      "1  -  0.999786\n",
      "1  -  0.999951\n",
      "1  -  0.998075\n",
      "1  -  0.987448\n",
      "1  -  0.999986\n",
      "1  -  0.599622\n",
      "1  -  0.999144\n",
      "1  -  0.999917\n",
      "1  -  0.999167\n",
      "1  -  0.887302\n",
      "1  -  0.999831\n",
      "1  -  0.983549\n",
      "1  -  0.999903\n",
      "1  -  0.999981\n",
      "1  -  0.999042\n",
      "1  -  0.999987\n",
      "1  -  0.997647\n",
      "1  -  0.999769\n",
      "1  -  0.99593\n",
      "0  -  0.678017\n",
      "1  -  0.999821\n",
      "1  -  0.998049\n",
      "1  -  0.999398\n",
      "1  -  0.999664\n",
      "1  -  0.998244\n",
      "1  -  0.999685\n",
      "1  -  0.999855\n",
      "1  -  0.768578\n",
      "1  -  0.999686\n",
      "1  -  0.999585\n",
      "5  -  0.407467\n",
      "1  -  0.985283\n",
      "1  -  0.994474\n",
      "1  -  0.999745\n",
      "1  -  0.99454\n",
      "1  -  0.990853\n",
      "2  -  0.999924\n",
      "2  -  0.999971\n",
      "2  -  0.999953\n",
      "2  -  0.999358\n",
      "2  -  0.99998\n",
      "2  -  0.99978\n",
      "2  -  0.98934\n",
      "2  -  0.995769\n",
      "2  -  0.999585\n",
      "2  -  0.560165\n",
      "2  -  0.989321\n",
      "2  -  0.999607\n",
      "2  -  0.999945\n",
      "2  -  0.99994\n",
      "2  -  0.999375\n",
      "2  -  0.999966\n",
      "2  -  0.995253\n",
      "2  -  0.999011\n",
      "2  -  0.989425\n",
      "2  -  0.999988\n",
      "2  -  0.999001\n",
      "2  -  0.999885\n",
      "2  -  0.904167\n",
      "3  -  0.661036\n",
      "2  -  0.98612\n",
      "2  -  0.997456\n",
      "2  -  0.999283\n",
      "2  -  0.977128\n",
      "2  -  0.999686\n",
      "2  -  0.998594\n",
      "2  -  0.998352\n",
      "2  -  0.999441\n",
      "2  -  0.999614\n",
      "3  -  0.537794\n",
      "2  -  0.99999\n",
      "2  -  0.99744\n",
      "2  -  0.999942\n",
      "2  -  0.998091\n",
      "2  -  0.999667\n",
      "2  -  0.999395\n",
      "3  -  0.96035\n",
      "3  -  0.998904\n",
      "3  -  0.998652\n",
      "3  -  0.746751\n",
      "3  -  0.998943\n",
      "3  -  0.996467\n",
      "3  -  0.997565\n",
      "3  -  0.997944\n",
      "3  -  0.994712\n",
      "3  -  0.997818\n",
      "3  -  0.995787\n",
      "3  -  0.987546\n",
      "3  -  0.973655\n",
      "3  -  0.97746\n",
      "3  -  0.977789\n",
      "3  -  0.771807\n",
      "3  -  0.991854\n",
      "3  -  0.999025\n",
      "3  -  0.998932\n",
      "3  -  0.996137\n",
      "3  -  0.986683\n",
      "3  -  0.973291\n",
      "3  -  0.995535\n",
      "3  -  0.999357\n",
      "3  -  0.986797\n",
      "3  -  0.943121\n",
      "3  -  0.997951\n",
      "3  -  0.91091\n",
      "3  -  0.996478\n",
      "3  -  0.334176\n",
      "3  -  0.913012\n",
      "3  -  0.99573\n",
      "3  -  0.997128\n",
      "3  -  0.997322\n",
      "3  -  0.997125\n",
      "3  -  0.995591\n",
      "3  -  0.83053\n",
      "3  -  0.823314\n",
      "3  -  0.593766\n",
      "3  -  0.997045\n",
      "4  -  0.864113\n",
      "4  -  0.986542\n",
      "4  -  0.963455\n",
      "4  -  0.989769\n",
      "4  -  0.995904\n",
      "4  -  0.979839\n",
      "4  -  0.768517\n",
      "4  -  0.992082\n",
      "4  -  0.934482\n",
      "4  -  0.962066\n",
      "4  -  0.96516\n",
      "4  -  0.989232\n",
      "4  -  0.989183\n",
      "4  -  0.887744\n",
      "4  -  0.986912\n",
      "4  -  0.997497\n",
      "4  -  0.950812\n",
      "4  -  0.824525\n",
      "4  -  0.978894\n",
      "5  -  0.908791\n",
      "4  -  0.82042\n",
      "4  -  0.658523\n",
      "4  -  0.997468\n",
      "4  -  0.997163\n",
      "4  -  0.998969\n",
      "3  -  0.720872\n",
      "4  -  0.880394\n",
      "4  -  0.998945\n",
      "4  -  0.995916\n",
      "4  -  0.998271\n",
      "4  -  0.974799\n",
      "4  -  0.576287\n",
      "4  -  0.899839\n",
      "4  -  0.989339\n",
      "4  -  0.991493\n",
      "4  -  0.992814\n",
      "4  -  0.99632\n",
      "4  -  0.831059\n",
      "4  -  0.97503\n",
      "4  -  0.968516\n",
      "5  -  0.994224\n",
      "5  -  0.995832\n",
      "5  -  0.931617\n",
      "5  -  0.994474\n",
      "5  -  0.992527\n",
      "0  -  0.420877\n",
      "5  -  0.971104\n",
      "5  -  0.997802\n",
      "5  -  0.87853\n",
      "5  -  0.945427\n",
      "4  -  0.707658\n",
      "5  -  0.992394\n",
      "5  -  0.998048\n",
      "5  -  0.998379\n",
      "5  -  0.998904\n",
      "5  -  0.985943\n",
      "5  -  0.463184\n",
      "5  -  0.999932\n",
      "5  -  0.809103\n",
      "4  -  0.795627\n",
      "5  -  0.942791\n",
      "5  -  0.995397\n",
      "5  -  0.997549\n",
      "4  -  0.800181\n",
      "5  -  0.999473\n",
      "5  -  0.9987\n",
      "5  -  0.991049\n",
      "5  -  0.999215\n",
      "5  -  0.934391\n",
      "5  -  0.989598\n",
      "5  -  0.985624\n",
      "5  -  0.97911\n",
      "5  -  0.999934\n",
      "5  -  0.999859\n",
      "4  -  0.681925\n",
      "5  -  0.997193\n",
      "5  -  0.616983\n",
      "5  -  0.999948\n",
      "5  -  0.999807\n",
      "5  -  0.997043\n"
     ]
    }
   ],
   "source": [
    "confidence_test = np.amax(out,axis=1)\n",
    "for i,val in enumerate(out_y):\n",
    "    print(out_test_y[i],' - ',confidence_test[i])"
   ]
  },
  {
   "cell_type": "code",
   "execution_count": 33,
   "metadata": {
    "collapsed": false
   },
   "outputs": [
    {
     "data": {
      "image/png": "[encoded data removed]",
      "text/plain": [
       "<matplotlib.figure.Figure at 0x11dd4ef0>"
      ]
     },
     "metadata": {},
     "output_type": "display_data"
    }
   ],
   "source": [
    "plt.plot(range(0,239), label_y,'r')\n",
    "plt.plot(range(0,239), out_y,':')\n",
    "plt.grid()"
   ]
  },
  {
   "cell_type": "markdown",
   "metadata": {},
   "source": [
    "## Find Confidence Threshold on Training data to increase Test accuracy \n",
    "show the lowest confidence for correct output\n",
    "show the highest confidence for wrong output\n",
    "\n",
    "BUT keep the number of correct prediction at 95%"
   ]
  },
  {
   "cell_type": "code",
   "execution_count": 178,
   "metadata": {
    "collapsed": false
   },
   "outputs": [
    {
     "name": "stdout",
     "output_type": "stream",
     "text": [
      "INFO:tensorflow:Restoring parameters from checkpoints-softmax\\dev_loc.ckpt\n",
      "Train accuracy: 0.9771\n"
     ]
    }
   ],
   "source": [
    "saver = tf.train.Saver()\n",
    "with tf.Session() as sess:\n",
    "    saver.restore(sess, tf.train.latest_checkpoint('checkpoints-softmax'))\n",
    "    \n",
    "    feed = {x: train_x,\n",
    "            y: train_y}\n",
    "\n",
    "    out = sess.run(tf.nn.softmax(logits), feed_dict=feed)\n",
    "    \n",
    "    out_train_y =sess.run(tf.argmax(out, axis=1))\n",
    "    label_train_y = sess.run(tf.argmax(train_y, axis=1))\n",
    "    test_los,test_acc = sess.run([cost,accuracy], feed_dict=feed)\n",
    "    print(\"Train accuracy: {:.4f}\".format(test_acc))"
   ]
  },
  {
   "cell_type": "code",
   "execution_count": 191,
   "metadata": {
    "collapsed": false
   },
   "outputs": [
    {
     "name": "stdout",
     "output_type": "stream",
     "text": [
      "show the lowest confidence for correct output 0.347125\n",
      "show the lowest/highest confidence for wrong output 0.283276   0.920838\n"
     ]
    }
   ],
   "source": [
    "confidence_train = np.amax(out,axis=1)\n",
    "ind_train_correct = list()\n",
    "ind_train_wrong = list()\n",
    "for ind,val in enumerate(out_train_y):\n",
    "    if val == label_train_y[ind]:\n",
    "        ind_train_correct.append(ind)\n",
    "    else:\n",
    "        ind_train_wrong.append(ind)\n",
    "\n",
    "print('show the lowest confidence for correct output',\n",
    "      confidence_train[ind_train_correct].min())\n",
    "print('show the lowest/highest confidence for wrong output',\n",
    "      confidence_train[ind_train_wrong].min(),' ',confidence_train[ind_train_wrong].max())"
   ]
  },
  {
   "cell_type": "code",
   "execution_count": 243,
   "metadata": {
    "collapsed": false
   },
   "outputs": [
    {
     "name": "stdout",
     "output_type": "stream",
     "text": [
      "For threshold 0.50 (1.52% data removed)\n",
      "11 item 0.6% correct removed\n",
      "17 item 40.5% wrong removed\n",
      "\n",
      "For threshold 0.55 (2.72% data removed)\n",
      "27 item 1.5% correct removed\n",
      "23 item 54.8% wrong removed\n",
      "\n",
      "For threshold 0.60 (3.76% data removed)\n",
      "39 item 2.2% correct removed\n",
      "30 item 71.4% wrong removed\n",
      "\n",
      "For threshold 0.65 (4.57% data removed)\n",
      "50 item 2.8% correct removed\n",
      "34 item 81.0% wrong removed\n",
      "\n",
      "For threshold 0.70 (6.04% data removed)\n",
      "73 item 4.1% correct removed\n",
      "38 item 90.5% wrong removed\n",
      "\n",
      "For threshold 0.75 (7.02% data removed)\n",
      "91 item 5.1% correct removed\n",
      "38 item 90.5% wrong removed\n",
      "\n",
      "For threshold 0.80 (7.89% data removed)\n",
      "107 item 6.0% correct removed\n",
      "38 item 90.5% wrong removed\n",
      "\n"
     ]
    }
   ],
   "source": [
    "for val in range(50,81,5):\n",
    "    T = val/100\n",
    "    \n",
    "    grid_correct = np.sum(confidence_train[ind_train_correct]<T)\n",
    "    grid_wrong = np.sum(confidence_train[ind_train_wrong]<T)\n",
    "    percent_correct = 100*grid_correct/len(confidence_train[ind_train_correct])\n",
    "    percent_wrong = 100*grid_wrong/len(confidence_train[ind_train_wrong])\n",
    "    percent_all = 100*(grid_correct+ grid_wrong)/len(confidence_train)\n",
    "    print('For threshold {0:.2f} ({1:.2f}% data removed)'.format(T,percent_all))\n",
    "    print('{0} item {1:.1f}% correct removed'.format(grid_correct,percent_correct))\n",
    "    print('{0} item {1:.1f}% wrong removed'.format(grid_wrong,percent_wrong))\n",
    "    print()"
   ]
  },
  {
   "cell_type": "markdown",
   "metadata": {},
   "source": [
    "how many percent of correct wrong output is removed for selected threshold"
   ]
  },
  {
   "cell_type": "markdown",
   "metadata": {},
   "source": [
    "# SET THRESHOLD"
   ]
  },
  {
   "cell_type": "code",
   "execution_count": 235,
   "metadata": {
    "collapsed": true
   },
   "outputs": [],
   "source": [
    "T = 0.75"
   ]
  },
  {
   "cell_type": "markdown",
   "metadata": {},
   "source": [
    "# Training data results"
   ]
  },
  {
   "cell_type": "code",
   "execution_count": 236,
   "metadata": {
    "collapsed": false
   },
   "outputs": [
    {
     "data": {
      "text/plain": [
       "[<matplotlib.lines.Line2D at 0x1955dac8>]"
      ]
     },
     "execution_count": 236,
     "metadata": {},
     "output_type": "execute_result"
    },
    {
     "data": {
      "image/png": "[encoded data removed]",
      "text/plain": [
       "<matplotlib.figure.Figure at 0x199a7908>"
      ]
     },
     "metadata": {},
     "output_type": "display_data"
    }
   ],
   "source": [
    "plt.plot(ind_train_correct,confidence_train[ind_train_correct],linestyle='None',marker='o',color='b')\n",
    "plt.plot(ind_train_wrong,confidence_train[ind_train_wrong],linestyle='None',marker='o',color='r')\n",
    "plt.plot(np.ones(len(confidence_train))*T,color='r')"
   ]
  },
  {
   "cell_type": "code",
   "execution_count": 237,
   "metadata": {
    "collapsed": false
   },
   "outputs": [
    {
     "name": "stdout",
     "output_type": "stream",
     "text": [
      "The precission on training data is 99.77, for T=0.75 (with 7.0% data removed)\n"
     ]
    }
   ],
   "source": [
    "ind_correct = list()\n",
    "ind_wrong = list()\n",
    "ind_all = list()\n",
    "ind_removed = list()\n",
    "for ind,val in enumerate(out_train_y):\n",
    "    if confidence_train[ind] > T:\n",
    "        ind_all.append(ind)\n",
    "        if val == label_train_y[ind]:\n",
    "            ind_correct.append(ind)\n",
    "        else:\n",
    "            ind_wrong.append(ind)\n",
    "    else:\n",
    "        ind_removed.append(ind)\n",
    "            \n",
    "precision = 100*len(ind_correct)/len(ind_all)            \n",
    "percent_removed = 100*len(ind_removed)/len(confidence_train)\n",
    "print('The precission on training data is {0:.2f}, for T={1:.2f} (with {2:0.1f}% data removed)'.format(precision,T,percent_removed))"
   ]
  },
  {
   "cell_type": "markdown",
   "metadata": {},
   "source": [
    "# Testing data results"
   ]
  },
  {
   "cell_type": "code",
   "execution_count": 238,
   "metadata": {
    "collapsed": true
   },
   "outputs": [],
   "source": [
    "ind_test_correct = list()\n",
    "ind_test_wrong = list()\n",
    "for ind,val in enumerate(out_test_y):\n",
    "    if val == label_test_y[ind]:\n",
    "        ind_test_correct.append(ind)\n",
    "    else:\n",
    "        ind_test_wrong.append(ind)"
   ]
  },
  {
   "cell_type": "code",
   "execution_count": 239,
   "metadata": {
    "collapsed": false
   },
   "outputs": [
    {
     "data": {
      "text/plain": [
       "[<matplotlib.lines.Line2D at 0x195db208>]"
      ]
     },
     "execution_count": 239,
     "metadata": {},
     "output_type": "execute_result"
    },
    {
     "data": {
      "image/png": "[encoded data removed]",
      "text/plain": [
       "<matplotlib.figure.Figure at 0x195821d0>"
      ]
     },
     "metadata": {},
     "output_type": "display_data"
    }
   ],
   "source": [
    "plt.plot(ind_test_correct,confidence_test[ind_test_correct],linestyle='None',marker='o',color='b')\n",
    "plt.plot(ind_test_wrong,confidence_test[ind_test_wrong],linestyle='None',marker='o',color='r')\n",
    "plt.plot(np.ones(len(confidence_test))*T,color='r')"
   ]
  },
  {
   "cell_type": "code",
   "execution_count": 240,
   "metadata": {
    "collapsed": false
   },
   "outputs": [
    {
     "name": "stdout",
     "output_type": "stream",
     "text": [
      "The precission on testing data is 98.62, for T=0.75 (with 8.8% data removed)\n"
     ]
    }
   ],
   "source": [
    "ind_correct = list()\n",
    "ind_wrong = list()\n",
    "ind_all = list()\n",
    "ind_removed = list()\n",
    "for ind,val in enumerate(out_test_y):\n",
    "    if confidence_test[ind] > T:\n",
    "        ind_all.append(ind)\n",
    "        if val == label_test_y[ind]:\n",
    "            ind_correct.append(ind)\n",
    "        else:\n",
    "            ind_wrong.append(ind)\n",
    "    else:\n",
    "        ind_removed.append(ind)\n",
    "            \n",
    "precision = 100*len(ind_correct)/len(ind_all)            \n",
    "percent_removed = 100*len(ind_removed)/len(confidence_test)\n",
    "print('The precission on testing data is {1:.2f}, for T={0:.2f} (with {2:0.1f}% data removed)'.format(T,precision,percent_removed))"
   ]
  },
  {
   "cell_type": "code",
   "execution_count": null,
   "metadata": {
    "collapsed": true
   },
   "outputs": [],
   "source": []
  }
 ],
 "metadata": {
  "kernelspec": {
   "display_name": "Python [default]",
   "language": "python",
   "name": "python3"
  },
  "language_info": {
   "codemirror_mode": {
    "name": "ipython",
    "version": 3
   },
   "file_extension": ".py",
   "mimetype": "text/x-python",
   "name": "python",
   "nbconvert_exporter": "python",
   "pygments_lexer": "ipython3",
   "version": "3.5.2"
  }
 },
 "nbformat": 4,
 "nbformat_minor": 2
}
