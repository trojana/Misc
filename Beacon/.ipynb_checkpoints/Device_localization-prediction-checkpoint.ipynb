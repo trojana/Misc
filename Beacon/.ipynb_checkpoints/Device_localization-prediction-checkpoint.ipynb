{
 "cells": [
  {
   "cell_type": "markdown",
   "metadata": {},
   "source": [
    "# Beacon localization with Neural Networks - Prediction\n",
    "In this project dat from N=3 different beacons are used to get the location of the device in the space\n"
   ]
  },
  {
   "cell_type": "code",
   "execution_count": 1,
   "metadata": {
    "collapsed": true
   },
   "outputs": [],
   "source": [
    "%matplotlib inline\n",
    "import matplotlib.pyplot as plt\n",
    "import tensorflow as tf # v 1.0 or higher\n",
    "import numpy as np # version 1.13 required\n",
    "import pandas as pd\n",
    "import glob, os\n",
    "import plotly\n",
    "import plotly.plotly as py\n",
    "import plotly.graph_objs as go"
   ]
  },
  {
   "cell_type": "markdown",
   "metadata": {},
   "source": [
    "## Load Data\n",
    "Here we load all CSV files"
   ]
  },
  {
   "cell_type": "code",
   "execution_count": 2,
   "metadata": {
    "collapsed": false
   },
   "outputs": [
    {
     "name": "stdout",
     "output_type": "stream",
     "text": [
      "Loading file ... 01_stat_20170627T1723_Nexus 5X.csv\n",
      "Loading file ... 02_stat_20170627T1730_Nexus 5X.csv\n",
      "Loading file ... 03_stat_20170627T1736_Nexus 5X.csv\n",
      "Loading file ... 04_stat_20170627T1742_Nexus 5X.csv\n",
      "Loading file ... 05_stat_20170627T1748_Nexus 5X.csv\n",
      "Loading file ... 06_stat_20170627T1753_Nexus 5X.csv\n",
      "Loading file ... 07_stat_20170627T1759_Nexus 5X.csv\n",
      "Loading file ... 08_stat_20170627T1805_Nexus 5X.csv\n",
      "Loading file ... 09_stat_20170627T1812_Nexus 5X.csv\n",
      "Loading file ... 10_stat_20170627T1820_Nexus 5X.csv\n",
      "Loading file ... 11_stat_20170627T1826_Nexus 5X.csv\n",
      "Loading file ... 12_stat_20170627T1832_Nexus 5X.csv\n"
     ]
    }
   ],
   "source": [
    "data_path = 'c:/Users/E411208/Documents/Python Scripts/data/Bluetooth/'\n",
    "data = pd.DataFrame()\n",
    "\n",
    "for id,file in enumerate(os.listdir(data_path)):\n",
    "    if file.endswith(\".csv\"):\n",
    "        print('Loading file ... ' + file)\n",
    "        measurement = pd.read_csv(data_path + file)\n",
    "        measurement['measurement']=id \n",
    "        data = data.append(measurement,ignore_index = True)\n"
   ]
  },
  {
   "cell_type": "code",
   "execution_count": 3,
   "metadata": {
    "collapsed": false
   },
   "outputs": [
    {
     "data": {
      "text/html": [
       "<div>\n",
       "<table border=\"1\" class=\"dataframe\">\n",
       "  <thead>\n",
       "    <tr style=\"text-align: right;\">\n",
       "      <th></th>\n",
       "      <th>device_x</th>\n",
       "      <th>device_y</th>\n",
       "      <th>device_z</th>\n",
       "      <th>time</th>\n",
       "      <th>beacon_9827_x</th>\n",
       "      <th>beacon_9827_y</th>\n",
       "      <th>beacon_9827_z</th>\n",
       "      <th>beacon_9827_d</th>\n",
       "      <th>beacon_9841_x</th>\n",
       "      <th>beacon_9841_y</th>\n",
       "      <th>...</th>\n",
       "      <th>beacon_10197_d</th>\n",
       "      <th>beacon_10203_x</th>\n",
       "      <th>beacon_10203_y</th>\n",
       "      <th>beacon_10203_z</th>\n",
       "      <th>beacon_10203_d</th>\n",
       "      <th>beacon_10214_x</th>\n",
       "      <th>beacon_10214_y</th>\n",
       "      <th>beacon_10214_z</th>\n",
       "      <th>beacon_10214_d</th>\n",
       "      <th>measurement</th>\n",
       "    </tr>\n",
       "  </thead>\n",
       "  <tbody>\n",
       "    <tr>\n",
       "      <th>0</th>\n",
       "      <td>22.0</td>\n",
       "      <td>3.5</td>\n",
       "      <td>1.1</td>\n",
       "      <td>2017-01-01T17:24:39</td>\n",
       "      <td>27.0</td>\n",
       "      <td>-4.5</td>\n",
       "      <td>1.1</td>\n",
       "      <td>1.98</td>\n",
       "      <td>3.0</td>\n",
       "      <td>21.0</td>\n",
       "      <td>...</td>\n",
       "      <td>1.70</td>\n",
       "      <td>18.5</td>\n",
       "      <td>19.5</td>\n",
       "      <td>1.1</td>\n",
       "      <td>NaN</td>\n",
       "      <td>13.0</td>\n",
       "      <td>19.5</td>\n",
       "      <td>1.1</td>\n",
       "      <td>NaN</td>\n",
       "      <td>0</td>\n",
       "    </tr>\n",
       "    <tr>\n",
       "      <th>1</th>\n",
       "      <td>22.0</td>\n",
       "      <td>3.5</td>\n",
       "      <td>1.1</td>\n",
       "      <td>2017-01-01T17:24:40</td>\n",
       "      <td>27.0</td>\n",
       "      <td>-4.5</td>\n",
       "      <td>1.1</td>\n",
       "      <td>1.80</td>\n",
       "      <td>3.0</td>\n",
       "      <td>21.0</td>\n",
       "      <td>...</td>\n",
       "      <td>1.68</td>\n",
       "      <td>18.5</td>\n",
       "      <td>19.5</td>\n",
       "      <td>1.1</td>\n",
       "      <td>NaN</td>\n",
       "      <td>13.0</td>\n",
       "      <td>19.5</td>\n",
       "      <td>1.1</td>\n",
       "      <td>NaN</td>\n",
       "      <td>0</td>\n",
       "    </tr>\n",
       "    <tr>\n",
       "      <th>2</th>\n",
       "      <td>22.0</td>\n",
       "      <td>3.5</td>\n",
       "      <td>1.1</td>\n",
       "      <td>2017-01-01T17:24:41</td>\n",
       "      <td>27.0</td>\n",
       "      <td>-4.5</td>\n",
       "      <td>1.1</td>\n",
       "      <td>1.52</td>\n",
       "      <td>3.0</td>\n",
       "      <td>21.0</td>\n",
       "      <td>...</td>\n",
       "      <td>1.68</td>\n",
       "      <td>18.5</td>\n",
       "      <td>19.5</td>\n",
       "      <td>1.1</td>\n",
       "      <td>NaN</td>\n",
       "      <td>13.0</td>\n",
       "      <td>19.5</td>\n",
       "      <td>1.1</td>\n",
       "      <td>NaN</td>\n",
       "      <td>0</td>\n",
       "    </tr>\n",
       "    <tr>\n",
       "      <th>3</th>\n",
       "      <td>22.0</td>\n",
       "      <td>3.5</td>\n",
       "      <td>1.1</td>\n",
       "      <td>2017-01-01T17:24:42</td>\n",
       "      <td>27.0</td>\n",
       "      <td>-4.5</td>\n",
       "      <td>1.1</td>\n",
       "      <td>1.52</td>\n",
       "      <td>3.0</td>\n",
       "      <td>21.0</td>\n",
       "      <td>...</td>\n",
       "      <td>1.66</td>\n",
       "      <td>18.5</td>\n",
       "      <td>19.5</td>\n",
       "      <td>1.1</td>\n",
       "      <td>NaN</td>\n",
       "      <td>13.0</td>\n",
       "      <td>19.5</td>\n",
       "      <td>1.1</td>\n",
       "      <td>NaN</td>\n",
       "      <td>0</td>\n",
       "    </tr>\n",
       "    <tr>\n",
       "      <th>4</th>\n",
       "      <td>22.0</td>\n",
       "      <td>3.5</td>\n",
       "      <td>1.1</td>\n",
       "      <td>2017-01-01T17:24:44</td>\n",
       "      <td>27.0</td>\n",
       "      <td>-4.5</td>\n",
       "      <td>1.1</td>\n",
       "      <td>1.51</td>\n",
       "      <td>3.0</td>\n",
       "      <td>21.0</td>\n",
       "      <td>...</td>\n",
       "      <td>1.70</td>\n",
       "      <td>18.5</td>\n",
       "      <td>19.5</td>\n",
       "      <td>1.1</td>\n",
       "      <td>NaN</td>\n",
       "      <td>13.0</td>\n",
       "      <td>19.5</td>\n",
       "      <td>1.1</td>\n",
       "      <td>NaN</td>\n",
       "      <td>0</td>\n",
       "    </tr>\n",
       "  </tbody>\n",
       "</table>\n",
       "<p>5 rows × 85 columns</p>\n",
       "</div>"
      ],
      "text/plain": [
       "   device_x  device_y  device_z                 time  beacon_9827_x  \\\n",
       "0      22.0       3.5       1.1  2017-01-01T17:24:39           27.0   \n",
       "1      22.0       3.5       1.1  2017-01-01T17:24:40           27.0   \n",
       "2      22.0       3.5       1.1  2017-01-01T17:24:41           27.0   \n",
       "3      22.0       3.5       1.1  2017-01-01T17:24:42           27.0   \n",
       "4      22.0       3.5       1.1  2017-01-01T17:24:44           27.0   \n",
       "\n",
       "   beacon_9827_y  beacon_9827_z  beacon_9827_d  beacon_9841_x  beacon_9841_y  \\\n",
       "0           -4.5            1.1           1.98            3.0           21.0   \n",
       "1           -4.5            1.1           1.80            3.0           21.0   \n",
       "2           -4.5            1.1           1.52            3.0           21.0   \n",
       "3           -4.5            1.1           1.52            3.0           21.0   \n",
       "4           -4.5            1.1           1.51            3.0           21.0   \n",
       "\n",
       "      ...       beacon_10197_d  beacon_10203_x  beacon_10203_y  \\\n",
       "0     ...                 1.70            18.5            19.5   \n",
       "1     ...                 1.68            18.5            19.5   \n",
       "2     ...                 1.68            18.5            19.5   \n",
       "3     ...                 1.66            18.5            19.5   \n",
       "4     ...                 1.70            18.5            19.5   \n",
       "\n",
       "   beacon_10203_z  beacon_10203_d  beacon_10214_x  beacon_10214_y  \\\n",
       "0             1.1             NaN            13.0            19.5   \n",
       "1             1.1             NaN            13.0            19.5   \n",
       "2             1.1             NaN            13.0            19.5   \n",
       "3             1.1             NaN            13.0            19.5   \n",
       "4             1.1             NaN            13.0            19.5   \n",
       "\n",
       "   beacon_10214_z  beacon_10214_d  measurement  \n",
       "0             1.1             NaN            0  \n",
       "1             1.1             NaN            0  \n",
       "2             1.1             NaN            0  \n",
       "3             1.1             NaN            0  \n",
       "4             1.1             NaN            0  \n",
       "\n",
       "[5 rows x 85 columns]"
      ]
     },
     "execution_count": 3,
     "metadata": {},
     "output_type": "execute_result"
    }
   ],
   "source": [
    "data.head()"
   ]
  },
  {
   "cell_type": "markdown",
   "metadata": {},
   "source": [
    "## Scale data\n",
    "Shift and scale the variables such that they have zero mean and a standard deviation of 1. The scaling factors are saved so we can go backwards when we use the network for predictions."
   ]
  },
  {
   "cell_type": "code",
   "execution_count": 4,
   "metadata": {
    "collapsed": false
   },
   "outputs": [
    {
     "name": "stdout",
     "output_type": "stream",
     "text": [
      "Number of beacons is  20\n"
     ]
    }
   ],
   "source": [
    "list_of_beacons = data.keys()[4:-1] # skip device and time and measurement\n",
    "list_of_devices = [k for k in data.keys()[:3] if not('_d') in k]\n",
    "\n",
    "\n",
    "list_beacon_x = [k for k in list_of_beacons if ('_x') in k]\n",
    "list_beacon_y = [k for k in list_of_beacons if ('_y') in k]\n",
    "list_beacon_z = [k for k in list_of_beacons if ('_z') in k]\n",
    "N_beacons = len(list_beacon_x)\n",
    "print('Number of beacons is ',N_beacons)\n",
    "\n",
    "# scale the x,y,z coordinates\n",
    "list_coordinates = list_of_devices + list_beacon_x + list_beacon_y + list_beacon_z  \n",
    "mean_coordinates, std_coordinates = data[list_coordinates].stack().mean(), data[list_coordinates].stack().std()\n",
    "data.loc[:,list_coordinates] = (data[list_coordinates] - mean_coordinates)/std_coordinates\n",
    "\n",
    "#scale the distances \n",
    "list_beacon_d = [k for k in list_of_beacons if ('_d') in k]\n",
    "mean_distances, std_distances = data[list_beacon_d].stack().mean(), data[list_beacon_d].stack().std()    \n",
    "data.loc[:,list_beacon_d] = (data[list_beacon_d] - mean_distances)/std_distances"
   ]
  },
  {
   "cell_type": "code",
   "execution_count": 5,
   "metadata": {
    "collapsed": false
   },
   "outputs": [
    {
     "data": {
      "text/html": [
       "<div>\n",
       "<table border=\"1\" class=\"dataframe\">\n",
       "  <thead>\n",
       "    <tr style=\"text-align: right;\">\n",
       "      <th></th>\n",
       "      <th>device_x</th>\n",
       "      <th>device_y</th>\n",
       "      <th>device_z</th>\n",
       "      <th>time</th>\n",
       "      <th>beacon_9827_x</th>\n",
       "      <th>beacon_9827_y</th>\n",
       "      <th>beacon_9827_z</th>\n",
       "      <th>beacon_9827_d</th>\n",
       "      <th>beacon_9841_x</th>\n",
       "      <th>beacon_9841_y</th>\n",
       "      <th>...</th>\n",
       "      <th>beacon_10197_d</th>\n",
       "      <th>beacon_10203_x</th>\n",
       "      <th>beacon_10203_y</th>\n",
       "      <th>beacon_10203_z</th>\n",
       "      <th>beacon_10203_d</th>\n",
       "      <th>beacon_10214_x</th>\n",
       "      <th>beacon_10214_y</th>\n",
       "      <th>beacon_10214_z</th>\n",
       "      <th>beacon_10214_d</th>\n",
       "      <th>measurement</th>\n",
       "    </tr>\n",
       "  </thead>\n",
       "  <tbody>\n",
       "    <tr>\n",
       "      <th>0</th>\n",
       "      <td>0.846668</td>\n",
       "      <td>-0.739486</td>\n",
       "      <td>-0.945257</td>\n",
       "      <td>2017-01-01T17:24:39</td>\n",
       "      <td>1.275358</td>\n",
       "      <td>-1.42539</td>\n",
       "      <td>-0.945257</td>\n",
       "      <td>-0.272303</td>\n",
       "      <td>-0.782355</td>\n",
       "      <td>0.76093</td>\n",
       "      <td>...</td>\n",
       "      <td>-0.463948</td>\n",
       "      <td>0.546585</td>\n",
       "      <td>0.632323</td>\n",
       "      <td>-0.945257</td>\n",
       "      <td>NaN</td>\n",
       "      <td>0.075026</td>\n",
       "      <td>0.632323</td>\n",
       "      <td>-0.945257</td>\n",
       "      <td>NaN</td>\n",
       "      <td>0</td>\n",
       "    </tr>\n",
       "    <tr>\n",
       "      <th>1</th>\n",
       "      <td>0.846668</td>\n",
       "      <td>-0.739486</td>\n",
       "      <td>-0.945257</td>\n",
       "      <td>2017-01-01T17:24:40</td>\n",
       "      <td>1.275358</td>\n",
       "      <td>-1.42539</td>\n",
       "      <td>-0.945257</td>\n",
       "      <td>-0.395503</td>\n",
       "      <td>-0.782355</td>\n",
       "      <td>0.76093</td>\n",
       "      <td>...</td>\n",
       "      <td>-0.477637</td>\n",
       "      <td>0.546585</td>\n",
       "      <td>0.632323</td>\n",
       "      <td>-0.945257</td>\n",
       "      <td>NaN</td>\n",
       "      <td>0.075026</td>\n",
       "      <td>0.632323</td>\n",
       "      <td>-0.945257</td>\n",
       "      <td>NaN</td>\n",
       "      <td>0</td>\n",
       "    </tr>\n",
       "    <tr>\n",
       "      <th>2</th>\n",
       "      <td>0.846668</td>\n",
       "      <td>-0.739486</td>\n",
       "      <td>-0.945257</td>\n",
       "      <td>2017-01-01T17:24:41</td>\n",
       "      <td>1.275358</td>\n",
       "      <td>-1.42539</td>\n",
       "      <td>-0.945257</td>\n",
       "      <td>-0.587148</td>\n",
       "      <td>-0.782355</td>\n",
       "      <td>0.76093</td>\n",
       "      <td>...</td>\n",
       "      <td>-0.477637</td>\n",
       "      <td>0.546585</td>\n",
       "      <td>0.632323</td>\n",
       "      <td>-0.945257</td>\n",
       "      <td>NaN</td>\n",
       "      <td>0.075026</td>\n",
       "      <td>0.632323</td>\n",
       "      <td>-0.945257</td>\n",
       "      <td>NaN</td>\n",
       "      <td>0</td>\n",
       "    </tr>\n",
       "    <tr>\n",
       "      <th>3</th>\n",
       "      <td>0.846668</td>\n",
       "      <td>-0.739486</td>\n",
       "      <td>-0.945257</td>\n",
       "      <td>2017-01-01T17:24:42</td>\n",
       "      <td>1.275358</td>\n",
       "      <td>-1.42539</td>\n",
       "      <td>-0.945257</td>\n",
       "      <td>-0.587148</td>\n",
       "      <td>-0.782355</td>\n",
       "      <td>0.76093</td>\n",
       "      <td>...</td>\n",
       "      <td>-0.491326</td>\n",
       "      <td>0.546585</td>\n",
       "      <td>0.632323</td>\n",
       "      <td>-0.945257</td>\n",
       "      <td>NaN</td>\n",
       "      <td>0.075026</td>\n",
       "      <td>0.632323</td>\n",
       "      <td>-0.945257</td>\n",
       "      <td>NaN</td>\n",
       "      <td>0</td>\n",
       "    </tr>\n",
       "    <tr>\n",
       "      <th>4</th>\n",
       "      <td>0.846668</td>\n",
       "      <td>-0.739486</td>\n",
       "      <td>-0.945257</td>\n",
       "      <td>2017-01-01T17:24:44</td>\n",
       "      <td>1.275358</td>\n",
       "      <td>-1.42539</td>\n",
       "      <td>-0.945257</td>\n",
       "      <td>-0.593993</td>\n",
       "      <td>-0.782355</td>\n",
       "      <td>0.76093</td>\n",
       "      <td>...</td>\n",
       "      <td>-0.463948</td>\n",
       "      <td>0.546585</td>\n",
       "      <td>0.632323</td>\n",
       "      <td>-0.945257</td>\n",
       "      <td>NaN</td>\n",
       "      <td>0.075026</td>\n",
       "      <td>0.632323</td>\n",
       "      <td>-0.945257</td>\n",
       "      <td>NaN</td>\n",
       "      <td>0</td>\n",
       "    </tr>\n",
       "  </tbody>\n",
       "</table>\n",
       "<p>5 rows × 85 columns</p>\n",
       "</div>"
      ],
      "text/plain": [
       "   device_x  device_y  device_z                 time  beacon_9827_x  \\\n",
       "0  0.846668 -0.739486 -0.945257  2017-01-01T17:24:39       1.275358   \n",
       "1  0.846668 -0.739486 -0.945257  2017-01-01T17:24:40       1.275358   \n",
       "2  0.846668 -0.739486 -0.945257  2017-01-01T17:24:41       1.275358   \n",
       "3  0.846668 -0.739486 -0.945257  2017-01-01T17:24:42       1.275358   \n",
       "4  0.846668 -0.739486 -0.945257  2017-01-01T17:24:44       1.275358   \n",
       "\n",
       "   beacon_9827_y  beacon_9827_z  beacon_9827_d  beacon_9841_x  beacon_9841_y  \\\n",
       "0       -1.42539      -0.945257      -0.272303      -0.782355        0.76093   \n",
       "1       -1.42539      -0.945257      -0.395503      -0.782355        0.76093   \n",
       "2       -1.42539      -0.945257      -0.587148      -0.782355        0.76093   \n",
       "3       -1.42539      -0.945257      -0.587148      -0.782355        0.76093   \n",
       "4       -1.42539      -0.945257      -0.593993      -0.782355        0.76093   \n",
       "\n",
       "      ...       beacon_10197_d  beacon_10203_x  beacon_10203_y  \\\n",
       "0     ...            -0.463948        0.546585        0.632323   \n",
       "1     ...            -0.477637        0.546585        0.632323   \n",
       "2     ...            -0.477637        0.546585        0.632323   \n",
       "3     ...            -0.491326        0.546585        0.632323   \n",
       "4     ...            -0.463948        0.546585        0.632323   \n",
       "\n",
       "   beacon_10203_z  beacon_10203_d  beacon_10214_x  beacon_10214_y  \\\n",
       "0       -0.945257             NaN        0.075026        0.632323   \n",
       "1       -0.945257             NaN        0.075026        0.632323   \n",
       "2       -0.945257             NaN        0.075026        0.632323   \n",
       "3       -0.945257             NaN        0.075026        0.632323   \n",
       "4       -0.945257             NaN        0.075026        0.632323   \n",
       "\n",
       "   beacon_10214_z  beacon_10214_d  measurement  \n",
       "0       -0.945257             NaN            0  \n",
       "1       -0.945257             NaN            0  \n",
       "2       -0.945257             NaN            0  \n",
       "3       -0.945257             NaN            0  \n",
       "4       -0.945257             NaN            0  \n",
       "\n",
       "[5 rows x 85 columns]"
      ]
     },
     "execution_count": 5,
     "metadata": {},
     "output_type": "execute_result"
    }
   ],
   "source": [
    "data.head()"
   ]
  },
  {
   "cell_type": "markdown",
   "metadata": {},
   "source": [
    "## Train/Validation/Test set\n",
    "The data are split in 3 datasets. From each measurement use 80% is for training, 10% for validation and 10% for testing"
   ]
  },
  {
   "cell_type": "code",
   "execution_count": 6,
   "metadata": {
    "collapsed": true
   },
   "outputs": [],
   "source": [
    "train = pd.DataFrame()\n",
    "valid = pd.DataFrame()\n",
    "test = pd.DataFrame()\n",
    "\n",
    "for measurement in range(0,data['measurement'].max()+1):\n",
    "    subdata = data[data['measurement'] == measurement]\n",
    "    length = len(subdata.index)\n",
    "    train_idx = int(length*0.8)\n",
    "    valid_idx = int(length*0.9)\n",
    "    train = train.append(subdata.iloc[:train_idx])\n",
    "    valid = valid.append(subdata.iloc[train_idx:valid_idx])\n",
    "    test  = test.append(subdata.iloc[valid_idx:])\n"
   ]
  },
  {
   "cell_type": "code",
   "execution_count": 7,
   "metadata": {
    "collapsed": false
   },
   "outputs": [
    {
     "name": "stdout",
     "output_type": "stream",
     "text": [
      "2304 All data lines\n",
      "1837 Training data lines\n",
      "228 Validation data lines\n",
      "239 Testing data lines\n"
     ]
    }
   ],
   "source": [
    "print(len(data.index),'All data lines')\n",
    "print(len(train.index),'Training data lines')\n",
    "print(len(valid.index),'Validation data lines')\n",
    "print(len(test.index),'Testing data lines')"
   ]
  },
  {
   "cell_type": "markdown",
   "metadata": {},
   "source": [
    "## Data Augmentation\n",
    "Every timestamp has various number of beacon measurements (3-20). The input to the network will take information from ALL beacons and try to predict the location of the device.  The becons with distance equal to NaN will have cooridnates set to 0\n",
    "\n",
    "How many beacons is required to get descent output?"
   ]
  },
  {
   "cell_type": "code",
   "execution_count": 8,
   "metadata": {
    "collapsed": false,
    "scrolled": true
   },
   "outputs": [
    {
     "name": "stdout",
     "output_type": "stream",
     "text": [
      "Number of processed rows ... 0\n",
      "Number of processed rows ... 100\n",
      "Number of processed rows ... 200\n",
      "Number of processed rows ... 300\n",
      "Number of processed rows ... 400\n",
      "Number of processed rows ... 500\n",
      "Number of processed rows ... 600\n",
      "Number of processed rows ... 700\n",
      "Number of processed rows ... 800\n",
      "Number of processed rows ... 900\n",
      "Number of processed rows ... 1000\n",
      "Number of processed rows ... 1100\n",
      "Number of processed rows ... 1200\n",
      "Number of processed rows ... 1300\n",
      "Number of processed rows ... 1400\n",
      "Number of processed rows ... 1600\n",
      "Number of processed rows ... 1800\n",
      "Number of processed rows ... 2000\n",
      "Number of processed rows ... 2200\n",
      "Number of processed rows ... 1500\n",
      "Number of processed rows ... 1700\n",
      "Number of processed rows ... 1900\n",
      "Number of processed rows ... 2100\n",
      "Number of processed rows ... 2300\n"
     ]
    }
   ],
   "source": [
    "from itertools import combinations\n",
    "\n",
    "def augmented_data(in_data):\n",
    "    out_data_x = list()\n",
    "    out_data_y = list()\n",
    "    for index, row in in_data.iterrows():\n",
    "        if index % 100 == 0: print('Number of processed rows ...',index)\n",
    "        \n",
    "        # set zero to beacons coordinates & distance if distance == NaN \n",
    "        out_data_y.extend([row['device_x'],row['device_y'],row['device_z']]) \n",
    "\n",
    "        for idx,beacon in enumerate(list_beacon_d):\n",
    "            if pd.isnull(row[beacon]):\n",
    "                out_data_x.extend([0,0,0,0])\n",
    "            else:    \n",
    "                out_data_x.extend([row[list_beacon_x[idx]],row[list_beacon_y[idx]],row[list_beacon_z[idx]],row[list_beacon_d[idx]]])\n",
    "\n",
    "    out_data_x = np.reshape(out_data_x,[-1,N_beacons*4]) #all 20 beacons [x,y,z,d]            \n",
    "    out_data_y = np.reshape(out_data_y,[-1,3]) # device [x,y,z]\n",
    "    return out_data_x,out_data_y\n",
    "                \n",
    "def augmented_data_N_selected_beacons(in_data):    \n",
    "    out_data_x = list()\n",
    "    out_data_y = list()\n",
    "    for index, row in in_data.iterrows():\n",
    "        if index % 100 == 0: print('Number of processed rows ...',index)\n",
    "    \n",
    "\n",
    "        inds_dist = (np.where(row[list_beacon_d].notnull())[0]) #find distancec != NaN\n",
    "        inds_combination = list(combinations(inds_dist, N)) # create nonrepeating variations from existing distances\n",
    "        for inds in inds_combination:\n",
    "            out_data_y.extend([row['device_x'],row['device_y'],row['device_z']]) \n",
    "            for idx,beacon in enumerate(list_beacon_d):\n",
    "                if idx in inds:\n",
    "                    out_data_x.extend([row[list_beacon_x[idx]],row[list_beacon_y[idx]],row[list_beacon_z[idx]],row[list_beacon_d[idx]]])\n",
    "                else:    \n",
    "                    out_data_x.extend([0,0,0,0])\n",
    "\n",
    "    out_data_x = np.reshape(out_data_x,[-1,N_beacons*4]) #all 20 beacons [x,y,z,d]            \n",
    "    out_data_y = np.reshape(out_data_y,[-1,3]) # device [x,y,z]\n",
    "    return out_data_x,out_data_y\n",
    "\n",
    "\n",
    "#augmented_data(train[:1])\n",
    "train_x,train_y = augmented_data(train)\n",
    "val_x,val_y = augmented_data(valid)\n",
    "test_x,test_y = augmented_data(test)"
   ]
  },
  {
   "cell_type": "code",
   "execution_count": 9,
   "metadata": {
    "collapsed": false
   },
   "outputs": [
    {
     "name": "stdout",
     "output_type": "stream",
     "text": [
      "(1837, 85)\n",
      "(1837, 80)\n",
      "(228, 80)\n",
      "(239, 80)\n"
     ]
    }
   ],
   "source": [
    "print(train.shape)\n",
    "print(train_x.shape)\n",
    "print(val_x.shape)\n",
    "print(test_x.shape)"
   ]
  },
  {
   "cell_type": "markdown",
   "metadata": {},
   "source": [
    "## Visualize training data\n",
    "show a 3D scatter plot where x,y,z represents distance from beacon 1,2,3"
   ]
  },
  {
   "cell_type": "code",
   "execution_count": 10,
   "metadata": {
    "collapsed": false
   },
   "outputs": [
    {
     "name": "stdout",
     "output_type": "stream",
     "text": [
      "<class 'list'>\n"
     ]
    },
    {
     "data": {
      "text/plain": [
       "'file://C:\\\\Users\\\\E411208\\\\Documents\\\\Python Scripts\\\\Beacon\\\\train-data.html'"
      ]
     },
     "execution_count": 10,
     "metadata": {},
     "output_type": "execute_result"
    }
   ],
   "source": [
    "data = list()\n",
    "# select the points with same coordinates\n",
    "single_points = np.unique(test_y,axis=0)\n",
    "for point in single_points[:,:]:\n",
    "    # select all points for the distance of respective beacon\n",
    "    # test_x = [b1_x,b1_y,b1_z,b1_d,b2_x,b2_y,b2_z,b2_d,b3_x,b3_y,b3_z,b3_d]\n",
    "    b1 = np.transpose(train_x[:,3])*std_distances + mean_distances\n",
    "    b2 = np.transpose(train_x[:,7])*std_distances + mean_distances\n",
    "    b3 = np.transpose(train_x[:,11])*std_distances + mean_distances\n",
    "    \n",
    "    # find distances for selected points\n",
    "    idx = np.where(np.all(train_y == point,axis=-1))\n",
    "    \n",
    "    ########################\n",
    "    # save data to Plotly\n",
    "    ########################\n",
    "    trace = go.Scatter3d(\n",
    "        x=b1[idx],\n",
    "        y=b2[idx],\n",
    "        z=b3[idx],\n",
    "        mode='markers',\n",
    "        marker=dict(\n",
    "            size=12,\n",
    "            line=dict(\n",
    "                color=np.random.randn(500),\n",
    "                colorscale='Viridis',\n",
    "                width=0\n",
    "            ),\n",
    "            opacity=0.3\n",
    "        )\n",
    "    )\n",
    "\n",
    "    data.append(trace)\n",
    "\n",
    "#########################\n",
    "# create layout and graph\n",
    "#########################\n",
    "print(type(data))\n",
    "layout = go.Layout(\n",
    "    margin=dict(\n",
    "        l=0,\n",
    "        r=0,\n",
    "        b=0,\n",
    "        t=0\n",
    "    )\n",
    ")\n",
    "fig = plotly.graph_objs.Figure(\n",
    "    data=data,\n",
    "    layout=layout\n",
    ")\n",
    "plotly.offline.plot(fig,filename='train-data.html')"
   ]
  },
  {
   "cell_type": "code",
   "execution_count": 11,
   "metadata": {
    "collapsed": false
   },
   "outputs": [
    {
     "data": {
      "text/html": [
       "<iframe id=\"plot\" src=\"train-data.html\" seamless></iframe>\n",
       "\n",
       "<style type=\"text/css\">\n",
       "iframe{\n",
       "  width: 800px;\n",
       "  height: 600px;\n",
       "  border : none;\n",
       "  z-index: 2;\n",
       "}"
      ],
      "text/plain": [
       "<IPython.core.display.HTML object>"
      ]
     },
     "metadata": {},
     "output_type": "display_data"
    }
   ],
   "source": [
    "%%HTML\n",
    "<iframe id=\"plot\" src=\"train-data.html\" seamless></iframe>\n",
    "\n",
    "<style type=\"text/css\">\n",
    "iframe{\n",
    "  width: 800px;\n",
    "  height: 600px;\n",
    "  border : none;\n",
    "  z-index: 2;\n",
    "}"
   ]
  },
  {
   "cell_type": "markdown",
   "metadata": {},
   "source": [
    "# Neural Network\n",
    "Construct a network that takes on input signals from 3 beacons and their x,y,z coordinates + distance, have one nonlinear hidden layer and output x,y,z, coordinates of the device"
   ]
  },
  {
   "cell_type": "code",
   "execution_count": 12,
   "metadata": {
    "collapsed": true
   },
   "outputs": [],
   "source": [
    "# Remove previous weights, bias, inputs, etc..\n",
    "tf.reset_default_graph()\n",
    "\n",
    "learning_rate = 0.001;\n",
    "num_outputs = 3;\n",
    "\n",
    "x = tf.placeholder('float32',[None,N_beacons*4])\n",
    "y = tf.placeholder('float32',[None,num_outputs])\n",
    "\n",
    "#####################################\n",
    "## Create the Neural Network Model ##\n",
    "#####################################\n",
    "\n",
    "def fully_conn(input, hiddens):\n",
    "    input_shape = input.get_shape().as_list()\n",
    "    std_init = 1/np.sqrt(input_shape[1])\n",
    "    weight = tf.Variable(tf.truncated_normal([input_shape[1],hiddens], stddev=std_init)) \n",
    "    bias = tf.Variable(tf.constant(0.1, shape=[hiddens]))\n",
    "    full_bias = tf.add(tf.matmul(input,weight),bias,name='full_bias')\n",
    "    return tf.nn.elu(full_bias,name='fc_relu')\n",
    "\n",
    "def output(input, num_outputs):\n",
    "    input_shape = input.get_shape().as_list()\n",
    "    std_init = 1/np.sqrt(input_shape[1])\n",
    "    weight = tf.Variable(tf.truncated_normal([input_shape[1],num_outputs], stddev=std_init)) \n",
    "    return tf.matmul(input,weight, name='output')    \n",
    "\n",
    "def network(input,num_outputs):\n",
    "    hidden1 = fully_conn(input,20)\n",
    "    hidden2 = fully_conn(hidden1,50)\n",
    "    hidden3 = fully_conn(hidden2,100)\n",
    "    out = output(hidden3,num_outputs)\n",
    "    return out\n",
    "\n",
    "##############################\n",
    "## Build the Neural Network ##\n",
    "##############################\n",
    "\n",
    "# Model predicting the x,y,z of the device\n",
    "pred =  network(x,num_outputs)\n",
    "\n",
    "# Loss and Optimizer\n",
    "cost = tf.reduce_mean(tf.square(pred - y))\n",
    "optimizer = tf.train.AdamOptimizer(learning_rate).minimize(cost)\n"
   ]
  },
  {
   "cell_type": "markdown",
   "metadata": {},
   "source": [
    "## Prepare batches for training"
   ]
  },
  {
   "cell_type": "code",
   "execution_count": 13,
   "metadata": {
    "collapsed": true
   },
   "outputs": [],
   "source": [
    "def get_batches(x, y, n_batches=20):\n",
    "    \"\"\" Return a generator that yields batches from arrays x and y. \"\"\"\n",
    "    batch_size = len(x)//n_batches\n",
    "    \n",
    "    for ii in range(0, n_batches*batch_size, batch_size):\n",
    "        # If we're not on the last batch, grab data with size batch_size\n",
    "        if ii != (n_batches-1)*batch_size:\n",
    "            X, Y = x[ii: ii+batch_size], y[ii: ii+batch_size] \n",
    "        # On the last batch, grab the rest of the data\n",
    "        else: X, Y = x[ii:], y[ii:]\n",
    "        # I love generators\n",
    "        yield X, Y"
   ]
  },
  {
   "cell_type": "markdown",
   "metadata": {},
   "source": [
    "## Network training"
   ]
  },
  {
   "cell_type": "code",
   "execution_count": null,
   "metadata": {
    "collapsed": false,
    "scrolled": true
   },
   "outputs": [],
   "source": [
    "all_iteration = list()\n",
    "all_train_loss = list()\n",
    "all_val_loss = list()\n",
    "epochs = 700\n",
    "iteration = 0\n",
    "saver = tf.train.Saver()\n",
    "with tf.Session() as sess:\n",
    "    \n",
    "    sess.run(tf.global_variables_initializer())\n",
    "    for e in range(epochs):\n",
    "        for t_x, t_y in get_batches(train_x, train_y):\n",
    "            feed = {x: t_x.astype(np.float32), \n",
    "                    y: t_y.astype(np.float32)}\n",
    "            loss, _ = sess.run([cost, optimizer], feed_dict=feed)\n",
    "#             print(\"Epoch: {}/{}\".format(e+1, epochs),\n",
    "#                   \"Iteration: {}\".format(iteration),\n",
    "#                   \"Training loss: {:.5f}\".format(loss))\n",
    "            iteration += 1\n",
    "            \n",
    "            if iteration % 100 == 0:\n",
    "                all_iteration.append(iteration)\n",
    "                feed = {x: train_x,\n",
    "                        y: train_y}\n",
    "                train_loss = sess.run(cost, feed_dict=feed)  \n",
    "                all_train_loss.append(train_loss)\n",
    "                feed = {x: val_x,\n",
    "                        y: val_y}\n",
    "                val_loss = sess.run(cost, feed_dict=feed)\n",
    "                all_val_loss.append(val_loss)\n",
    "                print(\"Epoch: {}/{}\".format(e, epochs),\n",
    "                      \"Iteration: {}\".format(iteration),\n",
    "                      \"Training loss: {:.5f}\".format(train_loss),\n",
    "                      \"Validation loss: {:.4f}\".format(val_loss))\n",
    "    saver.save(sess, \"checkpoints-prediction/dev_loc.ckpt\")"
   ]
  },
  {
   "cell_type": "markdown",
   "metadata": {},
   "source": [
    "### visualize training/validation Loss"
   ]
  },
  {
   "cell_type": "code",
   "execution_count": null,
   "metadata": {
    "collapsed": false
   },
   "outputs": [],
   "source": [
    "plt.plot(all_iteration,all_train_loss,label='train loss')\n",
    "plt.plot(all_iteration,all_val_loss, label='validation loss')\n",
    "plt.legend()"
   ]
  },
  {
   "cell_type": "markdown",
   "metadata": {},
   "source": [
    "## TEST NETWORK - Check the result on testing data "
   ]
  },
  {
   "cell_type": "code",
   "execution_count": 17,
   "metadata": {
    "collapsed": false
   },
   "outputs": [
    {
     "name": "stdout",
     "output_type": "stream",
     "text": [
      "INFO:tensorflow:Restoring parameters from checkpoints-prediction\\dev_loc.ckpt\n",
      "Test loss: 0.0321\n"
     ]
    }
   ],
   "source": [
    "with tf.Session() as sess:\n",
    "    saver.restore(sess, tf.train.latest_checkpoint('checkpoints-prediction'))\n",
    "    \n",
    "    feed = {x: test_x,\n",
    "            y: test_y}\n",
    "    out = sess.run(pred, feed_dict=feed)\n",
    "    test_loss = sess.run(cost, feed_dict=feed)\n",
    "    print(\"Test loss: {:.4f}\".format(test_loss))"
   ]
  },
  {
   "cell_type": "markdown",
   "metadata": {},
   "source": [
    "### visualize prediction results"
   ]
  },
  {
   "cell_type": "code",
   "execution_count": 18,
   "metadata": {
    "collapsed": false
   },
   "outputs": [
    {
     "data": {
      "text/plain": [
       "[<matplotlib.lines.Line2D at 0xe679f28>]"
      ]
     },
     "execution_count": 18,
     "metadata": {},
     "output_type": "execute_result"
    },
    {
     "data": {
      "image/png": "[encoded data removed]",
      "text/plain": [
       "<matplotlib.figure.Figure at 0xe679898>"
      ]
     },
     "metadata": {},
     "output_type": "display_data"
    }
   ],
   "source": [
    "# epoch 1000, learning 0.001, hidden 20/50/100 ... only All available beacons used for testing\n",
    "\n",
    "plt.plot(out[:,0]*std_coordinates + mean_coordinates,\n",
    "         out[:,1]*std_coordinates + mean_coordinates,\n",
    "         linestyle='None',\n",
    "         marker='o')\n",
    "#test.plot(x='device_x', y='device_y',linestyle=None,marker='o')\n",
    "plt.plot(test_y[:,0]*std_coordinates + mean_coordinates,test_y[:,1]*std_coordinates + mean_coordinates,marker='o',linestyle='None')"
   ]
  },
  {
   "cell_type": "code",
   "execution_count": 19,
   "metadata": {
    "collapsed": false
   },
   "outputs": [
    {
     "data": {
      "text/plain": [
       "[<matplotlib.lines.Line2D at 0xc825198>]"
      ]
     },
     "execution_count": 19,
     "metadata": {},
     "output_type": "execute_result"
    },
    {
     "data": {
      "image/png": "[encoded data removed]",
      "text/plain": [
       "<matplotlib.figure.Figure at 0xc8254e0>"
      ]
     },
     "metadata": {},
     "output_type": "display_data"
    }
   ],
   "source": [
    "# visualize single point and its prediction\n",
    "\n",
    "single_points = np.unique(test_y,axis=0)\n",
    "#print(single_points)\n",
    "point = single_points[0,:]\n",
    "idx = np.where(np.all(test_y == point,axis=-1))\n",
    "x = np.transpose(out[idx,0])\n",
    "y = np.transpose(out[idx,1])\n",
    "plt.plot(x*std_coordinates + mean_coordinates,y*std_coordinates + mean_coordinates,linestyle='None',marker='o')\n",
    "plt.plot(point[0]*std_coordinates + mean_coordinates,point[1]*std_coordinates + mean_coordinates,linestyle='None',marker='o')"
   ]
  },
  {
   "cell_type": "code",
   "execution_count": 20,
   "metadata": {
    "collapsed": false
   },
   "outputs": [
    {
     "data": {
      "text/plain": [
       "'file://C:\\\\Users\\\\E411208\\\\Documents\\\\Python Scripts\\\\Beacon\\\\test-results.html'"
      ]
     },
     "execution_count": 20,
     "metadata": {},
     "output_type": "execute_result"
    }
   ],
   "source": [
    "trace1 = go.Scatter(\n",
    "    x = out[:,0]*std_coordinates + mean_coordinates,\n",
    "    y = out[:,1]*std_coordinates + mean_coordinates,\n",
    "    mode = 'markers',\n",
    "    text= test.index\n",
    ")\n",
    "\n",
    "trace2 = go.Scatter(\n",
    "    x = test_y[:,0]*std_coordinates + mean_coordinates,\n",
    "    y = test_y[:,1]*std_coordinates + mean_coordinates,\n",
    "    mode = 'markers'\n",
    ")\n",
    "\n",
    "\n",
    "data1 = [trace1, trace2]\n",
    "\n",
    "layout1 = go.Layout( \n",
    "    title=\"testing results\", \n",
    "    hovermode ='closest',\n",
    ")    \n",
    "\n",
    "fig = plotly.graph_objs.Figure(\n",
    "    data=data1,\n",
    "    layout=layout1\n",
    ")\n",
    "plotly.offline.plot(fig,filename='test-results.html')"
   ]
  },
  {
   "cell_type": "code",
   "execution_count": 21,
   "metadata": {
    "collapsed": false
   },
   "outputs": [
    {
     "data": {
      "text/plain": [
       "'file://C:\\\\Users\\\\E411208\\\\Documents\\\\Python Scripts\\\\Beacon\\\\test-inputs.html'"
      ]
     },
     "execution_count": 21,
     "metadata": {},
     "output_type": "execute_result"
    }
   ],
   "source": [
    "idx_b = 3\n",
    "data_test = list()\n",
    "for idx,each in  enumerate(list_beacon_d):\n",
    "    #label = 'x' + (test[list_beacon_x[idx]]*std_coordinates + mean_coordinates).map(str) + ' y'+ (test[\"device_y\"]*std_coordinates + mean_coordinates).map(str)\n",
    "    #out = (test_y[:,0]*std_coordinates + mean_coordinates).astype('str') \n",
    "    labelx = [\"%.2f\" % x for x in out[:,0]*std_coordinates + mean_coordinates]\n",
    "    labely = [\"%.2f\" % x for x in out[:,1]*std_coordinates + mean_coordinates]\n",
    "    label = ['x' + i+' y'+j for i,j in zip(labelx,labely)]\n",
    "    trace = go.Scatter(\n",
    "        x = test.index,\n",
    "        y = test_x[:,idx_b]*std_distances + mean_distances,\n",
    "        mode = 'markers+lines',\n",
    "        name = each,\n",
    "        text = label\n",
    "    )\n",
    "    \n",
    "    data_test.append(trace)\n",
    "    idx_b += 4\n",
    "\n",
    "\n",
    "layout = go.Layout( \n",
    "    title=\"testing inputs\", \n",
    "    hovermode ='closest',\n",
    ")    \n",
    "\n",
    "fig = plotly.graph_objs.Figure(\n",
    "    data=data_test,\n",
    "    layout=layout\n",
    ")\n",
    "plotly.offline.plot(fig,filename='test-inputs.html')"
   ]
  },
  {
   "cell_type": "code",
   "execution_count": 22,
   "metadata": {
    "collapsed": false
   },
   "outputs": [
    {
     "data": {
      "text/html": [
       "<iframe id=\"plot\" src=\"test-results.html\" seamless></iframe>\n",
       "<iframe id=\"plot\" src=\"test-inputs.html\" seamless></iframe>\n",
       "\n",
       "<style type=\"text/css\">\n",
       "iframe{\n",
       "  width: 800px;\n",
       "  height: 600px;\n",
       "  border : none;\n",
       "  z-index: 2;\n",
       "}"
      ],
      "text/plain": [
       "<IPython.core.display.HTML object>"
      ]
     },
     "metadata": {},
     "output_type": "display_data"
    }
   ],
   "source": [
    "%%HTML\n",
    "<iframe id=\"plot\" src=\"test-results.html\" seamless></iframe>\n",
    "<iframe id=\"plot\" src=\"test-inputs.html\" seamless></iframe>\n",
    "\n",
    "<style type=\"text/css\">\n",
    "iframe{\n",
    "  width: 800px;\n",
    "  height: 600px;\n",
    "  border : none;\n",
    "  z-index: 2;\n",
    "}"
   ]
  },
  {
   "cell_type": "code",
   "execution_count": null,
   "metadata": {
    "collapsed": true
   },
   "outputs": [],
   "source": [
    "#help(plotly.offline.plot)"
   ]
  },
  {
   "cell_type": "markdown",
   "metadata": {},
   "source": [
    "## Show prediction in time"
   ]
  },
  {
   "cell_type": "code",
   "execution_count": null,
   "metadata": {
    "collapsed": false
   },
   "outputs": [],
   "source": [
    "trace1 = go.Scatter3d(\n",
    "    x = out[:,0]*std_coordinates + mean_coordinates,\n",
    "    y = out[:,1]*std_coordinates + mean_coordinates,\n",
    "    z = test.index,\n",
    "    mode = 'markers+lines',\n",
    ")\n",
    "\n",
    "data1 = [trace1]\n",
    "\n",
    "layout1 = go.Layout( \n",
    "    title=\"testing results\", \n",
    "    hovermode ='closest',\n",
    ")    \n",
    "\n",
    "fig = plotly.graph_objs.Figure(\n",
    "    data=data1,\n",
    "    layout=layout1\n",
    ")\n",
    "plotly.offline.plot(fig,filename='test-prediction-3D.html')"
   ]
  },
  {
   "cell_type": "code",
   "execution_count": 14,
   "metadata": {
    "collapsed": false
   },
   "outputs": [
    {
     "name": "stdout",
     "output_type": "stream",
     "text": [
      "INFO:tensorflow:Restoring parameters from checkpoints-prediction\\dev_loc.ckpt\n",
      "Test loss: 0.0151\n"
     ]
    }
   ],
   "source": [
    "saver = tf.train.Saver()\n",
    "with tf.Session() as sess:\n",
    "    saver.restore(sess, tf.train.latest_checkpoint('checkpoints-prediction'))\n",
    "    \n",
    "    feed = {x: train_x,\n",
    "            y: train_y}\n",
    "    out_train = sess.run(pred, feed_dict=feed)\n",
    "    test_loss = sess.run(cost, feed_dict=feed)\n",
    "    print(\"Test loss: {:.4f}\".format(test_loss))"
   ]
  },
  {
   "cell_type": "code",
   "execution_count": 15,
   "metadata": {
    "collapsed": false
   },
   "outputs": [
    {
     "data": {
      "text/plain": [
       "'file://C:\\\\Users\\\\E411208\\\\Documents\\\\Python Scripts\\\\Beacon\\\\train-prediction.html'"
      ]
     },
     "execution_count": 15,
     "metadata": {},
     "output_type": "execute_result"
    }
   ],
   "source": [
    "trace1 = go.Scatter(\n",
    "    x = train.index,\n",
    "    y = out_train[:,0]*std_coordinates + mean_coordinates,\n",
    "    mode = 'markers+lines',\n",
    ")\n",
    "\n",
    "trace2 = go.Scatter(\n",
    "    x = train.index,\n",
    "    y = out_train[:,1]*std_coordinates + mean_coordinates,\n",
    "    mode = 'markers+lines',\n",
    ")\n",
    "\n",
    "data1 = [trace1,trace2]\n",
    "\n",
    "layout1 = go.Layout( \n",
    "    title=\"training predictions\", \n",
    "    hovermode ='closest',\n",
    ") \n",
    "\n",
    "fig = plotly.graph_objs.Figure(\n",
    "    data=data1,\n",
    "    layout=layout1\n",
    ")\n",
    "plotly.offline.plot(fig,filename='train-prediction.html')"
   ]
  },
  {
   "cell_type": "code",
   "execution_count": 16,
   "metadata": {
    "collapsed": false
   },
   "outputs": [
    {
     "data": {
      "text/html": [
       "<iframe id=\"plot\" src=\"train-prediction.html\" seamless></iframe>\n",
       "\n",
       "<style type=\"text/css\">\n",
       "iframe{\n",
       "  width: 800px;\n",
       "  height: 600px;\n",
       "  border : none;\n",
       "  z-index: 2;\n",
       "}"
      ],
      "text/plain": [
       "<IPython.core.display.HTML object>"
      ]
     },
     "metadata": {},
     "output_type": "display_data"
    }
   ],
   "source": [
    "%%HTML\n",
    "<iframe id=\"plot\" src=\"train-prediction.html\" seamless></iframe>\n",
    "\n",
    "<style type=\"text/css\">\n",
    "iframe{\n",
    "  width: 800px;\n",
    "  height: 600px;\n",
    "  border : none;\n",
    "  z-index: 2;\n",
    "}"
   ]
  },
  {
   "cell_type": "code",
   "execution_count": null,
   "metadata": {
    "collapsed": true
   },
   "outputs": [],
   "source": []
  }
 ],
 "metadata": {
  "anaconda-cloud": {},
  "kernelspec": {
   "display_name": "Python [default]",
   "language": "python",
   "name": "python3"
  },
  "language_info": {
   "codemirror_mode": {
    "name": "ipython",
    "version": 3
   },
   "file_extension": ".py",
   "mimetype": "text/x-python",
   "name": "python",
   "nbconvert_exporter": "python",
   "pygments_lexer": "ipython3",
   "version": "3.5.2"
  }
 },
 "nbformat": 4,
 "nbformat_minor": 2
}
