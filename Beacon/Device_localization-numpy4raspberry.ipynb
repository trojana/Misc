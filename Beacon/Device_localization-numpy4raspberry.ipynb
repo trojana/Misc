{
 "cells": [
  {
   "cell_type": "markdown",
   "metadata": {},
   "source": [
    "# Load Network from Numpy and run it\n",
    "Load the weights and biases. Then run the network using only NUMPY\n"
   ]
  },
  {
   "cell_type": "code",
   "execution_count": 23,
   "metadata": {
    "collapsed": true
   },
   "outputs": [],
   "source": [
    "import numpy as np"
   ]
  },
  {
   "cell_type": "markdown",
   "metadata": {},
   "source": [
    "## Load the model & testing data\n"
   ]
  },
  {
   "cell_type": "code",
   "execution_count": 24,
   "metadata": {},
   "outputs": [],
   "source": [
    "weight_1 = np.load('checkpoints-softmax-numpy/weight_1.npy')\n",
    "bias_1   = np.load('checkpoints-softmax-numpy/bias_1.npy')\n",
    "weight_2 = np.load('checkpoints-softmax-numpy/weight_2.npy')\n",
    "bias_2   = np.load('checkpoints-softmax-numpy/bias_2.npy')\n",
    "weight_3 = np.load('checkpoints-softmax-numpy/weight_3.npy')\n",
    "bias_3   = np.load('checkpoints-softmax-numpy/bias_3.npy')\n",
    "output   = np.load('checkpoints-softmax-numpy/output.npy')"
   ]
  },
  {
   "cell_type": "code",
   "execution_count": 25,
   "metadata": {
    "collapsed": true
   },
   "outputs": [],
   "source": [
    "test_x = np.load('checkpoints-softmax-numpy/test_x.npy')\n",
    "test_y = np.load('checkpoints-softmax-numpy/test_y.npy')"
   ]
  },
  {
   "cell_type": "markdown",
   "metadata": {},
   "source": [
    "## Run the model for selected sample\n",
    "activation by ELU (exponential linear unit) http://saikatbasak.in/sigmoid-vs-relu-vs-elu/\n",
    "ELU helps to learn representations that are more robust to noise."
   ]
  },
  {
   "cell_type": "code",
   "execution_count": 33,
   "metadata": {},
   "outputs": [],
   "source": [
    "def elu(arr):\n",
    "    a = []\n",
    "    for x in arr:\n",
    "        if x >= 0: \n",
    "            a.append(x)\n",
    "        else:\n",
    "            a.append(np.exp(x)-1)\n",
    "    return a\n",
    "\n",
    "\n",
    "def softmax(x):\n",
    "    \"\"\"Compute softmax values for each sets of scores in x.\"\"\"\n",
    "    e_x = np.exp(x - np.max(x))\n",
    "    return e_x / e_x.sum(axis=0) \n",
    "\n",
    "def network(x):\n",
    "    layer1 = np.dot(x,weight_1) + bias_1\n",
    "    #layer1_relu = np.maximum(layer1, 0, layer1)\n",
    "    layer1_elu = elu(layer1)\n",
    "    layer2 = np.dot(layer1_elu,weight_2) + bias_2\n",
    "    #layer2_relu = np.maximum(layer2, 0, layer2)\n",
    "    layer2_elu = elu(layer2)\n",
    "    layer3 = np.dot(layer2_elu,weight_3) + bias_3\n",
    "    #layer3_relu = np.maximum(layer3, 0, layer3)\n",
    "    layer3_elu = elu(layer3)\n",
    "    return softmax(np.dot(layer3_elu,output))\n",
    "    "
   ]
  },
  {
   "cell_type": "code",
   "execution_count": 34,
   "metadata": {},
   "outputs": [],
   "source": [
    "out_all = list()\n",
    "for row in test_x:\n",
    "    out = network(row)\n",
    "    out_all.append(out.argmax())\n",
    "    #print(out)\n",
    "    #print('grid # ',out.argmax())"
   ]
  },
  {
   "cell_type": "code",
   "execution_count": 35,
   "metadata": {},
   "outputs": [
    {
     "name": "stdout",
     "output_type": "stream",
     "text": [
      "[0, 0, 0, 5, 0, 0, 0, 0, 0, 0, 0, 0, 0, 0, 0, 0, 0, 0, 0, 0, 0, 0, 0, 0, 0, 0, 0, 0, 0, 0, 0, 0, 0, 0, 0, 0, 0, 0, 0, 1, 1, 1, 1, 1, 1, 1, 1, 1, 1, 1, 1, 1, 1, 1, 1, 1, 1, 1, 1, 1, 1, 1, 0, 1, 1, 1, 1, 1, 1, 1, 1, 1, 1, 0, 1, 1, 1, 1, 1, 2, 2, 2, 2, 2, 2, 2, 2, 2, 2, 2, 2, 2, 2, 2, 2, 2, 2, 2, 2, 2, 2, 2, 3, 2, 2, 2, 2, 2, 2, 2, 2, 2, 3, 2, 2, 2, 2, 2, 2, 3, 3, 3, 3, 3, 3, 3, 3, 3, 3, 3, 3, 3, 3, 3, 3, 3, 3, 3, 3, 3, 3, 3, 3, 3, 3, 3, 3, 3, 5, 3, 3, 3, 3, 3, 3, 3, 3, 3, 3, 4, 4, 4, 4, 4, 4, 4, 4, 4, 4, 4, 4, 4, 4, 4, 4, 4, 4, 4, 5, 4, 4, 4, 4, 4, 3, 4, 4, 4, 4, 4, 4, 4, 4, 4, 4, 4, 4, 4, 4, 5, 5, 5, 5, 5, 0, 5, 5, 5, 5, 5, 5, 5, 5, 5, 5, 4, 5, 5, 4, 5, 5, 5, 4, 5, 5, 5, 5, 5, 5, 5, 5, 5, 5, 4, 5, 5, 5, 5, 5]\n"
     ]
    }
   ],
   "source": [
    "print(out_all)"
   ]
  },
  {
   "cell_type": "markdown",
   "metadata": {},
   "source": [
    "### expected output\n",
    "[0 0 0 5 0 0 0 0 0 0 0 0 0 0 0 0 0 0 0 0 0 0 0 0 0 0 0 0 0 0 0 0 0 0 0 0 0\n",
    " 0 0 1 1 1 1 1 1 1 1 1 1 1 1 1 1 1 1 1 1 1 1 1 1 1 0 1 1 1 1 1 1 1 1 1 1 0\n",
    " 1 1 1 1 1 2 2 2 2 2 2 2 2 2 2 2 2 2 2 2 2 2 2 2 2 2 2 2 3 2 2 2 2 2 2 2 2\n",
    " 2 3 2 2 2 2 2 2 3 3 3 3 3 3 3 3 3 3 3 3 3 3 3 3 3 3 3 3 3 3 3 3 3 3 3 3 3\n",
    " 5 3 3 3 3 3 3 3 3 3 3 4 4 4 4 4 4 4 4 4 4 4 4 4 4 4 4 4 4 4 5 4 4 4 4 4 3\n",
    " 4 4 4 4 4 4 4 4 4 4 4 4 4 4 5 5 5 5 5 0 5 5 5 5 5 5 5 5 5 5 4 5 5 4 5 5 5\n",
    " 4 5 5 5 5 5 5 5 5 5 5 4 5 5 5 5 5]"
   ]
  }
 ],
 "metadata": {
  "kernelspec": {
   "display_name": "Python 3",
   "language": "python",
   "name": "python3"
  },
  "language_info": {
   "codemirror_mode": {
    "name": "ipython",
    "version": 3
   },
   "file_extension": ".py",
   "mimetype": "text/x-python",
   "name": "python",
   "nbconvert_exporter": "python",
   "pygments_lexer": "ipython3",
   "version": "3.6.1"
  }
 },
 "nbformat": 4,
 "nbformat_minor": 2
}
